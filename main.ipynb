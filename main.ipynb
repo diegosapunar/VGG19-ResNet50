{
 "cells": [
  {
   "cell_type": "markdown",
   "metadata": {},
   "source": [
    "# TAREA 1: REDES NEURONALES CONVOLUCIONALES (CCNS)"
   ]
  },
  {
   "cell_type": "markdown",
   "metadata": {},
   "source": [
    "**Diego Andrés Sapunar Opazo**\n",
    "\n",
    "**Fecha de Entrega: 24 de Abril**"
   ]
  },
  {
   "cell_type": "markdown",
   "metadata": {
    "heading_collapsed": true
   },
   "source": [
    "## Objetivo"
   ]
  },
  {
   "cell_type": "markdown",
   "metadata": {
    "hidden": true
   },
   "source": [
    "Estimad@s, en esta actividad tendrán la oportunidad de poner en práctica sus conocimientos sobre aprendizaje profundo (deep learning). En particular, podrán experimentar con las técnicas que discutimos en clases para implementar Redes Neuronales Convolucionales (Convolutional Neural Nets o CNNs). Adicionalmente podrán ver en vivo y en directo el poder de las GPUs para acelerar el entrenamiento de redes de aprendizaje profundo.\n"
   ]
  },
  {
   "cell_type": "markdown",
   "metadata": {
    "heading_collapsed": true
   },
   "source": [
    "## Parte 0: Import Packages"
   ]
  },
  {
   "cell_type": "code",
   "execution_count": 1,
   "metadata": {
    "hidden": true
   },
   "outputs": [
    {
     "name": "stderr",
     "output_type": "stream",
     "text": [
      "Using TensorFlow backend.\n"
     ]
    }
   ],
   "source": [
    "#Definicion de librerias con la funciones que seran utilizadas por Keras.\n",
    "\n",
    "import GPUtil as GPU\n",
    "import keras\n",
    "from keras.models import Sequential, Model\n",
    "from keras.layers import Conv2D, MaxPooling2D, Dense, Activation, Dropout, Flatten,GlobalAveragePooling2D \n",
    "from keras.callbacks import ModelCheckpoint\n",
    "\n",
    "from keras.preprocessing.image import ImageDataGenerator\n",
    "\n",
    "import os\n",
    "\n",
    "import shutil\n",
    "\n",
    "from keras import applications\n",
    "\n",
    "import pickle\n",
    "import psutil\n",
    "import humanize\n",
    "\n",
    "%matplotlib inline\n",
    "from matplotlib import pyplot as plt\n"
   ]
  },
  {
   "cell_type": "code",
   "execution_count": 2,
   "metadata": {
    "hidden": true
   },
   "outputs": [
    {
     "name": "stdout",
     "output_type": "stream",
     "text": [
      "Gen RAM Free: 30.2 GB  | Proc size: 288.8 MB\n",
      "GPU RAM Free: 10680MB | Used: 495MB | Util   4% | Total 11175MB\n"
     ]
    }
   ],
   "source": [
    "# https://stackoverflow.com/questions/48750199/google-colaboratory-misleading-information-about-its-gpu-only-5-ram-available\n",
    "GPUs = GPU.getGPUs()\n",
    "gpu = GPUs[0] # we have only one GPU @ SCL host\n",
    "def printm():\n",
    "    process = psutil.Process(os.getpid())\n",
    "    print(\"Gen RAM Free: \" + humanize.naturalsize( psutil.virtual_memory().available ), \" | Proc size: \" + humanize.naturalsize( process.memory_info().rss))\n",
    "    print(\"GPU RAM Free: {0:.0f}MB | Used: {1:.0f}MB | Util {2:3.0f}% | Total {3:.0f}MB\".format(gpu.memoryFree, gpu.memoryUsed, gpu.memoryUtil*100, gpu.memoryTotal))\n",
    "printm()"
   ]
  },
  {
   "cell_type": "markdown",
   "metadata": {
    "heading_collapsed": true
   },
   "source": [
    "## Parte 1: VGG-19 (30%)"
   ]
  },
  {
   "cell_type": "code",
   "execution_count": 57,
   "metadata": {
    "hidden": true
   },
   "outputs": [],
   "source": [
    "# Definicion de contenedor\n",
    "\n",
    "modelVGG19 = Sequential()"
   ]
  },
  {
   "cell_type": "code",
   "execution_count": 58,
   "metadata": {
    "hidden": true
   },
   "outputs": [
    {
     "name": "stdout",
     "output_type": "stream",
     "text": [
      "Before Max-Pooling (None, 224, 224, 64)\n",
      "After Max-Pooling:  (None, 112, 112, 64)\n"
     ]
    }
   ],
   "source": [
    "# Primer bloque de VGG19.\n",
    "\n",
    "modelVGG19.add(Conv2D(64, (3, 3), input_shape=(224, 224, 3), strides=(1, 1), \n",
    "                      activation=\"relu\", padding=\"same\", name='conv1_1'))\n",
    "modelVGG19.add(Conv2D(64, (3, 3), strides=(1, 1), activation=\"relu\", \n",
    "                      padding=\"same\", name='conv1_2'))\n",
    "print('Before Max-Pooling', modelVGG19.output_shape) # dims de la red antes de MaxPooling \n",
    "modelVGG19.add(MaxPooling2D((2,2), strides=(2,2), name='maxpool1')) \n",
    "print('After Max-Pooling: ', modelVGG19.output_shape) # dims de la red despues de MaxPooling"
   ]
  },
  {
   "cell_type": "code",
   "execution_count": 59,
   "metadata": {
    "hidden": true
   },
   "outputs": [
    {
     "name": "stdout",
     "output_type": "stream",
     "text": [
      "_________________________________________________________________\n",
      "Layer (type)                 Output Shape              Param #   \n",
      "=================================================================\n",
      "conv1_1 (Conv2D)             (None, 224, 224, 64)      1792      \n",
      "_________________________________________________________________\n",
      "conv1_2 (Conv2D)             (None, 224, 224, 64)      36928     \n",
      "_________________________________________________________________\n",
      "maxpool1 (MaxPooling2D)      (None, 112, 112, 64)      0         \n",
      "=================================================================\n",
      "Total params: 38,720\n",
      "Trainable params: 38,720\n",
      "Non-trainable params: 0\n",
      "_________________________________________________________________\n"
     ]
    }
   ],
   "source": [
    "# Summary primer bloque\n",
    "\n",
    "modelVGG19.summary()"
   ]
  },
  {
   "cell_type": "markdown",
   "metadata": {
    "heading_collapsed": true,
    "hidden": true
   },
   "source": [
    "### Actividad 1"
   ]
  },
  {
   "cell_type": "code",
   "execution_count": 60,
   "metadata": {
    "hidden": true
   },
   "outputs": [
    {
     "name": "stdout",
     "output_type": "stream",
     "text": [
      "Before Max-Pooling (None, 112, 112, 128)\n",
      "After Max-Pooling:  (None, 56, 56, 128)\n"
     ]
    }
   ],
   "source": [
    "# Segundo bloque de VGG19.\n",
    "\n",
    "modelVGG19.add(Conv2D(128, (3, 3), strides=(1, 1), \n",
    "                      activation=\"relu\", padding=\"same\", name='conv2_1'))\n",
    "modelVGG19.add(Conv2D(128, (3, 3), strides=(1, 1), \n",
    "                      activation=\"relu\", padding=\"same\", name='conv2_2'))\n",
    "\n",
    "print('Before Max-Pooling', modelVGG19.output_shape) # dims de la red antes de MaxPooling \n",
    "modelVGG19.add(MaxPooling2D((2,2), strides=(2,2), name='maxpool2'))\n",
    "print('After Max-Pooling: ', modelVGG19.output_shape) # dims de la red despues de MaxPooling"
   ]
  },
  {
   "cell_type": "code",
   "execution_count": 61,
   "metadata": {
    "hidden": true
   },
   "outputs": [
    {
     "name": "stdout",
     "output_type": "stream",
     "text": [
      "_________________________________________________________________\n",
      "Layer (type)                 Output Shape              Param #   \n",
      "=================================================================\n",
      "conv1_1 (Conv2D)             (None, 224, 224, 64)      1792      \n",
      "_________________________________________________________________\n",
      "conv1_2 (Conv2D)             (None, 224, 224, 64)      36928     \n",
      "_________________________________________________________________\n",
      "maxpool1 (MaxPooling2D)      (None, 112, 112, 64)      0         \n",
      "_________________________________________________________________\n",
      "conv2_1 (Conv2D)             (None, 112, 112, 128)     73856     \n",
      "_________________________________________________________________\n",
      "conv2_2 (Conv2D)             (None, 112, 112, 128)     147584    \n",
      "_________________________________________________________________\n",
      "maxpool2 (MaxPooling2D)      (None, 56, 56, 128)       0         \n",
      "=================================================================\n",
      "Total params: 260,160\n",
      "Trainable params: 260,160\n",
      "Non-trainable params: 0\n",
      "_________________________________________________________________\n"
     ]
    }
   ],
   "source": [
    "# Summary hasta segundo bloque\n",
    "\n",
    "modelVGG19.summary()"
   ]
  },
  {
   "cell_type": "markdown",
   "metadata": {
    "hidden": true
   },
   "source": [
    "Vemos que la Red hasta este punto tiene **260.160 parametros.**\n",
    "\n",
    "Como vimos en clases, cada filtro tiene como parametros cada una de sus \"neuronas\" es decir, su altura por ancho por profundidad (del input), más un 1 (debido al bias). A su vez, son tantos filtros como la profundidad del output.\n",
    "\n",
    "Entonces la primera capa convolucional del primer bloque **conv1_1** tiene filtros de 3x3, 3 mapas de activación de input, entonces son de 3x3x3, y son 64 mapas de activación de salida. Entonces seria (3x3x3 +1) x 64 = 1.792.\n",
    "\n",
    "Luego la segunda capa convolucional del primer bloque, igual que el anterior pero es aplicado sobre 64 mapas y no 3 **conv1_2** (3x3x64 +1) x 64 = 36.928.\n",
    "\n",
    "Luego la primera capa convolucional del segundo bloque, es de  filtros de 3x3, pero con una profundida de 128 de output, y es aplicado sobre la capa anterior de profundidad 64. Entonces  **conv2_1** (3x3x64 +1) x 128 = 73.856.\n",
    "\n",
    "Finalmente, la segunda capa convolucional del segundo bloque, es de filtros de 3x3, con una profundidad de 128 de input, y es aplicada sobre la capa enterior de profundidad 128. Entonces **conv2_2** (3x3x128 + 1) * 128 = 147.584.\n",
    "\n",
    "Sumando estos parametros nos da un total de: **260.160 parametros**\n",
    "\n",
    "--\n",
    "\n",
    "También, es importante mencionar el rol del Max-Pooling, y como este disminuye las dimensiones de alto por ancho. En este caso de 112x112 a 56x56"
   ]
  },
  {
   "cell_type": "markdown",
   "metadata": {
    "heading_collapsed": true,
    "hidden": true
   },
   "source": [
    "### Actividad 2"
   ]
  },
  {
   "cell_type": "code",
   "execution_count": 62,
   "metadata": {
    "hidden": true
   },
   "outputs": [
    {
     "name": "stdout",
     "output_type": "stream",
     "text": [
      "Before Max-Pooling (None, 56, 56, 256)\n",
      "After Max-Pooling:  (None, 28, 28, 256)\n"
     ]
    }
   ],
   "source": [
    "# Tercer bloque de VGG19.\n",
    "\n",
    "modelVGG19.add(Conv2D(256, (3, 3), strides=(1, 1), \n",
    "                      activation='relu', padding=\"same\", name='conv3_1'))\n",
    "\n",
    "modelVGG19.add(Conv2D(256, (3, 3), strides=(1, 1), \n",
    "                      activation='relu', padding=\"same\", name='conv3_2'))\n",
    "\n",
    "modelVGG19.add(Conv2D(256, (3, 3), strides=(1, 1), \n",
    "                      activation='relu', padding=\"same\", name='conv3_3'))\n",
    "\n",
    "modelVGG19.add(Conv2D(256, (3, 3), strides=(1, 1), \n",
    "                      activation='relu', padding=\"same\", name='conv3_4'))\n",
    "\n",
    "print('Before Max-Pooling', modelVGG19.output_shape) # dims de la red antes de MaxPooling \n",
    "modelVGG19.add(MaxPooling2D((2,2), strides=(2,2), name='maxpool3'))\n",
    "print('After Max-Pooling: ', modelVGG19.output_shape) # dims de la red despues de MaxPooling"
   ]
  },
  {
   "cell_type": "code",
   "execution_count": 63,
   "metadata": {
    "hidden": true
   },
   "outputs": [
    {
     "name": "stdout",
     "output_type": "stream",
     "text": [
      "_________________________________________________________________\n",
      "Layer (type)                 Output Shape              Param #   \n",
      "=================================================================\n",
      "conv1_1 (Conv2D)             (None, 224, 224, 64)      1792      \n",
      "_________________________________________________________________\n",
      "conv1_2 (Conv2D)             (None, 224, 224, 64)      36928     \n",
      "_________________________________________________________________\n",
      "maxpool1 (MaxPooling2D)      (None, 112, 112, 64)      0         \n",
      "_________________________________________________________________\n",
      "conv2_1 (Conv2D)             (None, 112, 112, 128)     73856     \n",
      "_________________________________________________________________\n",
      "conv2_2 (Conv2D)             (None, 112, 112, 128)     147584    \n",
      "_________________________________________________________________\n",
      "maxpool2 (MaxPooling2D)      (None, 56, 56, 128)       0         \n",
      "_________________________________________________________________\n",
      "conv3_1 (Conv2D)             (None, 56, 56, 256)       295168    \n",
      "_________________________________________________________________\n",
      "conv3_2 (Conv2D)             (None, 56, 56, 256)       590080    \n",
      "_________________________________________________________________\n",
      "conv3_3 (Conv2D)             (None, 56, 56, 256)       590080    \n",
      "_________________________________________________________________\n",
      "conv3_4 (Conv2D)             (None, 56, 56, 256)       590080    \n",
      "_________________________________________________________________\n",
      "maxpool3 (MaxPooling2D)      (None, 28, 28, 256)       0         \n",
      "=================================================================\n",
      "Total params: 2,325,568\n",
      "Trainable params: 2,325,568\n",
      "Non-trainable params: 0\n",
      "_________________________________________________________________\n"
     ]
    }
   ],
   "source": [
    "# Summary hasta tercer bloque\n",
    "\n",
    "modelVGG19.summary()"
   ]
  },
  {
   "cell_type": "markdown",
   "metadata": {
    "hidden": true
   },
   "source": [
    "Primero me gustaria mencionar que After Max-Pooling la shape de mi red es correcta, siendo de 28x28x256.\n",
    "\n",
    "--\n",
    "\n",
    "Luego para ver las dimensiones de este tercer bloque tenemos:\n",
    "Entonces la primera capa convolucional del tecer bloque, **conv3_1** tiene filtros de 3x3, 128 mapas de activación de input, entonces son de 3x3x128, y son 256 mapas de activación de salida\n",
    ". Entonces seria (3x3x128 +1) x 256 = 295.168.\n",
    "\n",
    "Luego la segunda capa convolucional del tercer bloque, **conv3_2**, igual que el anterior pero es aplicado sobre 256 mapas y no 128. (3x3x256 +1) x 256 = 590.080.\n",
    "\n",
    "Luego la tecerca capa convolucional del tercer bloque, **conv3_3**, igual que el anterior, aplicado sobre 256 mapas. (3x3x256 +1) x 256 = 590.080.\n",
    "\n",
    "Luego la cuarta capa convolucional del tercer bloque, **conv3_4**, igual que el anterior, aplicado sobre 256 mapas. (3x3x256 +1) x 256 = 590.080.\n",
    "\n",
    "Sumando estos parametros nos da un total de: **2.325.568 parametros**\n"
   ]
  },
  {
   "cell_type": "markdown",
   "metadata": {
    "heading_collapsed": true,
    "hidden": true
   },
   "source": [
    "### Actividad 3"
   ]
  },
  {
   "cell_type": "code",
   "execution_count": 64,
   "metadata": {
    "hidden": true
   },
   "outputs": [
    {
     "name": "stdout",
     "output_type": "stream",
     "text": [
      "Before Max-Pooling (None, 28, 28, 512)\n",
      "After Max-Pooling:  (None, 14, 14, 512)\n"
     ]
    }
   ],
   "source": [
    "# Cuarto bloque de VGG19.\n",
    "\n",
    "modelVGG19.add(Conv2D(512, (3, 3), strides=(1, 1),\n",
    "          activation='relu', padding='same', name='conv4_1'))\n",
    "\n",
    "modelVGG19.add(Conv2D(512, (3, 3), strides=(1, 1),\n",
    "          activation='relu', padding='same', name='conv4_2'))\n",
    "\n",
    "modelVGG19.add(Conv2D(512, (3, 3), strides=(1, 1),\n",
    "          activation='relu', padding='same', name='conv4_3'))\n",
    "\n",
    "modelVGG19.add(Conv2D(512, (3, 3), strides=(1, 1),\n",
    "          activation='relu', padding='same', name='conv4_4'))\n",
    "\n",
    "print('Before Max-Pooling', modelVGG19.output_shape) # dims de la red antes de MaxPooling \n",
    "modelVGG19.add(MaxPooling2D((2,2), strides=(2,2), name='maxpool4'))\n",
    "print('After Max-Pooling: ', modelVGG19.output_shape) # dims de la red despues de MaxPooling"
   ]
  },
  {
   "cell_type": "code",
   "execution_count": 65,
   "metadata": {
    "hidden": true
   },
   "outputs": [
    {
     "name": "stdout",
     "output_type": "stream",
     "text": [
      "_________________________________________________________________\n",
      "Layer (type)                 Output Shape              Param #   \n",
      "=================================================================\n",
      "conv1_1 (Conv2D)             (None, 224, 224, 64)      1792      \n",
      "_________________________________________________________________\n",
      "conv1_2 (Conv2D)             (None, 224, 224, 64)      36928     \n",
      "_________________________________________________________________\n",
      "maxpool1 (MaxPooling2D)      (None, 112, 112, 64)      0         \n",
      "_________________________________________________________________\n",
      "conv2_1 (Conv2D)             (None, 112, 112, 128)     73856     \n",
      "_________________________________________________________________\n",
      "conv2_2 (Conv2D)             (None, 112, 112, 128)     147584    \n",
      "_________________________________________________________________\n",
      "maxpool2 (MaxPooling2D)      (None, 56, 56, 128)       0         \n",
      "_________________________________________________________________\n",
      "conv3_1 (Conv2D)             (None, 56, 56, 256)       295168    \n",
      "_________________________________________________________________\n",
      "conv3_2 (Conv2D)             (None, 56, 56, 256)       590080    \n",
      "_________________________________________________________________\n",
      "conv3_3 (Conv2D)             (None, 56, 56, 256)       590080    \n",
      "_________________________________________________________________\n",
      "conv3_4 (Conv2D)             (None, 56, 56, 256)       590080    \n",
      "_________________________________________________________________\n",
      "maxpool3 (MaxPooling2D)      (None, 28, 28, 256)       0         \n",
      "_________________________________________________________________\n",
      "conv4_1 (Conv2D)             (None, 28, 28, 512)       1180160   \n",
      "_________________________________________________________________\n",
      "conv4_2 (Conv2D)             (None, 28, 28, 512)       2359808   \n",
      "_________________________________________________________________\n",
      "conv4_3 (Conv2D)             (None, 28, 28, 512)       2359808   \n",
      "_________________________________________________________________\n",
      "conv4_4 (Conv2D)             (None, 28, 28, 512)       2359808   \n",
      "_________________________________________________________________\n",
      "maxpool4 (MaxPooling2D)      (None, 14, 14, 512)       0         \n",
      "=================================================================\n",
      "Total params: 10,585,152\n",
      "Trainable params: 10,585,152\n",
      "Non-trainable params: 0\n",
      "_________________________________________________________________\n"
     ]
    }
   ],
   "source": [
    "# Summary hasta cuarto bloque\n",
    "\n",
    "modelVGG19.summary()"
   ]
  },
  {
   "cell_type": "code",
   "execution_count": 66,
   "metadata": {
    "hidden": true
   },
   "outputs": [
    {
     "name": "stdout",
     "output_type": "stream",
     "text": [
      "Before Max-Pooling (None, 14, 14, 512)\n",
      "After Max-Pooling:  (None, 7, 7, 512)\n"
     ]
    }
   ],
   "source": [
    "# Quinto bloque de VGG19.\n",
    "\n",
    "modelVGG19.add(Conv2D(512, (3, 3), strides=(1, 1),\n",
    "          activation='relu', padding='same', name='conv5_1'))\n",
    "\n",
    "modelVGG19.add(Conv2D(512, (3, 3), strides=(1, 1),\n",
    "          activation='relu', padding='same', name='conv5_2'))\n",
    "\n",
    "modelVGG19.add(Conv2D(512, (3, 3), strides=(1, 1),\n",
    "          activation='relu', padding='same', name='conv5_3'))\n",
    "\n",
    "modelVGG19.add(Conv2D(512, (3, 3), strides=(1, 1),\n",
    "          activation='relu', padding='same', name='conv5_4'))\n",
    "\n",
    "print('Before Max-Pooling', modelVGG19.output_shape) # dims de la red antes de MaxPooling \n",
    "modelVGG19.add(MaxPooling2D((2,2), strides=(2,2), name='maxpool5'))\n",
    "print('After Max-Pooling: ', modelVGG19.output_shape) # dims de la red despues de MaxPooling"
   ]
  },
  {
   "cell_type": "code",
   "execution_count": 67,
   "metadata": {
    "hidden": true
   },
   "outputs": [
    {
     "name": "stdout",
     "output_type": "stream",
     "text": [
      "_________________________________________________________________\n",
      "Layer (type)                 Output Shape              Param #   \n",
      "=================================================================\n",
      "conv1_1 (Conv2D)             (None, 224, 224, 64)      1792      \n",
      "_________________________________________________________________\n",
      "conv1_2 (Conv2D)             (None, 224, 224, 64)      36928     \n",
      "_________________________________________________________________\n",
      "maxpool1 (MaxPooling2D)      (None, 112, 112, 64)      0         \n",
      "_________________________________________________________________\n",
      "conv2_1 (Conv2D)             (None, 112, 112, 128)     73856     \n",
      "_________________________________________________________________\n",
      "conv2_2 (Conv2D)             (None, 112, 112, 128)     147584    \n",
      "_________________________________________________________________\n",
      "maxpool2 (MaxPooling2D)      (None, 56, 56, 128)       0         \n",
      "_________________________________________________________________\n",
      "conv3_1 (Conv2D)             (None, 56, 56, 256)       295168    \n",
      "_________________________________________________________________\n",
      "conv3_2 (Conv2D)             (None, 56, 56, 256)       590080    \n",
      "_________________________________________________________________\n",
      "conv3_3 (Conv2D)             (None, 56, 56, 256)       590080    \n",
      "_________________________________________________________________\n",
      "conv3_4 (Conv2D)             (None, 56, 56, 256)       590080    \n",
      "_________________________________________________________________\n",
      "maxpool3 (MaxPooling2D)      (None, 28, 28, 256)       0         \n",
      "_________________________________________________________________\n",
      "conv4_1 (Conv2D)             (None, 28, 28, 512)       1180160   \n",
      "_________________________________________________________________\n",
      "conv4_2 (Conv2D)             (None, 28, 28, 512)       2359808   \n",
      "_________________________________________________________________\n",
      "conv4_3 (Conv2D)             (None, 28, 28, 512)       2359808   \n",
      "_________________________________________________________________\n",
      "conv4_4 (Conv2D)             (None, 28, 28, 512)       2359808   \n",
      "_________________________________________________________________\n",
      "maxpool4 (MaxPooling2D)      (None, 14, 14, 512)       0         \n",
      "_________________________________________________________________\n",
      "conv5_1 (Conv2D)             (None, 14, 14, 512)       2359808   \n",
      "_________________________________________________________________\n",
      "conv5_2 (Conv2D)             (None, 14, 14, 512)       2359808   \n",
      "_________________________________________________________________\n",
      "conv5_3 (Conv2D)             (None, 14, 14, 512)       2359808   \n",
      "_________________________________________________________________\n",
      "conv5_4 (Conv2D)             (None, 14, 14, 512)       2359808   \n",
      "_________________________________________________________________\n",
      "maxpool5 (MaxPooling2D)      (None, 7, 7, 512)         0         \n",
      "=================================================================\n",
      "Total params: 20,024,384\n",
      "Trainable params: 20,024,384\n",
      "Non-trainable params: 0\n",
      "_________________________________________________________________\n"
     ]
    }
   ],
   "source": [
    "# Summary hasta quinto bloque\n",
    "\n",
    "modelVGG19.summary()"
   ]
  },
  {
   "cell_type": "markdown",
   "metadata": {
    "hidden": true
   },
   "source": [
    "Para **no ser repetitivos con los puntos anterioes,** no vamos a repetir la explicación de los calculos. Sin embargo, podemos observar que las salida de cada una de las capas es lo que esperamos en acorde a la figura del enunciado. Es decir, del bloque cuatro ya llevamos **10.585.152 parametros**, tambien es importante destacar el Max-Pool que ocurre a la salida del bloque 4, el cual lleva de las dimensiones **28x28x512** a **14x14x512**. Vemos tambien que este bloque generó una cantidad impresionante de parámetros, pasando de **2.325.568 parametros** a ****10.585.152 parametros**** (un aporte de 8.259.584 parametros).\n",
    "\n",
    "Luego el bloque 5, tiene **20.024.384 parametros**, tambien es importante destacar el Max-Pool que ocurre a la salida del bloque 5, el cual lleva de las dimensiones **14x14x512** a **7x7x512**. Vemos tambien que este bloque generó una cantidad impresionante de parámetros, pasando de **10.585.152 parametros** a ****20.024.384 parametros**** (un aporte de 9.439.232 parametros).\n",
    "\n",
    "Vamos viendo como cada bloque que es más profundo va generando mayor cantidad de parametros."
   ]
  },
  {
   "cell_type": "markdown",
   "metadata": {
    "heading_collapsed": true,
    "hidden": true
   },
   "source": [
    "### Actividad 4"
   ]
  },
  {
   "cell_type": "code",
   "execution_count": 68,
   "metadata": {
    "hidden": true
   },
   "outputs": [
    {
     "name": "stdout",
     "output_type": "stream",
     "text": [
      "Shape 1D:  (None, 25088)\n"
     ]
    }
   ],
   "source": [
    "# Transformar Salida 3D a 1D\n",
    "\n",
    "modelVGG19.add(Flatten(name='flatten'))\n",
    "print('Shape 1D: ', modelVGG19.output_shape)"
   ]
  },
  {
   "cell_type": "markdown",
   "metadata": {
    "hidden": true
   },
   "source": [
    "Vemos que l dimension de salida es en !D lo cual hace mucho sentido ya que estamos entrando a capas de conexion densa. Esta es de **25.088**, lo cual hace sentido, dado que antes de aplicar Flatten teniamos una entrada de 7x7x512, y si multiplicamos 7x7x512 es **25.088**. Entonces vemos que lo que estamos cambiando aca es solo la forma que estamos representando, no el numero de neuronas."
   ]
  },
  {
   "cell_type": "markdown",
   "metadata": {
    "heading_collapsed": true,
    "hidden": true
   },
   "source": [
    "### Actividad 5"
   ]
  },
  {
   "cell_type": "code",
   "execution_count": 69,
   "metadata": {
    "hidden": true
   },
   "outputs": [
    {
     "name": "stdout",
     "output_type": "stream",
     "text": [
      "Shape FC1:  (None, 4096)\n"
     ]
    }
   ],
   "source": [
    "# Sexto bloque de VGG19.\n",
    "\n",
    "modelVGG19.add(Dense(4096, activation='relu', name='fc1'))\n",
    "print('Shape FC1: ', modelVGG19.output_shape)"
   ]
  },
  {
   "cell_type": "code",
   "execution_count": 70,
   "metadata": {
    "hidden": true
   },
   "outputs": [
    {
     "name": "stdout",
     "output_type": "stream",
     "text": [
      "_________________________________________________________________\n",
      "Layer (type)                 Output Shape              Param #   \n",
      "=================================================================\n",
      "conv1_1 (Conv2D)             (None, 224, 224, 64)      1792      \n",
      "_________________________________________________________________\n",
      "conv1_2 (Conv2D)             (None, 224, 224, 64)      36928     \n",
      "_________________________________________________________________\n",
      "maxpool1 (MaxPooling2D)      (None, 112, 112, 64)      0         \n",
      "_________________________________________________________________\n",
      "conv2_1 (Conv2D)             (None, 112, 112, 128)     73856     \n",
      "_________________________________________________________________\n",
      "conv2_2 (Conv2D)             (None, 112, 112, 128)     147584    \n",
      "_________________________________________________________________\n",
      "maxpool2 (MaxPooling2D)      (None, 56, 56, 128)       0         \n",
      "_________________________________________________________________\n",
      "conv3_1 (Conv2D)             (None, 56, 56, 256)       295168    \n",
      "_________________________________________________________________\n",
      "conv3_2 (Conv2D)             (None, 56, 56, 256)       590080    \n",
      "_________________________________________________________________\n",
      "conv3_3 (Conv2D)             (None, 56, 56, 256)       590080    \n",
      "_________________________________________________________________\n",
      "conv3_4 (Conv2D)             (None, 56, 56, 256)       590080    \n",
      "_________________________________________________________________\n",
      "maxpool3 (MaxPooling2D)      (None, 28, 28, 256)       0         \n",
      "_________________________________________________________________\n",
      "conv4_1 (Conv2D)             (None, 28, 28, 512)       1180160   \n",
      "_________________________________________________________________\n",
      "conv4_2 (Conv2D)             (None, 28, 28, 512)       2359808   \n",
      "_________________________________________________________________\n",
      "conv4_3 (Conv2D)             (None, 28, 28, 512)       2359808   \n",
      "_________________________________________________________________\n",
      "conv4_4 (Conv2D)             (None, 28, 28, 512)       2359808   \n",
      "_________________________________________________________________\n",
      "maxpool4 (MaxPooling2D)      (None, 14, 14, 512)       0         \n",
      "_________________________________________________________________\n",
      "conv5_1 (Conv2D)             (None, 14, 14, 512)       2359808   \n",
      "_________________________________________________________________\n",
      "conv5_2 (Conv2D)             (None, 14, 14, 512)       2359808   \n",
      "_________________________________________________________________\n",
      "conv5_3 (Conv2D)             (None, 14, 14, 512)       2359808   \n",
      "_________________________________________________________________\n",
      "conv5_4 (Conv2D)             (None, 14, 14, 512)       2359808   \n",
      "_________________________________________________________________\n",
      "maxpool5 (MaxPooling2D)      (None, 7, 7, 512)         0         \n",
      "_________________________________________________________________\n",
      "flatten (Flatten)            (None, 25088)             0         \n",
      "_________________________________________________________________\n",
      "fc1 (Dense)                  (None, 4096)              102764544 \n",
      "=================================================================\n",
      "Total params: 122,788,928\n",
      "Trainable params: 122,788,928\n",
      "Non-trainable params: 0\n",
      "_________________________________________________________________\n"
     ]
    }
   ],
   "source": [
    "# Summary hasta sexto bloque\n",
    "\n",
    "modelVGG19.summary()"
   ]
  },
  {
   "cell_type": "markdown",
   "metadata": {
    "hidden": true
   },
   "source": [
    "Vemos que la salida es de **4096 neuronas**, lo que esta correcto de acuerdo a la figura del enunciado. Ahora es **IMPRESIONANTE** el número de parametros que se genera en esta capa densa, siendo ahora un total de **122.788.928 parametros** "
   ]
  },
  {
   "cell_type": "markdown",
   "metadata": {
    "hidden": true
   },
   "source": [
    "### Actividad 6"
   ]
  },
  {
   "cell_type": "code",
   "execution_count": 71,
   "metadata": {
    "hidden": true
   },
   "outputs": [
    {
     "name": "stdout",
     "output_type": "stream",
     "text": [
      "Shape FC2:  (None, 4096)\n"
     ]
    }
   ],
   "source": [
    "# Septimo bloque de VGG19.\n",
    "\n",
    "modelVGG19.add(Dense(4096, activation='relu', name='fc2'))\n",
    "print('Shape FC2: ', modelVGG19.output_shape)"
   ]
  },
  {
   "cell_type": "code",
   "execution_count": 72,
   "metadata": {
    "hidden": true
   },
   "outputs": [
    {
     "name": "stdout",
     "output_type": "stream",
     "text": [
      "_________________________________________________________________\n",
      "Layer (type)                 Output Shape              Param #   \n",
      "=================================================================\n",
      "conv1_1 (Conv2D)             (None, 224, 224, 64)      1792      \n",
      "_________________________________________________________________\n",
      "conv1_2 (Conv2D)             (None, 224, 224, 64)      36928     \n",
      "_________________________________________________________________\n",
      "maxpool1 (MaxPooling2D)      (None, 112, 112, 64)      0         \n",
      "_________________________________________________________________\n",
      "conv2_1 (Conv2D)             (None, 112, 112, 128)     73856     \n",
      "_________________________________________________________________\n",
      "conv2_2 (Conv2D)             (None, 112, 112, 128)     147584    \n",
      "_________________________________________________________________\n",
      "maxpool2 (MaxPooling2D)      (None, 56, 56, 128)       0         \n",
      "_________________________________________________________________\n",
      "conv3_1 (Conv2D)             (None, 56, 56, 256)       295168    \n",
      "_________________________________________________________________\n",
      "conv3_2 (Conv2D)             (None, 56, 56, 256)       590080    \n",
      "_________________________________________________________________\n",
      "conv3_3 (Conv2D)             (None, 56, 56, 256)       590080    \n",
      "_________________________________________________________________\n",
      "conv3_4 (Conv2D)             (None, 56, 56, 256)       590080    \n",
      "_________________________________________________________________\n",
      "maxpool3 (MaxPooling2D)      (None, 28, 28, 256)       0         \n",
      "_________________________________________________________________\n",
      "conv4_1 (Conv2D)             (None, 28, 28, 512)       1180160   \n",
      "_________________________________________________________________\n",
      "conv4_2 (Conv2D)             (None, 28, 28, 512)       2359808   \n",
      "_________________________________________________________________\n",
      "conv4_3 (Conv2D)             (None, 28, 28, 512)       2359808   \n",
      "_________________________________________________________________\n",
      "conv4_4 (Conv2D)             (None, 28, 28, 512)       2359808   \n",
      "_________________________________________________________________\n",
      "maxpool4 (MaxPooling2D)      (None, 14, 14, 512)       0         \n",
      "_________________________________________________________________\n",
      "conv5_1 (Conv2D)             (None, 14, 14, 512)       2359808   \n",
      "_________________________________________________________________\n",
      "conv5_2 (Conv2D)             (None, 14, 14, 512)       2359808   \n",
      "_________________________________________________________________\n",
      "conv5_3 (Conv2D)             (None, 14, 14, 512)       2359808   \n",
      "_________________________________________________________________\n",
      "conv5_4 (Conv2D)             (None, 14, 14, 512)       2359808   \n",
      "_________________________________________________________________\n",
      "maxpool5 (MaxPooling2D)      (None, 7, 7, 512)         0         \n",
      "_________________________________________________________________\n",
      "flatten (Flatten)            (None, 25088)             0         \n",
      "_________________________________________________________________\n",
      "fc1 (Dense)                  (None, 4096)              102764544 \n",
      "_________________________________________________________________\n",
      "fc2 (Dense)                  (None, 4096)              16781312  \n",
      "=================================================================\n",
      "Total params: 139,570,240\n",
      "Trainable params: 139,570,240\n",
      "Non-trainable params: 0\n",
      "_________________________________________________________________\n"
     ]
    }
   ],
   "source": [
    "# Summary hasta septimo bloque\n",
    "\n",
    "modelVGG19.summary()"
   ]
  },
  {
   "cell_type": "code",
   "execution_count": 73,
   "metadata": {
    "hidden": true
   },
   "outputs": [
    {
     "name": "stdout",
     "output_type": "stream",
     "text": [
      "Shape salida:  (None, 1000)\n"
     ]
    }
   ],
   "source": [
    "# Octavo bloque de VGG19.\n",
    "\n",
    "modelVGG19.add(Dense(1000, activation='softmax', name='salida'))\n",
    "print('Shape salida: ', modelVGG19.output_shape)"
   ]
  },
  {
   "cell_type": "code",
   "execution_count": 74,
   "metadata": {
    "hidden": true
   },
   "outputs": [
    {
     "name": "stdout",
     "output_type": "stream",
     "text": [
      "_________________________________________________________________\n",
      "Layer (type)                 Output Shape              Param #   \n",
      "=================================================================\n",
      "conv1_1 (Conv2D)             (None, 224, 224, 64)      1792      \n",
      "_________________________________________________________________\n",
      "conv1_2 (Conv2D)             (None, 224, 224, 64)      36928     \n",
      "_________________________________________________________________\n",
      "maxpool1 (MaxPooling2D)      (None, 112, 112, 64)      0         \n",
      "_________________________________________________________________\n",
      "conv2_1 (Conv2D)             (None, 112, 112, 128)     73856     \n",
      "_________________________________________________________________\n",
      "conv2_2 (Conv2D)             (None, 112, 112, 128)     147584    \n",
      "_________________________________________________________________\n",
      "maxpool2 (MaxPooling2D)      (None, 56, 56, 128)       0         \n",
      "_________________________________________________________________\n",
      "conv3_1 (Conv2D)             (None, 56, 56, 256)       295168    \n",
      "_________________________________________________________________\n",
      "conv3_2 (Conv2D)             (None, 56, 56, 256)       590080    \n",
      "_________________________________________________________________\n",
      "conv3_3 (Conv2D)             (None, 56, 56, 256)       590080    \n",
      "_________________________________________________________________\n",
      "conv3_4 (Conv2D)             (None, 56, 56, 256)       590080    \n",
      "_________________________________________________________________\n",
      "maxpool3 (MaxPooling2D)      (None, 28, 28, 256)       0         \n",
      "_________________________________________________________________\n",
      "conv4_1 (Conv2D)             (None, 28, 28, 512)       1180160   \n",
      "_________________________________________________________________\n",
      "conv4_2 (Conv2D)             (None, 28, 28, 512)       2359808   \n",
      "_________________________________________________________________\n",
      "conv4_3 (Conv2D)             (None, 28, 28, 512)       2359808   \n",
      "_________________________________________________________________\n",
      "conv4_4 (Conv2D)             (None, 28, 28, 512)       2359808   \n",
      "_________________________________________________________________\n",
      "maxpool4 (MaxPooling2D)      (None, 14, 14, 512)       0         \n",
      "_________________________________________________________________\n",
      "conv5_1 (Conv2D)             (None, 14, 14, 512)       2359808   \n",
      "_________________________________________________________________\n",
      "conv5_2 (Conv2D)             (None, 14, 14, 512)       2359808   \n",
      "_________________________________________________________________\n",
      "conv5_3 (Conv2D)             (None, 14, 14, 512)       2359808   \n",
      "_________________________________________________________________\n",
      "conv5_4 (Conv2D)             (None, 14, 14, 512)       2359808   \n",
      "_________________________________________________________________\n",
      "maxpool5 (MaxPooling2D)      (None, 7, 7, 512)         0         \n",
      "_________________________________________________________________\n",
      "flatten (Flatten)            (None, 25088)             0         \n",
      "_________________________________________________________________\n",
      "fc1 (Dense)                  (None, 4096)              102764544 \n",
      "_________________________________________________________________\n",
      "fc2 (Dense)                  (None, 4096)              16781312  \n",
      "_________________________________________________________________\n",
      "salida (Dense)               (None, 1000)              4097000   \n",
      "=================================================================\n",
      "Total params: 143,667,240\n",
      "Trainable params: 143,667,240\n",
      "Non-trainable params: 0\n",
      "_________________________________________________________________\n"
     ]
    }
   ],
   "source": [
    "# Summary red\n",
    "\n",
    "modelVGG19.summary()"
   ]
  },
  {
   "cell_type": "markdown",
   "metadata": {
    "hidden": true
   },
   "source": [
    "Revisando estas dos últimos bloques; en el bloque 7 tiene una salida de **4096**, lo que es correcto de acorde a la figura del enunciado, lo mismo con las salida del bloque 8 de **1000**.\n",
    "\n",
    "Vemos también que el bloque 7 llegamos a **139.570.240 parametros**, y en el bloque 8 llegamos a **143.667.240 parametros**. Estas capas son FC, entonces es todos con todos más un bias por cada una de las salidas (inputxoutput + output). \n",
    "\n",
    "Teniendo en total en la red  **143.667.240 parametros** y respecto al numero total de filtros es: 64 + 64 + 128 + 128 + 256 + 256 + 256 + 256 + 512 + 512 + 512 + 512 + 512 + 512 + 512 + 512 = **5.504**.\n",
    "\n",
    "Luego vemos, que los bloques con más filtros corresponden a los ultimos bloques convolucionales (bloque 4 y 5), esto se debe a que a este punto se deben \"aprender\" patrones más complejos. Hagamos la analogía que hicimos en clases con el lenguaje natural, al principio sólo tenemos letras (facil de aprender), luego tenemos silabas (un poco más dificil) hasta lleagr a oraciones complejas, lo mismo pasa en este caso con imagenes. \n",
    "\n",
    "En el caso de los parametros, la primera capa FC (bloque 7) aporta casi 103 millones de parametros, también me gustaria mencionar que la parte Densa de la Red es la que aporta más parametros. \n",
    "\n",
    "Como comentario general, vemos que cada vez que avanzamos en profundidad, el aporte de cada capa (o bloque) en terminos de parametros aumenta considerablemente, esto se debe a la misma analogia de las letras y oraciones, mas profundo se arman combinaciones mucho mas dificiles de aprender.\n",
    "\n",
    "Estas arquitrcturas profundas estan muy de moda, sobre todo por el manejo de grandes volumenes de datos. En el caso que no tuvieramos tantos datos no se justifica utilizar estas arquitecturas profundas, dado que caeriamos inmediatamente en un sobreentrenamiento.\n"
   ]
  },
  {
   "cell_type": "markdown",
   "metadata": {},
   "source": [
    "## Parte 2: Reconocimiento de Visual (70%)"
   ]
  },
  {
   "cell_type": "markdown",
   "metadata": {},
   "source": [
    "### 2.1 mini-ImageNet"
   ]
  },
  {
   "cell_type": "markdown",
   "metadata": {
    "heading_collapsed": true
   },
   "source": [
    "#### Actividad 7"
   ]
  },
  {
   "cell_type": "markdown",
   "metadata": {
    "hidden": true
   },
   "source": [
    "Primero, la red que seleccione es la Resnet-50, la cual, tiene un total de 23.792.612 parametros, de los cuales 23.7380.492 son parametros entrenables y 53.120 no lo son. \n",
    "\n",
    "Luego realize **6 experimentos distintos**, para manejar esto, fui guardando un **Checkpoint** con sólo los pesos de cada modelo y si este mejoraba, con esto podía volver atras o si sufría alguna descconexion. También luego de entrenar guarde el historial de cada uno de los entrenamientos, para luego poder anlizarlos mediante gráficos.\n",
    "\n",
    "En fin, para cada uno de lo experimentos se realizaron 25 epocas, lo que en la experiencia estuvo bien, dado que los experimentos convergieron bastante antes de la epoca 25.\n",
    "\n",
    "Para los experimentos se utilizaron dos tipos distintos de algoritmos de optimización, tres de ellos con **adam** el cual funciona bastante bien y es rapido y para os otros tres se utilizó **adadelta\n",
    "\n",
    "Otro de los parametros que se fueron ajustando (además de las epocas y el algoritmo de optimización) fue el tamaño del mini-batch, donde se tomaron 15, 30 y 45. Donde finalmente, no se observaron diferencias.\n",
    "\n",
    "Respecto a la estrategia de validación, se utilizo un set de validación correspondiente al 15% de los datos, con lo que podemos ir validando el modelo en cada una de las epocas. También se tiene un set de test correspondiente al 15%.\n",
    "\n",
    "Respecto a los tiempos de ejecución:\n",
    "\n",
    "Experimento |Tiempo de Ejecucion (secs)\n",
    "--- | --- \n",
    "*Adam, Batch Size=15* | 3000 \n",
    "*Adam, Batch Size=30* | 2850 \n",
    "*Adam, Batch Size=45* | 2380 \n",
    "*Adadelta, Batch Size=15* | 5850\n",
    "*Adadelta, Batch Size=30* | 3175\n",
    "*Adadelta, Batch Size=45* | 2475\n",
    "\n",
    "Con lo anterior podemos ver que el Algorimo de Optimización Adam es más rápido que Adadelta. También se observa que a un mayo Batch Size, el tiempo de ejecución en segundos es menor (lo que hace sentido claramente)."
   ]
  },
  {
   "cell_type": "markdown",
   "metadata": {
    "heading_collapsed": true
   },
   "source": [
    "#### Spling Data"
   ]
  },
  {
   "cell_type": "markdown",
   "metadata": {
    "hidden": true
   },
   "source": [
    "Vamos a separar nuestra data mini_ImageNet original entregada por los ayudantes en los sets de entrenamiento (train), de test y validacion (val). En este caso toma tomare el 70% al train, y 15% al test y al val respectivamente."
   ]
  },
  {
   "cell_type": "code",
   "execution_count": 5,
   "metadata": {
    "hidden": true
   },
   "outputs": [],
   "source": [
    "# Source: https://www.pythonforbeginners.com/os/python-the-shutil-module\n",
    "\n",
    "original_data_directory = './mini_ImageNet/images/'\n",
    "dest_data_directory = './data/'\n",
    "\n",
    "for clase in os.listdir(original_data_directory):\n",
    "    # Creo la clase en train, test y val\n",
    "    for _set in ['train', 'test', 'val']:\n",
    "        if not os.path.exists(dest_data_directory + _set + '/' + clase):\n",
    "            os.mkdir(dest_data_directory + _set + '/' + clase)\n",
    "            \n",
    "    # Entro a cada clase, agarro el 70% lo muevo a train, 15% a test y 15% a val\n",
    "    for contador, imagen in enumerate(os.listdir(original_data_directory + clase)):\n",
    "        original_image = original_data_directory + clase + '/' + imagen\n",
    "        if contador < 420:  # se va a train:\n",
    "            dest_image = dest_data_directory + 'train/' + clase + '/' + imagen\n",
    "            if not os.path.exists(dest_image):\n",
    "                shutil.copy(original_image, dest_image)\n",
    "        \n",
    "        elif contador < 510:  # se va test\n",
    "            dest_image = dest_data_directory + 'test/' + clase + '/' + imagen\n",
    "            if not os.path.exists(dest_image):\n",
    "                shutil.copy(original_image, dest_image)\n",
    "        \n",
    "        else:  # se va a val\n",
    "            dest_image = dest_data_directory + 'val/' + clase + '/' + imagen\n",
    "            if not os.path.exists(dest_image):\n",
    "                shutil.copy(original_image, dest_image)"
   ]
  },
  {
   "cell_type": "markdown",
   "metadata": {
    "heading_collapsed": true
   },
   "source": [
    "#### Defining Hyperparameters"
   ]
  },
  {
   "cell_type": "code",
   "execution_count": 8,
   "metadata": {
    "hidden": true
   },
   "outputs": [],
   "source": [
    "# Definiendo algunos parametros CONSTANTES:\n",
    "\n",
    "# Numero de clases, por default del ejercicio son 100, constante\n",
    "num_clases = 100\n",
    "\n",
    "# dimensiones de las imagenes (tambien por default del ejercicio, constante)\n",
    "img_width, img_height = 84, 84  "
   ]
  },
  {
   "cell_type": "markdown",
   "metadata": {
    "heading_collapsed": true
   },
   "source": [
    "#### 1) Adam: 25 epochs, 15 batch_size"
   ]
  },
  {
   "cell_type": "code",
   "execution_count": null,
   "metadata": {
    "hidden": true
   },
   "outputs": [],
   "source": [
    "# Source: https://github.com/priya-dwivedi/Deep-Learning/blob/master/resnet_keras/Residual_Network_Keras.ipynb\n",
    "base_model = applications.resnet50.ResNet50(weights= None, include_top=False, input_shape= (img_height,img_width,3))"
   ]
  },
  {
   "cell_type": "code",
   "execution_count": 20,
   "metadata": {
    "hidden": true
   },
   "outputs": [],
   "source": [
    "# Definiendo parametros\n",
    "\n",
    "# numero de epocas para entrenar, uno de los hiperparametros que voy a variar\n",
    "epochs = 25  \n",
    "\n",
    "# batch size, uno de los hiperparametros que voy a variar\n",
    "\n",
    "batch_size = 15 \n",
    "\n",
    "# Optimizador para entrenar, uno de los hiperparametros que voy a variar\n",
    "opt = 'adam'\n",
    "\n"
   ]
  },
  {
   "cell_type": "markdown",
   "metadata": {
    "hidden": true
   },
   "source": [
    "##### Loading Images into Keras"
   ]
  },
  {
   "cell_type": "code",
   "execution_count": 21,
   "metadata": {
    "hidden": true
   },
   "outputs": [
    {
     "name": "stdout",
     "output_type": "stream",
     "text": [
      "Found 42000 images belonging to 100 classes.\n",
      "Found 9000 images belonging to 100 classes.\n",
      "Found 9000 images belonging to 100 classes.\n"
     ]
    }
   ],
   "source": [
    "# Source: https://machinelearningmastery.com/how-to-load-large-datasets-from-directories-for-deep-learning-with-keras/\n",
    "# Comment of Paulo Henrique Zen Messerschmidt\n",
    "\n",
    "# create generator\n",
    "datagen = ImageDataGenerator()\n",
    "\n",
    "train_set = datagen.flow_from_directory('./data/train/', \n",
    "                                       target_size=(img_width, img_height),\n",
    "                                       batch_size=batch_size)\n",
    "\n",
    "test_set = datagen.flow_from_directory('./data/test/', \n",
    "                                       target_size=(img_width, img_height),\n",
    "                                       batch_size=batch_size)\n",
    "\n",
    "val_set = datagen.flow_from_directory('./data/val/', \n",
    "                                       target_size=(img_width, img_height),\n",
    "                                       batch_size=batch_size)"
   ]
  },
  {
   "cell_type": "code",
   "execution_count": 22,
   "metadata": {
    "hidden": true
   },
   "outputs": [
    {
     "name": "stdout",
     "output_type": "stream",
     "text": [
      "__________________________________________________________________________________________________\n",
      "Layer (type)                    Output Shape         Param #     Connected to                     \n",
      "==================================================================================================\n",
      "input_1 (InputLayer)            (None, 84, 84, 3)    0                                            \n",
      "__________________________________________________________________________________________________\n",
      "conv1_pad (ZeroPadding2D)       (None, 90, 90, 3)    0           input_1[0][0]                    \n",
      "__________________________________________________________________________________________________\n",
      "conv1 (Conv2D)                  (None, 42, 42, 64)   9472        conv1_pad[0][0]                  \n",
      "__________________________________________________________________________________________________\n",
      "bn_conv1 (BatchNormalization)   (None, 42, 42, 64)   256         conv1[0][0]                      \n",
      "__________________________________________________________________________________________________\n",
      "activation_1 (Activation)       (None, 42, 42, 64)   0           bn_conv1[0][0]                   \n",
      "__________________________________________________________________________________________________\n",
      "pool1_pad (ZeroPadding2D)       (None, 44, 44, 64)   0           activation_1[0][0]               \n",
      "__________________________________________________________________________________________________\n",
      "max_pooling2d_1 (MaxPooling2D)  (None, 21, 21, 64)   0           pool1_pad[0][0]                  \n",
      "__________________________________________________________________________________________________\n",
      "res2a_branch2a (Conv2D)         (None, 21, 21, 64)   4160        max_pooling2d_1[0][0]            \n",
      "__________________________________________________________________________________________________\n",
      "bn2a_branch2a (BatchNormalizati (None, 21, 21, 64)   256         res2a_branch2a[0][0]             \n",
      "__________________________________________________________________________________________________\n",
      "activation_2 (Activation)       (None, 21, 21, 64)   0           bn2a_branch2a[0][0]              \n",
      "__________________________________________________________________________________________________\n",
      "res2a_branch2b (Conv2D)         (None, 21, 21, 64)   36928       activation_2[0][0]               \n",
      "__________________________________________________________________________________________________\n",
      "bn2a_branch2b (BatchNormalizati (None, 21, 21, 64)   256         res2a_branch2b[0][0]             \n",
      "__________________________________________________________________________________________________\n",
      "activation_3 (Activation)       (None, 21, 21, 64)   0           bn2a_branch2b[0][0]              \n",
      "__________________________________________________________________________________________________\n",
      "res2a_branch2c (Conv2D)         (None, 21, 21, 256)  16640       activation_3[0][0]               \n",
      "__________________________________________________________________________________________________\n",
      "res2a_branch1 (Conv2D)          (None, 21, 21, 256)  16640       max_pooling2d_1[0][0]            \n",
      "__________________________________________________________________________________________________\n",
      "bn2a_branch2c (BatchNormalizati (None, 21, 21, 256)  1024        res2a_branch2c[0][0]             \n",
      "__________________________________________________________________________________________________\n",
      "bn2a_branch1 (BatchNormalizatio (None, 21, 21, 256)  1024        res2a_branch1[0][0]              \n",
      "__________________________________________________________________________________________________\n",
      "add_1 (Add)                     (None, 21, 21, 256)  0           bn2a_branch2c[0][0]              \n",
      "                                                                 bn2a_branch1[0][0]               \n",
      "__________________________________________________________________________________________________\n",
      "activation_4 (Activation)       (None, 21, 21, 256)  0           add_1[0][0]                      \n",
      "__________________________________________________________________________________________________\n",
      "res2b_branch2a (Conv2D)         (None, 21, 21, 64)   16448       activation_4[0][0]               \n",
      "__________________________________________________________________________________________________\n",
      "bn2b_branch2a (BatchNormalizati (None, 21, 21, 64)   256         res2b_branch2a[0][0]             \n",
      "__________________________________________________________________________________________________\n",
      "activation_5 (Activation)       (None, 21, 21, 64)   0           bn2b_branch2a[0][0]              \n",
      "__________________________________________________________________________________________________\n",
      "res2b_branch2b (Conv2D)         (None, 21, 21, 64)   36928       activation_5[0][0]               \n",
      "__________________________________________________________________________________________________\n",
      "bn2b_branch2b (BatchNormalizati (None, 21, 21, 64)   256         res2b_branch2b[0][0]             \n",
      "__________________________________________________________________________________________________\n",
      "activation_6 (Activation)       (None, 21, 21, 64)   0           bn2b_branch2b[0][0]              \n",
      "__________________________________________________________________________________________________\n",
      "res2b_branch2c (Conv2D)         (None, 21, 21, 256)  16640       activation_6[0][0]               \n",
      "__________________________________________________________________________________________________\n",
      "bn2b_branch2c (BatchNormalizati (None, 21, 21, 256)  1024        res2b_branch2c[0][0]             \n",
      "__________________________________________________________________________________________________\n",
      "add_2 (Add)                     (None, 21, 21, 256)  0           bn2b_branch2c[0][0]              \n",
      "                                                                 activation_4[0][0]               \n",
      "__________________________________________________________________________________________________\n",
      "activation_7 (Activation)       (None, 21, 21, 256)  0           add_2[0][0]                      \n",
      "__________________________________________________________________________________________________\n",
      "res2c_branch2a (Conv2D)         (None, 21, 21, 64)   16448       activation_7[0][0]               \n",
      "__________________________________________________________________________________________________\n",
      "bn2c_branch2a (BatchNormalizati (None, 21, 21, 64)   256         res2c_branch2a[0][0]             \n",
      "__________________________________________________________________________________________________\n",
      "activation_8 (Activation)       (None, 21, 21, 64)   0           bn2c_branch2a[0][0]              \n",
      "__________________________________________________________________________________________________\n",
      "res2c_branch2b (Conv2D)         (None, 21, 21, 64)   36928       activation_8[0][0]               \n",
      "__________________________________________________________________________________________________\n",
      "bn2c_branch2b (BatchNormalizati (None, 21, 21, 64)   256         res2c_branch2b[0][0]             \n",
      "__________________________________________________________________________________________________\n",
      "activation_9 (Activation)       (None, 21, 21, 64)   0           bn2c_branch2b[0][0]              \n",
      "__________________________________________________________________________________________________\n",
      "res2c_branch2c (Conv2D)         (None, 21, 21, 256)  16640       activation_9[0][0]               \n",
      "__________________________________________________________________________________________________\n",
      "bn2c_branch2c (BatchNormalizati (None, 21, 21, 256)  1024        res2c_branch2c[0][0]             \n",
      "__________________________________________________________________________________________________\n",
      "add_3 (Add)                     (None, 21, 21, 256)  0           bn2c_branch2c[0][0]              \n",
      "                                                                 activation_7[0][0]               \n",
      "__________________________________________________________________________________________________\n",
      "activation_10 (Activation)      (None, 21, 21, 256)  0           add_3[0][0]                      \n",
      "__________________________________________________________________________________________________\n",
      "res3a_branch2a (Conv2D)         (None, 11, 11, 128)  32896       activation_10[0][0]              \n",
      "__________________________________________________________________________________________________\n",
      "bn3a_branch2a (BatchNormalizati (None, 11, 11, 128)  512         res3a_branch2a[0][0]             \n",
      "__________________________________________________________________________________________________\n",
      "activation_11 (Activation)      (None, 11, 11, 128)  0           bn3a_branch2a[0][0]              \n",
      "__________________________________________________________________________________________________\n",
      "res3a_branch2b (Conv2D)         (None, 11, 11, 128)  147584      activation_11[0][0]              \n",
      "__________________________________________________________________________________________________\n",
      "bn3a_branch2b (BatchNormalizati (None, 11, 11, 128)  512         res3a_branch2b[0][0]             \n",
      "__________________________________________________________________________________________________\n",
      "activation_12 (Activation)      (None, 11, 11, 128)  0           bn3a_branch2b[0][0]              \n",
      "__________________________________________________________________________________________________\n",
      "res3a_branch2c (Conv2D)         (None, 11, 11, 512)  66048       activation_12[0][0]              \n",
      "__________________________________________________________________________________________________\n",
      "res3a_branch1 (Conv2D)          (None, 11, 11, 512)  131584      activation_10[0][0]              \n",
      "__________________________________________________________________________________________________\n",
      "bn3a_branch2c (BatchNormalizati (None, 11, 11, 512)  2048        res3a_branch2c[0][0]             \n",
      "__________________________________________________________________________________________________\n",
      "bn3a_branch1 (BatchNormalizatio (None, 11, 11, 512)  2048        res3a_branch1[0][0]              \n",
      "__________________________________________________________________________________________________\n",
      "add_4 (Add)                     (None, 11, 11, 512)  0           bn3a_branch2c[0][0]              \n",
      "                                                                 bn3a_branch1[0][0]               \n",
      "__________________________________________________________________________________________________\n",
      "activation_13 (Activation)      (None, 11, 11, 512)  0           add_4[0][0]                      \n",
      "__________________________________________________________________________________________________\n",
      "res3b_branch2a (Conv2D)         (None, 11, 11, 128)  65664       activation_13[0][0]              \n",
      "__________________________________________________________________________________________________\n",
      "bn3b_branch2a (BatchNormalizati (None, 11, 11, 128)  512         res3b_branch2a[0][0]             \n",
      "__________________________________________________________________________________________________\n",
      "activation_14 (Activation)      (None, 11, 11, 128)  0           bn3b_branch2a[0][0]              \n",
      "__________________________________________________________________________________________________\n",
      "res3b_branch2b (Conv2D)         (None, 11, 11, 128)  147584      activation_14[0][0]              \n",
      "__________________________________________________________________________________________________\n",
      "bn3b_branch2b (BatchNormalizati (None, 11, 11, 128)  512         res3b_branch2b[0][0]             \n",
      "__________________________________________________________________________________________________\n",
      "activation_15 (Activation)      (None, 11, 11, 128)  0           bn3b_branch2b[0][0]              \n",
      "__________________________________________________________________________________________________\n",
      "res3b_branch2c (Conv2D)         (None, 11, 11, 512)  66048       activation_15[0][0]              \n",
      "__________________________________________________________________________________________________\n",
      "bn3b_branch2c (BatchNormalizati (None, 11, 11, 512)  2048        res3b_branch2c[0][0]             \n",
      "__________________________________________________________________________________________________\n",
      "add_5 (Add)                     (None, 11, 11, 512)  0           bn3b_branch2c[0][0]              \n",
      "                                                                 activation_13[0][0]              \n",
      "__________________________________________________________________________________________________\n",
      "activation_16 (Activation)      (None, 11, 11, 512)  0           add_5[0][0]                      \n",
      "__________________________________________________________________________________________________\n",
      "res3c_branch2a (Conv2D)         (None, 11, 11, 128)  65664       activation_16[0][0]              \n",
      "__________________________________________________________________________________________________\n",
      "bn3c_branch2a (BatchNormalizati (None, 11, 11, 128)  512         res3c_branch2a[0][0]             \n",
      "__________________________________________________________________________________________________\n",
      "activation_17 (Activation)      (None, 11, 11, 128)  0           bn3c_branch2a[0][0]              \n",
      "__________________________________________________________________________________________________\n",
      "res3c_branch2b (Conv2D)         (None, 11, 11, 128)  147584      activation_17[0][0]              \n",
      "__________________________________________________________________________________________________\n",
      "bn3c_branch2b (BatchNormalizati (None, 11, 11, 128)  512         res3c_branch2b[0][0]             \n",
      "__________________________________________________________________________________________________\n",
      "activation_18 (Activation)      (None, 11, 11, 128)  0           bn3c_branch2b[0][0]              \n",
      "__________________________________________________________________________________________________\n",
      "res3c_branch2c (Conv2D)         (None, 11, 11, 512)  66048       activation_18[0][0]              \n",
      "__________________________________________________________________________________________________\n",
      "bn3c_branch2c (BatchNormalizati (None, 11, 11, 512)  2048        res3c_branch2c[0][0]             \n",
      "__________________________________________________________________________________________________\n",
      "add_6 (Add)                     (None, 11, 11, 512)  0           bn3c_branch2c[0][0]              \n",
      "                                                                 activation_16[0][0]              \n",
      "__________________________________________________________________________________________________\n",
      "activation_19 (Activation)      (None, 11, 11, 512)  0           add_6[0][0]                      \n",
      "__________________________________________________________________________________________________\n",
      "res3d_branch2a (Conv2D)         (None, 11, 11, 128)  65664       activation_19[0][0]              \n",
      "__________________________________________________________________________________________________\n",
      "bn3d_branch2a (BatchNormalizati (None, 11, 11, 128)  512         res3d_branch2a[0][0]             \n",
      "__________________________________________________________________________________________________\n",
      "activation_20 (Activation)      (None, 11, 11, 128)  0           bn3d_branch2a[0][0]              \n",
      "__________________________________________________________________________________________________\n",
      "res3d_branch2b (Conv2D)         (None, 11, 11, 128)  147584      activation_20[0][0]              \n",
      "__________________________________________________________________________________________________\n",
      "bn3d_branch2b (BatchNormalizati (None, 11, 11, 128)  512         res3d_branch2b[0][0]             \n",
      "__________________________________________________________________________________________________\n",
      "activation_21 (Activation)      (None, 11, 11, 128)  0           bn3d_branch2b[0][0]              \n",
      "__________________________________________________________________________________________________\n",
      "res3d_branch2c (Conv2D)         (None, 11, 11, 512)  66048       activation_21[0][0]              \n",
      "__________________________________________________________________________________________________\n",
      "bn3d_branch2c (BatchNormalizati (None, 11, 11, 512)  2048        res3d_branch2c[0][0]             \n",
      "__________________________________________________________________________________________________\n",
      "add_7 (Add)                     (None, 11, 11, 512)  0           bn3d_branch2c[0][0]              \n",
      "                                                                 activation_19[0][0]              \n",
      "__________________________________________________________________________________________________\n",
      "activation_22 (Activation)      (None, 11, 11, 512)  0           add_7[0][0]                      \n",
      "__________________________________________________________________________________________________\n",
      "res4a_branch2a (Conv2D)         (None, 6, 6, 256)    131328      activation_22[0][0]              \n",
      "__________________________________________________________________________________________________\n",
      "bn4a_branch2a (BatchNormalizati (None, 6, 6, 256)    1024        res4a_branch2a[0][0]             \n",
      "__________________________________________________________________________________________________\n",
      "activation_23 (Activation)      (None, 6, 6, 256)    0           bn4a_branch2a[0][0]              \n",
      "__________________________________________________________________________________________________\n",
      "res4a_branch2b (Conv2D)         (None, 6, 6, 256)    590080      activation_23[0][0]              \n",
      "__________________________________________________________________________________________________\n",
      "bn4a_branch2b (BatchNormalizati (None, 6, 6, 256)    1024        res4a_branch2b[0][0]             \n",
      "__________________________________________________________________________________________________\n",
      "activation_24 (Activation)      (None, 6, 6, 256)    0           bn4a_branch2b[0][0]              \n",
      "__________________________________________________________________________________________________\n",
      "res4a_branch2c (Conv2D)         (None, 6, 6, 1024)   263168      activation_24[0][0]              \n",
      "__________________________________________________________________________________________________\n",
      "res4a_branch1 (Conv2D)          (None, 6, 6, 1024)   525312      activation_22[0][0]              \n",
      "__________________________________________________________________________________________________\n",
      "bn4a_branch2c (BatchNormalizati (None, 6, 6, 1024)   4096        res4a_branch2c[0][0]             \n",
      "__________________________________________________________________________________________________\n",
      "bn4a_branch1 (BatchNormalizatio (None, 6, 6, 1024)   4096        res4a_branch1[0][0]              \n",
      "__________________________________________________________________________________________________\n",
      "add_8 (Add)                     (None, 6, 6, 1024)   0           bn4a_branch2c[0][0]              \n",
      "                                                                 bn4a_branch1[0][0]               \n",
      "__________________________________________________________________________________________________\n",
      "activation_25 (Activation)      (None, 6, 6, 1024)   0           add_8[0][0]                      \n",
      "__________________________________________________________________________________________________\n",
      "res4b_branch2a (Conv2D)         (None, 6, 6, 256)    262400      activation_25[0][0]              \n",
      "__________________________________________________________________________________________________\n",
      "bn4b_branch2a (BatchNormalizati (None, 6, 6, 256)    1024        res4b_branch2a[0][0]             \n",
      "__________________________________________________________________________________________________\n",
      "activation_26 (Activation)      (None, 6, 6, 256)    0           bn4b_branch2a[0][0]              \n",
      "__________________________________________________________________________________________________\n",
      "res4b_branch2b (Conv2D)         (None, 6, 6, 256)    590080      activation_26[0][0]              \n",
      "__________________________________________________________________________________________________\n",
      "bn4b_branch2b (BatchNormalizati (None, 6, 6, 256)    1024        res4b_branch2b[0][0]             \n",
      "__________________________________________________________________________________________________\n",
      "activation_27 (Activation)      (None, 6, 6, 256)    0           bn4b_branch2b[0][0]              \n",
      "__________________________________________________________________________________________________\n",
      "res4b_branch2c (Conv2D)         (None, 6, 6, 1024)   263168      activation_27[0][0]              \n",
      "__________________________________________________________________________________________________\n",
      "bn4b_branch2c (BatchNormalizati (None, 6, 6, 1024)   4096        res4b_branch2c[0][0]             \n",
      "__________________________________________________________________________________________________\n",
      "add_9 (Add)                     (None, 6, 6, 1024)   0           bn4b_branch2c[0][0]              \n",
      "                                                                 activation_25[0][0]              \n",
      "__________________________________________________________________________________________________\n",
      "activation_28 (Activation)      (None, 6, 6, 1024)   0           add_9[0][0]                      \n",
      "__________________________________________________________________________________________________\n",
      "res4c_branch2a (Conv2D)         (None, 6, 6, 256)    262400      activation_28[0][0]              \n",
      "__________________________________________________________________________________________________\n",
      "bn4c_branch2a (BatchNormalizati (None, 6, 6, 256)    1024        res4c_branch2a[0][0]             \n",
      "__________________________________________________________________________________________________\n",
      "activation_29 (Activation)      (None, 6, 6, 256)    0           bn4c_branch2a[0][0]              \n",
      "__________________________________________________________________________________________________\n",
      "res4c_branch2b (Conv2D)         (None, 6, 6, 256)    590080      activation_29[0][0]              \n",
      "__________________________________________________________________________________________________\n",
      "bn4c_branch2b (BatchNormalizati (None, 6, 6, 256)    1024        res4c_branch2b[0][0]             \n",
      "__________________________________________________________________________________________________\n",
      "activation_30 (Activation)      (None, 6, 6, 256)    0           bn4c_branch2b[0][0]              \n",
      "__________________________________________________________________________________________________\n",
      "res4c_branch2c (Conv2D)         (None, 6, 6, 1024)   263168      activation_30[0][0]              \n",
      "__________________________________________________________________________________________________\n",
      "bn4c_branch2c (BatchNormalizati (None, 6, 6, 1024)   4096        res4c_branch2c[0][0]             \n",
      "__________________________________________________________________________________________________\n",
      "add_10 (Add)                    (None, 6, 6, 1024)   0           bn4c_branch2c[0][0]              \n",
      "                                                                 activation_28[0][0]              \n",
      "__________________________________________________________________________________________________\n",
      "activation_31 (Activation)      (None, 6, 6, 1024)   0           add_10[0][0]                     \n",
      "__________________________________________________________________________________________________\n",
      "res4d_branch2a (Conv2D)         (None, 6, 6, 256)    262400      activation_31[0][0]              \n",
      "__________________________________________________________________________________________________\n",
      "bn4d_branch2a (BatchNormalizati (None, 6, 6, 256)    1024        res4d_branch2a[0][0]             \n",
      "__________________________________________________________________________________________________\n",
      "activation_32 (Activation)      (None, 6, 6, 256)    0           bn4d_branch2a[0][0]              \n",
      "__________________________________________________________________________________________________\n",
      "res4d_branch2b (Conv2D)         (None, 6, 6, 256)    590080      activation_32[0][0]              \n",
      "__________________________________________________________________________________________________\n",
      "bn4d_branch2b (BatchNormalizati (None, 6, 6, 256)    1024        res4d_branch2b[0][0]             \n",
      "__________________________________________________________________________________________________\n",
      "activation_33 (Activation)      (None, 6, 6, 256)    0           bn4d_branch2b[0][0]              \n",
      "__________________________________________________________________________________________________\n",
      "res4d_branch2c (Conv2D)         (None, 6, 6, 1024)   263168      activation_33[0][0]              \n",
      "__________________________________________________________________________________________________\n",
      "bn4d_branch2c (BatchNormalizati (None, 6, 6, 1024)   4096        res4d_branch2c[0][0]             \n",
      "__________________________________________________________________________________________________\n",
      "add_11 (Add)                    (None, 6, 6, 1024)   0           bn4d_branch2c[0][0]              \n",
      "                                                                 activation_31[0][0]              \n",
      "__________________________________________________________________________________________________\n",
      "activation_34 (Activation)      (None, 6, 6, 1024)   0           add_11[0][0]                     \n",
      "__________________________________________________________________________________________________\n",
      "res4e_branch2a (Conv2D)         (None, 6, 6, 256)    262400      activation_34[0][0]              \n",
      "__________________________________________________________________________________________________\n",
      "bn4e_branch2a (BatchNormalizati (None, 6, 6, 256)    1024        res4e_branch2a[0][0]             \n",
      "__________________________________________________________________________________________________\n",
      "activation_35 (Activation)      (None, 6, 6, 256)    0           bn4e_branch2a[0][0]              \n",
      "__________________________________________________________________________________________________\n",
      "res4e_branch2b (Conv2D)         (None, 6, 6, 256)    590080      activation_35[0][0]              \n",
      "__________________________________________________________________________________________________\n",
      "bn4e_branch2b (BatchNormalizati (None, 6, 6, 256)    1024        res4e_branch2b[0][0]             \n",
      "__________________________________________________________________________________________________\n",
      "activation_36 (Activation)      (None, 6, 6, 256)    0           bn4e_branch2b[0][0]              \n",
      "__________________________________________________________________________________________________\n",
      "res4e_branch2c (Conv2D)         (None, 6, 6, 1024)   263168      activation_36[0][0]              \n",
      "__________________________________________________________________________________________________\n",
      "bn4e_branch2c (BatchNormalizati (None, 6, 6, 1024)   4096        res4e_branch2c[0][0]             \n",
      "__________________________________________________________________________________________________\n",
      "add_12 (Add)                    (None, 6, 6, 1024)   0           bn4e_branch2c[0][0]              \n",
      "                                                                 activation_34[0][0]              \n",
      "__________________________________________________________________________________________________\n",
      "activation_37 (Activation)      (None, 6, 6, 1024)   0           add_12[0][0]                     \n",
      "__________________________________________________________________________________________________\n",
      "res4f_branch2a (Conv2D)         (None, 6, 6, 256)    262400      activation_37[0][0]              \n",
      "__________________________________________________________________________________________________\n",
      "bn4f_branch2a (BatchNormalizati (None, 6, 6, 256)    1024        res4f_branch2a[0][0]             \n",
      "__________________________________________________________________________________________________\n",
      "activation_38 (Activation)      (None, 6, 6, 256)    0           bn4f_branch2a[0][0]              \n",
      "__________________________________________________________________________________________________\n",
      "res4f_branch2b (Conv2D)         (None, 6, 6, 256)    590080      activation_38[0][0]              \n",
      "__________________________________________________________________________________________________\n",
      "bn4f_branch2b (BatchNormalizati (None, 6, 6, 256)    1024        res4f_branch2b[0][0]             \n",
      "__________________________________________________________________________________________________\n",
      "activation_39 (Activation)      (None, 6, 6, 256)    0           bn4f_branch2b[0][0]              \n",
      "__________________________________________________________________________________________________\n",
      "res4f_branch2c (Conv2D)         (None, 6, 6, 1024)   263168      activation_39[0][0]              \n",
      "__________________________________________________________________________________________________\n",
      "bn4f_branch2c (BatchNormalizati (None, 6, 6, 1024)   4096        res4f_branch2c[0][0]             \n",
      "__________________________________________________________________________________________________\n",
      "add_13 (Add)                    (None, 6, 6, 1024)   0           bn4f_branch2c[0][0]              \n",
      "                                                                 activation_37[0][0]              \n",
      "__________________________________________________________________________________________________\n",
      "activation_40 (Activation)      (None, 6, 6, 1024)   0           add_13[0][0]                     \n",
      "__________________________________________________________________________________________________\n",
      "res5a_branch2a (Conv2D)         (None, 3, 3, 512)    524800      activation_40[0][0]              \n",
      "__________________________________________________________________________________________________\n",
      "bn5a_branch2a (BatchNormalizati (None, 3, 3, 512)    2048        res5a_branch2a[0][0]             \n",
      "__________________________________________________________________________________________________\n",
      "activation_41 (Activation)      (None, 3, 3, 512)    0           bn5a_branch2a[0][0]              \n",
      "__________________________________________________________________________________________________\n",
      "res5a_branch2b (Conv2D)         (None, 3, 3, 512)    2359808     activation_41[0][0]              \n",
      "__________________________________________________________________________________________________\n",
      "bn5a_branch2b (BatchNormalizati (None, 3, 3, 512)    2048        res5a_branch2b[0][0]             \n",
      "__________________________________________________________________________________________________\n",
      "activation_42 (Activation)      (None, 3, 3, 512)    0           bn5a_branch2b[0][0]              \n",
      "__________________________________________________________________________________________________\n",
      "res5a_branch2c (Conv2D)         (None, 3, 3, 2048)   1050624     activation_42[0][0]              \n",
      "__________________________________________________________________________________________________\n",
      "res5a_branch1 (Conv2D)          (None, 3, 3, 2048)   2099200     activation_40[0][0]              \n",
      "__________________________________________________________________________________________________\n",
      "bn5a_branch2c (BatchNormalizati (None, 3, 3, 2048)   8192        res5a_branch2c[0][0]             \n",
      "__________________________________________________________________________________________________\n",
      "bn5a_branch1 (BatchNormalizatio (None, 3, 3, 2048)   8192        res5a_branch1[0][0]              \n",
      "__________________________________________________________________________________________________\n",
      "add_14 (Add)                    (None, 3, 3, 2048)   0           bn5a_branch2c[0][0]              \n",
      "                                                                 bn5a_branch1[0][0]               \n",
      "__________________________________________________________________________________________________\n",
      "activation_43 (Activation)      (None, 3, 3, 2048)   0           add_14[0][0]                     \n",
      "__________________________________________________________________________________________________\n",
      "res5b_branch2a (Conv2D)         (None, 3, 3, 512)    1049088     activation_43[0][0]              \n",
      "__________________________________________________________________________________________________\n",
      "bn5b_branch2a (BatchNormalizati (None, 3, 3, 512)    2048        res5b_branch2a[0][0]             \n",
      "__________________________________________________________________________________________________\n",
      "activation_44 (Activation)      (None, 3, 3, 512)    0           bn5b_branch2a[0][0]              \n",
      "__________________________________________________________________________________________________\n",
      "res5b_branch2b (Conv2D)         (None, 3, 3, 512)    2359808     activation_44[0][0]              \n",
      "__________________________________________________________________________________________________\n",
      "bn5b_branch2b (BatchNormalizati (None, 3, 3, 512)    2048        res5b_branch2b[0][0]             \n",
      "__________________________________________________________________________________________________\n",
      "activation_45 (Activation)      (None, 3, 3, 512)    0           bn5b_branch2b[0][0]              \n",
      "__________________________________________________________________________________________________\n",
      "res5b_branch2c (Conv2D)         (None, 3, 3, 2048)   1050624     activation_45[0][0]              \n",
      "__________________________________________________________________________________________________\n",
      "bn5b_branch2c (BatchNormalizati (None, 3, 3, 2048)   8192        res5b_branch2c[0][0]             \n",
      "__________________________________________________________________________________________________\n",
      "add_15 (Add)                    (None, 3, 3, 2048)   0           bn5b_branch2c[0][0]              \n",
      "                                                                 activation_43[0][0]              \n",
      "__________________________________________________________________________________________________\n",
      "activation_46 (Activation)      (None, 3, 3, 2048)   0           add_15[0][0]                     \n",
      "__________________________________________________________________________________________________\n",
      "res5c_branch2a (Conv2D)         (None, 3, 3, 512)    1049088     activation_46[0][0]              \n",
      "__________________________________________________________________________________________________\n",
      "bn5c_branch2a (BatchNormalizati (None, 3, 3, 512)    2048        res5c_branch2a[0][0]             \n",
      "__________________________________________________________________________________________________\n",
      "activation_47 (Activation)      (None, 3, 3, 512)    0           bn5c_branch2a[0][0]              \n",
      "__________________________________________________________________________________________________\n",
      "res5c_branch2b (Conv2D)         (None, 3, 3, 512)    2359808     activation_47[0][0]              \n",
      "__________________________________________________________________________________________________\n",
      "bn5c_branch2b (BatchNormalizati (None, 3, 3, 512)    2048        res5c_branch2b[0][0]             \n",
      "__________________________________________________________________________________________________\n",
      "activation_48 (Activation)      (None, 3, 3, 512)    0           bn5c_branch2b[0][0]              \n",
      "__________________________________________________________________________________________________\n",
      "res5c_branch2c (Conv2D)         (None, 3, 3, 2048)   1050624     activation_48[0][0]              \n",
      "__________________________________________________________________________________________________\n",
      "bn5c_branch2c (BatchNormalizati (None, 3, 3, 2048)   8192        res5c_branch2c[0][0]             \n",
      "__________________________________________________________________________________________________\n",
      "add_16 (Add)                    (None, 3, 3, 2048)   0           bn5c_branch2c[0][0]              \n",
      "                                                                 activation_46[0][0]              \n",
      "__________________________________________________________________________________________________\n",
      "activation_49 (Activation)      (None, 3, 3, 2048)   0           add_16[0][0]                     \n",
      "__________________________________________________________________________________________________\n",
      "global_average_pooling2d_1 (Glo (None, 2048)         0           activation_49[0][0]              \n",
      "__________________________________________________________________________________________________\n",
      "dense_1 (Dense)                 (None, 100)          204900      global_average_pooling2d_1[0][0] \n",
      "==================================================================================================\n",
      "Total params: 23,792,612\n",
      "Trainable params: 23,739,492\n",
      "Non-trainable params: 53,120\n",
      "__________________________________________________________________________________________________\n"
     ]
    }
   ],
   "source": [
    "\n",
    "x = base_model.output\n",
    "x = GlobalAveragePooling2D()(x)\n",
    "predictions = Dense(num_clases, activation= 'softmax')(x)\n",
    "    \n",
    "model = Model(inputs = base_model.input, outputs = predictions)\n",
    "\n",
    "#compile \n",
    "model.compile(optimizer='adam', loss='categorical_crossentropy', metrics=['accuracy'])\n",
    "\n",
    "model.summary()"
   ]
  },
  {
   "cell_type": "code",
   "execution_count": 23,
   "metadata": {
    "hidden": true,
    "scrolled": true
   },
   "outputs": [
    {
     "name": "stdout",
     "output_type": "stream",
     "text": [
      "Epoch 1/25\n",
      "2800/2800 [==============================] - 209s 75ms/step - loss: 5.4321 - acc: 0.0186 - val_loss: 5.4767 - val_acc: 0.0126\n",
      "Epoch 2/25\n",
      "2800/2800 [==============================] - 199s 71ms/step - loss: 5.3048 - acc: 0.0272 - val_loss: 11.0084 - val_acc: 0.0252\n",
      "Epoch 3/25\n",
      "2800/2800 [==============================] - 199s 71ms/step - loss: 4.8735 - acc: 0.0426 - val_loss: 4.2939 - val_acc: 0.0550\n",
      "Epoch 4/25\n",
      "2800/2800 [==============================] - 199s 71ms/step - loss: 4.1114 - acc: 0.0737 - val_loss: 3.9986 - val_acc: 0.1000\n",
      "Epoch 5/25\n",
      "2800/2800 [==============================] - 199s 71ms/step - loss: 3.8706 - acc: 0.1102 - val_loss: 3.8499 - val_acc: 0.1313\n",
      "Epoch 6/25\n",
      "2800/2800 [==============================] - 199s 71ms/step - loss: 3.6153 - acc: 0.1511 - val_loss: 4.4922 - val_acc: 0.1424\n",
      "Epoch 7/25\n",
      "2800/2800 [==============================] - 199s 71ms/step - loss: 3.3485 - acc: 0.1992 - val_loss: 3.8735 - val_acc: 0.1500\n",
      "Epoch 8/25\n",
      "2800/2800 [==============================] - 199s 71ms/step - loss: 3.1099 - acc: 0.2409 - val_loss: 3.8054 - val_acc: 0.2307\n",
      "Epoch 9/25\n",
      "2800/2800 [==============================] - 199s 71ms/step - loss: 2.8872 - acc: 0.2852 - val_loss: 3.1112 - val_acc: 0.2640\n",
      "Epoch 10/25\n",
      "2800/2800 [==============================] - 199s 71ms/step - loss: 2.6868 - acc: 0.3246 - val_loss: 4.0551 - val_acc: 0.2666\n",
      "Epoch 11/25\n",
      "2800/2800 [==============================] - 199s 71ms/step - loss: 2.4776 - acc: 0.3682 - val_loss: 4.9667 - val_acc: 0.1907\n",
      "Epoch 12/25\n",
      "2800/2800 [==============================] - 199s 71ms/step - loss: 2.2977 - acc: 0.4058 - val_loss: 2.9777 - val_acc: 0.3161\n",
      "Epoch 13/25\n",
      "2800/2800 [==============================] - 199s 71ms/step - loss: 2.0882 - acc: 0.4500 - val_loss: 2.9851 - val_acc: 0.3300\n",
      "Epoch 14/25\n",
      "2800/2800 [==============================] - 200s 71ms/step - loss: 1.9187 - acc: 0.4877 - val_loss: 3.1466 - val_acc: 0.3212\n",
      "Epoch 15/25\n",
      "2800/2800 [==============================] - 199s 71ms/step - loss: 1.6765 - acc: 0.5456 - val_loss: 3.2464 - val_acc: 0.3197\n",
      "Epoch 16/25\n",
      "2800/2800 [==============================] - 199s 71ms/step - loss: 1.3660 - acc: 0.6205 - val_loss: 3.5054 - val_acc: 0.3058\n",
      "Epoch 17/25\n",
      "2800/2800 [==============================] - 199s 71ms/step - loss: 1.1408 - acc: 0.6793 - val_loss: 3.4000 - val_acc: 0.3310\n",
      "Epoch 18/25\n",
      "2800/2800 [==============================] - 199s 71ms/step - loss: 0.8714 - acc: 0.7524 - val_loss: 3.6973 - val_acc: 0.2930\n",
      "Epoch 19/25\n",
      "2800/2800 [==============================] - 199s 71ms/step - loss: 0.6492 - acc: 0.8122 - val_loss: 3.4343 - val_acc: 0.3338\n",
      "Epoch 20/25\n",
      "2800/2800 [==============================] - 199s 71ms/step - loss: 0.5041 - acc: 0.8534 - val_loss: 3.5203 - val_acc: 0.3411\n",
      "Epoch 21/25\n",
      "2800/2800 [==============================] - 199s 71ms/step - loss: 0.4309 - acc: 0.8765 - val_loss: 3.9840 - val_acc: 0.3099\n",
      "Epoch 22/25\n",
      "2800/2800 [==============================] - 199s 71ms/step - loss: 0.2787 - acc: 0.9190 - val_loss: 4.2496 - val_acc: 0.2944\n",
      "Epoch 23/25\n",
      "2800/2800 [==============================] - 199s 71ms/step - loss: 0.2588 - acc: 0.9245 - val_loss: 4.2695 - val_acc: 0.3240\n",
      "Epoch 24/25\n",
      "2800/2800 [==============================] - 199s 71ms/step - loss: 0.2496 - acc: 0.9280 - val_loss: 4.1612 - val_acc: 0.3214\n",
      "Epoch 25/25\n",
      "2800/2800 [==============================] - 199s 71ms/step - loss: 0.1880 - acc: 0.9455 - val_loss: 4.4404 - val_acc: 0.3034\n"
     ]
    }
   ],
   "source": [
    "# Source: https://www.pyimagesearch.com/2018/12/24/how-to-use-keras-fit-and-fit_generator-a-hands-on-tutorial/\n",
    "# https://github.com/keras-team/keras/issues/8540/\n",
    "# https://keras.io/callbacks/\n",
    "# https://machinelearningmastery.com/check-point-deep-learning-models-keras/\n",
    "\n",
    "# checkpoint\n",
    "filepath='./models/1/weights-improvement-{epoch:02d}-{val_acc:.2f}.hdf5'\n",
    "checkpoint = ModelCheckpoint(filepath, monitor='val_acc', verbose=0, save_best_only=True, mode='max', save_weights_only=True)\n",
    "callbacks_list = [checkpoint]\n",
    "\n",
    "# training\n",
    "hist = model.fit_generator(generator=train_set,\n",
    "                              validation_data=val_set,\n",
    "                              epochs = epochs,\n",
    "                              verbose = 1,\n",
    "                              callbacks=callbacks_list,\n",
    "                              steps_per_epoch=42000/batch_size,\n",
    "                              validation_steps=9000/batch_size)\n"
   ]
  },
  {
   "cell_type": "code",
   "execution_count": 27,
   "metadata": {
    "hidden": true
   },
   "outputs": [],
   "source": [
    "with open('./history/1', 'wb') as file:\n",
    "        pickle.dump(hist.history, file)"
   ]
  },
  {
   "cell_type": "markdown",
   "metadata": {
    "heading_collapsed": true
   },
   "source": [
    "#### 2) Adam: 25 epochs, 30 batch_size"
   ]
  },
  {
   "cell_type": "code",
   "execution_count": 6,
   "metadata": {
    "hidden": true
   },
   "outputs": [
    {
     "name": "stderr",
     "output_type": "stream",
     "text": [
      "/home/cuda/.local/lib/python3.6/site-packages/keras_applications/resnet50.py:265: UserWarning: The output shape of `ResNet50(include_top=False)` has been changed since Keras 2.2.0.\n",
      "  warnings.warn('The output shape of `ResNet50(include_top=False)` '\n"
     ]
    }
   ],
   "source": [
    "# Source: https://github.com/priya-dwivedi/Deep-Learning/blob/master/resnet_keras/Residual_Network_Keras.ipynb\n",
    "base_model = applications.resnet50.ResNet50(weights= None, include_top=False, input_shape= (img_height,img_width,3))"
   ]
  },
  {
   "cell_type": "code",
   "execution_count": 7,
   "metadata": {
    "hidden": true
   },
   "outputs": [],
   "source": [
    "# Definiendo parametros\n",
    "\n",
    "# numero de epocas para entrenar, uno de los hiperparametros que voy a variar\n",
    "epochs = 25  \n",
    "\n",
    "# batch size, uno de los hiperparametros que voy a variar\n",
    "\n",
    "batch_size = 30 \n",
    "\n",
    "# Optimizador para entrenar, uno de los hiperparametros que voy a variar\n",
    "opt = 'adam'\n"
   ]
  },
  {
   "cell_type": "code",
   "execution_count": 8,
   "metadata": {
    "hidden": true
   },
   "outputs": [
    {
     "name": "stdout",
     "output_type": "stream",
     "text": [
      "Found 42000 images belonging to 100 classes.\n",
      "Found 9000 images belonging to 100 classes.\n",
      "Found 9000 images belonging to 100 classes.\n"
     ]
    }
   ],
   "source": [
    "# Source: https://machinelearningmastery.com/how-to-load-large-datasets-from-directories-for-deep-learning-with-keras/\n",
    "# Comment of Paulo Henrique Zen Messerschmidt\n",
    "\n",
    "# create generator\n",
    "datagen = ImageDataGenerator()\n",
    "\n",
    "train_set = datagen.flow_from_directory('./data/train/', \n",
    "                                       target_size=(img_width, img_height),\n",
    "                                       batch_size=batch_size)\n",
    "\n",
    "test_set = datagen.flow_from_directory('./data/test/', \n",
    "                                       target_size=(img_width, img_height),\n",
    "                                       batch_size=batch_size)\n",
    "\n",
    "val_set = datagen.flow_from_directory('./data/val/', \n",
    "                                       target_size=(img_width, img_height),\n",
    "                                       batch_size=batch_size)"
   ]
  },
  {
   "cell_type": "code",
   "execution_count": 9,
   "metadata": {
    "hidden": true
   },
   "outputs": [],
   "source": [
    "x = base_model.output\n",
    "x = GlobalAveragePooling2D()(x)\n",
    "predictions = Dense(num_clases, activation= 'softmax')(x)\n",
    "    \n",
    "model = Model(inputs = base_model.input, outputs = predictions)\n",
    "\n",
    "#compile \n",
    "model.compile(optimizer=opt, loss='categorical_crossentropy', metrics=['accuracy'])\n"
   ]
  },
  {
   "cell_type": "code",
   "execution_count": 12,
   "metadata": {
    "hidden": true
   },
   "outputs": [
    {
     "name": "stdout",
     "output_type": "stream",
     "text": [
      "Epoch 1/25\n",
      "1400/1400 [==============================] - 114s 82ms/step - loss: 4.5684 - acc: 0.0699 - val_loss: 4.7038 - val_acc: 0.0621\n",
      "Epoch 2/25\n",
      "1400/1400 [==============================] - 114s 82ms/step - loss: 4.7161 - acc: 0.0525 - val_loss: 4.7519 - val_acc: 0.0602\n",
      "Epoch 3/25\n",
      "1400/1400 [==============================] - 114s 82ms/step - loss: 4.2074 - acc: 0.0801 - val_loss: 3.8523 - val_acc: 0.1124\n",
      "Epoch 4/25\n",
      "1400/1400 [==============================] - 114s 82ms/step - loss: 3.7163 - acc: 0.1328 - val_loss: 3.6231 - val_acc: 0.1591\n",
      "Epoch 5/25\n",
      "1400/1400 [==============================] - 114s 82ms/step - loss: 3.4490 - acc: 0.1822 - val_loss: 3.9417 - val_acc: 0.1563\n",
      "Epoch 6/25\n",
      "1400/1400 [==============================] - 114s 82ms/step - loss: 3.2331 - acc: 0.2172 - val_loss: 3.5135 - val_acc: 0.1960\n",
      "Epoch 7/25\n",
      "1400/1400 [==============================] - 114s 82ms/step - loss: 3.0231 - acc: 0.2546 - val_loss: 3.3193 - val_acc: 0.2126\n",
      "Epoch 8/25\n",
      "1400/1400 [==============================] - 115s 82ms/step - loss: 2.8038 - acc: 0.2984 - val_loss: 3.1560 - val_acc: 0.2490\n",
      "Epoch 9/25\n",
      "1400/1400 [==============================] - 114s 82ms/step - loss: 2.5868 - acc: 0.3406 - val_loss: 3.3048 - val_acc: 0.2434\n",
      "Epoch 10/25\n",
      "1400/1400 [==============================] - 114s 82ms/step - loss: 2.3797 - acc: 0.3858 - val_loss: 3.3723 - val_acc: 0.2340\n",
      "Epoch 11/25\n",
      "1400/1400 [==============================] - 115s 82ms/step - loss: 2.1429 - acc: 0.4362 - val_loss: 2.9074 - val_acc: 0.3084\n",
      "Epoch 12/25\n",
      "1400/1400 [==============================] - 114s 82ms/step - loss: 1.9021 - acc: 0.4925 - val_loss: 2.7769 - val_acc: 0.3391\n",
      "Epoch 13/25\n",
      "1400/1400 [==============================] - 114s 82ms/step - loss: 1.6517 - acc: 0.5489 - val_loss: 2.9300 - val_acc: 0.3421\n",
      "Epoch 14/25\n",
      "1400/1400 [==============================] - 114s 82ms/step - loss: 1.3261 - acc: 0.6284 - val_loss: 3.4199 - val_acc: 0.2840\n",
      "Epoch 15/25\n",
      "1400/1400 [==============================] - 114s 82ms/step - loss: 0.9704 - acc: 0.7248 - val_loss: 3.1051 - val_acc: 0.3398\n",
      "Epoch 16/25\n",
      "1400/1400 [==============================] - 114s 81ms/step - loss: 0.6841 - acc: 0.8065 - val_loss: 3.3500 - val_acc: 0.3364\n",
      "Epoch 17/25\n",
      "1400/1400 [==============================] - 115s 82ms/step - loss: 0.4750 - acc: 0.8620 - val_loss: 3.6948 - val_acc: 0.3209\n",
      "Epoch 18/25\n",
      "1400/1400 [==============================] - 114s 82ms/step - loss: 0.3337 - acc: 0.9017 - val_loss: 3.8772 - val_acc: 0.3141\n",
      "Epoch 19/25\n",
      "1400/1400 [==============================] - 114s 82ms/step - loss: 0.2620 - acc: 0.9242 - val_loss: 4.1113 - val_acc: 0.3133\n",
      "Epoch 20/25\n",
      "1400/1400 [==============================] - 118s 84ms/step - loss: 0.2277 - acc: 0.9347 - val_loss: 4.1415 - val_acc: 0.3173\n",
      "Epoch 21/25\n",
      "1400/1400 [==============================] - 119s 85ms/step - loss: 0.1942 - acc: 0.9448 - val_loss: 5.0544 - val_acc: 0.2528\n",
      "Epoch 22/25\n",
      "1400/1400 [==============================] - 122s 87ms/step - loss: 0.1686 - acc: 0.9503 - val_loss: 4.2241 - val_acc: 0.3234\n",
      "Epoch 23/25\n",
      "1400/1400 [==============================] - 123s 88ms/step - loss: 0.1529 - acc: 0.9547 - val_loss: 4.3311 - val_acc: 0.3198\n",
      "Epoch 24/25\n",
      "1400/1400 [==============================] - 122s 87ms/step - loss: 0.1449 - acc: 0.9569 - val_loss: 4.5718 - val_acc: 0.3119\n",
      "Epoch 25/25\n",
      "1400/1400 [==============================] - 122s 87ms/step - loss: 0.1197 - acc: 0.9652 - val_loss: 4.4445 - val_acc: 0.3222\n"
     ]
    }
   ],
   "source": [
    "# Source: https://www.pyimagesearch.com/2018/12/24/how-to-use-keras-fit-and-fit_generator-a-hands-on-tutorial/\n",
    "# https://github.com/keras-team/keras/issues/8540/\n",
    "# https://keras.io/callbacks/\n",
    "# https://machinelearningmastery.com/check-point-deep-learning-models-keras/\n",
    "\n",
    "# checkpoint\n",
    "filepath='./models/2/weights-improvement-{epoch:02d}-{val_acc:.2f}.hdf5'\n",
    "checkpoint = ModelCheckpoint(filepath, monitor='val_acc', verbose=0, save_best_only=True, mode='max', save_weights_only=True)\n",
    "callbacks_list = [checkpoint]\n",
    "\n",
    "# training\n",
    "hist = model.fit_generator(generator=train_set,\n",
    "                              validation_data=val_set,\n",
    "                              epochs = epochs,\n",
    "                              verbose = 1,\n",
    "                              callbacks=callbacks_list,\n",
    "                              steps_per_epoch=42000/batch_size,\n",
    "                              validation_steps=9000/batch_size)\n"
   ]
  },
  {
   "cell_type": "code",
   "execution_count": 13,
   "metadata": {
    "hidden": true
   },
   "outputs": [],
   "source": [
    "with open('./history/2', 'wb') as file:\n",
    "        pickle.dump(hist.history, file)"
   ]
  },
  {
   "cell_type": "markdown",
   "metadata": {
    "heading_collapsed": true
   },
   "source": [
    "#### 3) Adam: 25 epochs, 45 batch_size"
   ]
  },
  {
   "cell_type": "code",
   "execution_count": 14,
   "metadata": {
    "hidden": true
   },
   "outputs": [
    {
     "name": "stderr",
     "output_type": "stream",
     "text": [
      "/home/cuda/.local/lib/python3.6/site-packages/keras_applications/resnet50.py:265: UserWarning: The output shape of `ResNet50(include_top=False)` has been changed since Keras 2.2.0.\n",
      "  warnings.warn('The output shape of `ResNet50(include_top=False)` '\n"
     ]
    }
   ],
   "source": [
    "# Source: https://github.com/priya-dwivedi/Deep-Learning/blob/master/resnet_keras/Residual_Network_Keras.ipynb\n",
    "base_model = applications.resnet50.ResNet50(weights= None, include_top=False, input_shape= (img_height,img_width,3))"
   ]
  },
  {
   "cell_type": "code",
   "execution_count": 15,
   "metadata": {
    "hidden": true
   },
   "outputs": [],
   "source": [
    "# Definiendo parametros\n",
    "\n",
    "# numero de epocas para entrenar, uno de los hiperparametros que voy a variar\n",
    "epochs = 25  \n",
    "\n",
    "# batch size, uno de los hiperparametros que voy a variar\n",
    "\n",
    "batch_size = 45 \n",
    "\n",
    "# Optimizador para entrenar, uno de los hiperparametros que voy a variar\n",
    "opt = 'adam'\n"
   ]
  },
  {
   "cell_type": "code",
   "execution_count": 16,
   "metadata": {
    "hidden": true
   },
   "outputs": [
    {
     "name": "stdout",
     "output_type": "stream",
     "text": [
      "Found 42000 images belonging to 100 classes.\n",
      "Found 9000 images belonging to 100 classes.\n",
      "Found 9000 images belonging to 100 classes.\n"
     ]
    }
   ],
   "source": [
    "# Source: https://machinelearningmastery.com/how-to-load-large-datasets-from-directories-for-deep-learning-with-keras/\n",
    "# Comment of Paulo Henrique Zen Messerschmidt\n",
    "\n",
    "# create generator\n",
    "datagen = ImageDataGenerator()\n",
    "\n",
    "train_set = datagen.flow_from_directory('./data/train/', \n",
    "                                       target_size=(img_width, img_height),\n",
    "                                       batch_size=batch_size)\n",
    "\n",
    "test_set = datagen.flow_from_directory('./data/test/', \n",
    "                                       target_size=(img_width, img_height),\n",
    "                                       batch_size=batch_size)\n",
    "\n",
    "val_set = datagen.flow_from_directory('./data/val/', \n",
    "                                       target_size=(img_width, img_height),\n",
    "                                       batch_size=batch_size)"
   ]
  },
  {
   "cell_type": "code",
   "execution_count": 17,
   "metadata": {
    "hidden": true
   },
   "outputs": [],
   "source": [
    "x = base_model.output\n",
    "x = GlobalAveragePooling2D()(x)\n",
    "predictions = Dense(num_clases, activation= 'softmax')(x)\n",
    "    \n",
    "model = Model(inputs = base_model.input, outputs = predictions)\n",
    "\n",
    "#compile \n",
    "model.compile(optimizer=opt, loss='categorical_crossentropy', metrics=['accuracy'])\n"
   ]
  },
  {
   "cell_type": "code",
   "execution_count": 18,
   "metadata": {
    "hidden": true
   },
   "outputs": [
    {
     "name": "stdout",
     "output_type": "stream",
     "text": [
      "Epoch 1/25\n",
      "934/933 [==============================] - 107s 115ms/step - loss: 4.7236 - acc: 0.0384 - val_loss: 5.1112 - val_acc: 0.0569\n",
      "Epoch 2/25\n",
      "934/933 [==============================] - 93s 100ms/step - loss: 4.3004 - acc: 0.0823 - val_loss: 7.8294 - val_acc: 0.0270\n",
      "Epoch 3/25\n",
      "934/933 [==============================] - 94s 100ms/step - loss: 4.1459 - acc: 0.1103 - val_loss: 6.1859 - val_acc: 0.0132\n",
      "Epoch 4/25\n",
      "934/933 [==============================] - 94s 100ms/step - loss: 4.0396 - acc: 0.1286 - val_loss: 3.7708 - val_acc: 0.1524\n",
      "Epoch 5/25\n",
      "934/933 [==============================] - 94s 101ms/step - loss: 4.1201 - acc: 0.1163 - val_loss: 4.4875 - val_acc: 0.1164\n",
      "Epoch 6/25\n",
      "934/933 [==============================] - 94s 101ms/step - loss: 3.9759 - acc: 0.1388 - val_loss: 4.2652 - val_acc: 0.1233\n",
      "Epoch 7/25\n",
      "934/933 [==============================] - 94s 101ms/step - loss: 3.7577 - acc: 0.1776 - val_loss: 4.8695 - val_acc: 0.0779\n",
      "Epoch 8/25\n",
      "934/933 [==============================] - 94s 100ms/step - loss: 3.3485 - acc: 0.2188 - val_loss: 3.3613 - val_acc: 0.2167\n",
      "Epoch 9/25\n",
      "934/933 [==============================] - 94s 100ms/step - loss: 3.0529 - acc: 0.2545 - val_loss: 3.2388 - val_acc: 0.2373\n",
      "Epoch 10/25\n",
      "934/933 [==============================] - 97s 104ms/step - loss: 2.8922 - acc: 0.2876 - val_loss: 3.1955 - val_acc: 0.2540\n",
      "Epoch 11/25\n",
      "934/933 [==============================] - 96s 102ms/step - loss: 2.7095 - acc: 0.3193 - val_loss: 3.1186 - val_acc: 0.2733\n",
      "Epoch 12/25\n",
      "934/933 [==============================] - 94s 100ms/step - loss: 2.5053 - acc: 0.3604 - val_loss: 3.0302 - val_acc: 0.2776\n",
      "Epoch 13/25\n",
      "934/933 [==============================] - 94s 100ms/step - loss: 2.2831 - acc: 0.4053 - val_loss: 3.4405 - val_acc: 0.2407\n",
      "Epoch 14/25\n",
      "934/933 [==============================] - 94s 100ms/step - loss: 2.0369 - acc: 0.4595 - val_loss: 3.2487 - val_acc: 0.2950\n",
      "Epoch 15/25\n",
      "934/933 [==============================] - 93s 100ms/step - loss: 1.7317 - acc: 0.5293 - val_loss: 3.5972 - val_acc: 0.2517\n",
      "Epoch 16/25\n",
      "934/933 [==============================] - 94s 100ms/step - loss: 1.3904 - acc: 0.6152 - val_loss: 3.5333 - val_acc: 0.2900\n",
      "Epoch 17/25\n",
      "934/933 [==============================] - 94s 101ms/step - loss: 1.1033 - acc: 0.6871 - val_loss: 3.3210 - val_acc: 0.3086\n",
      "Epoch 18/25\n",
      "934/933 [==============================] - 94s 100ms/step - loss: 0.7759 - acc: 0.7808 - val_loss: 3.7668 - val_acc: 0.2922\n",
      "Epoch 19/25\n",
      "934/933 [==============================] - 94s 100ms/step - loss: 0.5117 - acc: 0.8527 - val_loss: 4.0615 - val_acc: 0.2840\n",
      "Epoch 20/25\n",
      "934/933 [==============================] - 94s 100ms/step - loss: 0.3414 - acc: 0.9036 - val_loss: 4.3662 - val_acc: 0.2742\n",
      "Epoch 21/25\n",
      "934/933 [==============================] - 93s 100ms/step - loss: 0.2601 - acc: 0.9287 - val_loss: 4.7444 - val_acc: 0.2673\n",
      "Epoch 22/25\n",
      "934/933 [==============================] - 93s 100ms/step - loss: 0.2355 - acc: 0.9322 - val_loss: 5.1873 - val_acc: 0.2533\n",
      "Epoch 23/25\n",
      "934/933 [==============================] - 93s 100ms/step - loss: 0.2101 - acc: 0.9399 - val_loss: 4.7986 - val_acc: 0.2879\n",
      "Epoch 24/25\n",
      "934/933 [==============================] - 94s 100ms/step - loss: 0.1645 - acc: 0.9535 - val_loss: 4.7318 - val_acc: 0.2913\n",
      "Epoch 25/25\n",
      "934/933 [==============================] - 94s 101ms/step - loss: 0.1559 - acc: 0.9558 - val_loss: 4.7600 - val_acc: 0.2924\n"
     ]
    }
   ],
   "source": [
    "# Source: https://www.pyimagesearch.com/2018/12/24/how-to-use-keras-fit-and-fit_generator-a-hands-on-tutorial/\n",
    "# https://github.com/keras-team/keras/issues/8540/\n",
    "# https://keras.io/callbacks/\n",
    "# https://machinelearningmastery.com/check-point-deep-learning-models-keras/\n",
    "\n",
    "# checkpoint\n",
    "filepath='./models/3/weights-improvement-{epoch:02d}-{val_acc:.2f}.hdf5'\n",
    "checkpoint = ModelCheckpoint(filepath, monitor='val_acc', verbose=0, save_best_only=True, mode='max', save_weights_only=True)\n",
    "callbacks_list = [checkpoint]\n",
    "\n",
    "# training\n",
    "hist = model.fit_generator(generator=train_set,\n",
    "                              validation_data=val_set,\n",
    "                              epochs = epochs,\n",
    "                              verbose = 1,\n",
    "                              callbacks=callbacks_list,\n",
    "                              steps_per_epoch=42000/batch_size,\n",
    "                              validation_steps=9000/batch_size)\n"
   ]
  },
  {
   "cell_type": "code",
   "execution_count": 19,
   "metadata": {
    "hidden": true
   },
   "outputs": [],
   "source": [
    "with open('./history/3', 'wb') as file:\n",
    "        pickle.dump(hist.history, file)"
   ]
  },
  {
   "cell_type": "markdown",
   "metadata": {
    "heading_collapsed": true
   },
   "source": [
    "#### 4) Adadelta: 25 epochs, 15 batch_size"
   ]
  },
  {
   "cell_type": "code",
   "execution_count": 31,
   "metadata": {
    "hidden": true
   },
   "outputs": [],
   "source": [
    "# Source: https://github.com/priya-dwivedi/Deep-Learning/blob/master/resnet_keras/Residual_Network_Keras.ipynb\n",
    "base_model = applications.resnet50.ResNet50(weights= None, include_top=False, input_shape= (img_height,img_width,3))"
   ]
  },
  {
   "cell_type": "code",
   "execution_count": 32,
   "metadata": {
    "hidden": true
   },
   "outputs": [],
   "source": [
    "# Definiendo parametros\n",
    "\n",
    "# numero de epocas para entrenar, uno de los hiperparametros que voy a variar\n",
    "epochs = 25  \n",
    "\n",
    "# batch size, uno de los hiperparametros que voy a variar\n",
    "\n",
    "batch_size = 15 \n",
    "\n",
    "# Optimizador para entrenar, uno de los hiperparametros que voy a variar\n",
    "opt = 'adadelta'\n",
    "\n"
   ]
  },
  {
   "cell_type": "code",
   "execution_count": 33,
   "metadata": {
    "hidden": true
   },
   "outputs": [
    {
     "name": "stdout",
     "output_type": "stream",
     "text": [
      "Found 42000 images belonging to 100 classes.\n",
      "Found 9000 images belonging to 100 classes.\n",
      "Found 9000 images belonging to 100 classes.\n"
     ]
    }
   ],
   "source": [
    "# Source: https://machinelearningmastery.com/how-to-load-large-datasets-from-directories-for-deep-learning-with-keras/\n",
    "# Comment of Paulo Henrique Zen Messerschmidt\n",
    "\n",
    "# create generator\n",
    "datagen = ImageDataGenerator()\n",
    "\n",
    "train_set = datagen.flow_from_directory('./data/train/', \n",
    "                                       target_size=(img_width, img_height),\n",
    "                                       batch_size=batch_size)\n",
    "\n",
    "test_set = datagen.flow_from_directory('./data/test/', \n",
    "                                       target_size=(img_width, img_height),\n",
    "                                       batch_size=batch_size)\n",
    "\n",
    "val_set = datagen.flow_from_directory('./data/val/', \n",
    "                                       target_size=(img_width, img_height),\n",
    "                                       batch_size=batch_size)"
   ]
  },
  {
   "cell_type": "code",
   "execution_count": 34,
   "metadata": {
    "hidden": true
   },
   "outputs": [],
   "source": [
    "x = base_model.output\n",
    "x = GlobalAveragePooling2D()(x)\n",
    "predictions = Dense(num_clases, activation= 'softmax')(x)\n",
    "    \n",
    "model = Model(inputs = base_model.input, outputs = predictions)\n",
    "\n",
    "#compile \n",
    "model.compile(optimizer=opt, loss='categorical_crossentropy', metrics=['accuracy'])\n"
   ]
  },
  {
   "cell_type": "code",
   "execution_count": 35,
   "metadata": {
    "hidden": true
   },
   "outputs": [
    {
     "name": "stdout",
     "output_type": "stream",
     "text": [
      "Epoch 1/25\n",
      "2800/2800 [==============================] - 251s 90ms/step - loss: 5.2729 - acc: 0.0394 - val_loss: 10.3986 - val_acc: 0.0340\n",
      "Epoch 2/25\n",
      "2800/2800 [==============================] - 234s 84ms/step - loss: 4.8304 - acc: 0.0825 - val_loss: 6.2534 - val_acc: 0.0794\n",
      "Epoch 3/25\n",
      "2800/2800 [==============================] - 234s 84ms/step - loss: 4.5949 - acc: 0.1170 - val_loss: 4.1053 - val_acc: 0.1101\n",
      "Epoch 4/25\n",
      "2800/2800 [==============================] - 235s 84ms/step - loss: 4.2538 - acc: 0.1699 - val_loss: 3.5556 - val_acc: 0.2120\n",
      "Epoch 5/25\n",
      "2800/2800 [==============================] - 234s 84ms/step - loss: 4.0342 - acc: 0.2118 - val_loss: 3.8668 - val_acc: 0.1283\n",
      "Epoch 6/25\n",
      "2800/2800 [==============================] - 234s 84ms/step - loss: 3.8731 - acc: 0.2437 - val_loss: 4.2163 - val_acc: 0.2516\n",
      "Epoch 7/25\n",
      "2800/2800 [==============================] - 234s 84ms/step - loss: 3.6859 - acc: 0.2815 - val_loss: 4.3769 - val_acc: 0.2443\n",
      "Epoch 8/25\n",
      "2800/2800 [==============================] - 234s 83ms/step - loss: 3.5563 - acc: 0.3089 - val_loss: 5.5401 - val_acc: 0.1742\n",
      "Epoch 9/25\n",
      "2800/2800 [==============================] - 234s 84ms/step - loss: 3.3434 - acc: 0.3506 - val_loss: 3.7257 - val_acc: 0.2997\n",
      "Epoch 10/25\n",
      "2800/2800 [==============================] - 234s 84ms/step - loss: 3.1567 - acc: 0.3906 - val_loss: 3.0656 - val_acc: 0.3261\n",
      "Epoch 11/25\n",
      "2800/2800 [==============================] - 234s 84ms/step - loss: 2.9754 - acc: 0.4329 - val_loss: 3.7401 - val_acc: 0.3030\n",
      "Epoch 12/25\n",
      "2800/2800 [==============================] - 234s 84ms/step - loss: 2.7755 - acc: 0.4773 - val_loss: 3.2042 - val_acc: 0.3387\n",
      "Epoch 13/25\n",
      "2800/2800 [==============================] - 234s 84ms/step - loss: 2.5627 - acc: 0.5260 - val_loss: 3.4824 - val_acc: 0.3056\n",
      "Epoch 14/25\n",
      "2800/2800 [==============================] - 234s 84ms/step - loss: 2.3503 - acc: 0.5786 - val_loss: 3.2273 - val_acc: 0.3438\n",
      "Epoch 15/25\n",
      "2800/2800 [==============================] - 235s 84ms/step - loss: 2.0920 - acc: 0.6429 - val_loss: 3.5841 - val_acc: 0.3297\n",
      "Epoch 16/25\n",
      "2800/2800 [==============================] - 234s 84ms/step - loss: 1.8489 - acc: 0.7109 - val_loss: 3.4804 - val_acc: 0.3382\n",
      "Epoch 17/25\n",
      "2800/2800 [==============================] - 235s 84ms/step - loss: 1.6159 - acc: 0.7733 - val_loss: 3.6109 - val_acc: 0.3624\n",
      "Epoch 18/25\n",
      "2800/2800 [==============================] - 234s 83ms/step - loss: 1.4579 - acc: 0.8171 - val_loss: 3.9176 - val_acc: 0.3319\n",
      "Epoch 19/25\n",
      "2800/2800 [==============================] - 234s 83ms/step - loss: 1.3485 - acc: 0.8510 - val_loss: 4.0481 - val_acc: 0.3306\n",
      "Epoch 20/25\n",
      "2800/2800 [==============================] - 235s 84ms/step - loss: 1.2968 - acc: 0.8705 - val_loss: 3.9578 - val_acc: 0.3469\n",
      "Epoch 21/25\n",
      "2800/2800 [==============================] - 235s 84ms/step - loss: 1.2405 - acc: 0.8842 - val_loss: 4.4964 - val_acc: 0.3390\n",
      "Epoch 22/25\n",
      "2800/2800 [==============================] - 234s 84ms/step - loss: 1.2116 - acc: 0.8931 - val_loss: 4.2608 - val_acc: 0.3393\n",
      "Epoch 23/25\n",
      "2800/2800 [==============================] - 234s 84ms/step - loss: 1.2008 - acc: 0.8975 - val_loss: 4.2951 - val_acc: 0.3471\n",
      "Epoch 24/25\n",
      "2800/2800 [==============================] - 235s 84ms/step - loss: 1.3784 - acc: 0.8575 - val_loss: 5.0320 - val_acc: 0.3203\n",
      "Epoch 25/25\n",
      "2800/2800 [==============================] - 234s 84ms/step - loss: 1.4111 - acc: 0.8411 - val_loss: 4.9868 - val_acc: 0.3018\n"
     ]
    }
   ],
   "source": [
    "# Source: https://www.pyimagesearch.com/2018/12/24/how-to-use-keras-fit-and-fit_generator-a-hands-on-tutorial/\n",
    "# https://github.com/keras-team/keras/issues/8540/\n",
    "# https://keras.io/callbacks/\n",
    "# https://machinelearningmastery.com/check-point-deep-learning-models-keras/\n",
    "\n",
    "# checkpoint\n",
    "filepath='./models/4/weights-improvement-{epoch:02d}-{val_acc:.2f}.hdf5'\n",
    "checkpoint = ModelCheckpoint(filepath, monitor='val_acc', verbose=0, save_best_only=True, mode='max', save_weights_only=True)\n",
    "callbacks_list = [checkpoint]\n",
    "\n",
    "# training\n",
    "hist = model.fit_generator(generator=train_set,\n",
    "                              validation_data=val_set,\n",
    "                              epochs = epochs,\n",
    "                              verbose = 1,\n",
    "                              callbacks=callbacks_list,\n",
    "                              steps_per_epoch=42000/batch_size,\n",
    "                              validation_steps=9000/batch_size)\n"
   ]
  },
  {
   "cell_type": "code",
   "execution_count": 36,
   "metadata": {
    "hidden": true
   },
   "outputs": [],
   "source": [
    "with open('./history/4', 'wb') as file:\n",
    "        pickle.dump(hist.history, file)"
   ]
  },
  {
   "cell_type": "markdown",
   "metadata": {
    "heading_collapsed": true
   },
   "source": [
    "#### 5) Adadelta: 25 epochs, 30 batch_size"
   ]
  },
  {
   "cell_type": "code",
   "execution_count": 19,
   "metadata": {
    "hidden": true
   },
   "outputs": [],
   "source": [
    "# Source: https://github.com/priya-dwivedi/Deep-Learning/blob/master/resnet_keras/Residual_Network_Keras.ipynb\n",
    "base_model = applications.resnet50.ResNet50(weights= None, include_top=False, input_shape= (img_height,img_width,3))"
   ]
  },
  {
   "cell_type": "code",
   "execution_count": 20,
   "metadata": {
    "hidden": true
   },
   "outputs": [],
   "source": [
    "# Definiendo parametros\n",
    "\n",
    "# numero de epocas para entrenar, uno de los hiperparametros que voy a variar\n",
    "epochs = 25  \n",
    "\n",
    "# batch size, uno de los hiperparametros que voy a variar\n",
    "\n",
    "batch_size = 30 \n",
    "\n",
    "# Optimizador para entrenar, uno de los hiperparametros que voy a variar\n",
    "opt = 'adadelta'\n",
    "\n"
   ]
  },
  {
   "cell_type": "code",
   "execution_count": 21,
   "metadata": {
    "hidden": true
   },
   "outputs": [
    {
     "name": "stdout",
     "output_type": "stream",
     "text": [
      "Found 42000 images belonging to 100 classes.\n",
      "Found 9000 images belonging to 100 classes.\n",
      "Found 9000 images belonging to 100 classes.\n"
     ]
    }
   ],
   "source": [
    "# Source: https://machinelearningmastery.com/how-to-load-large-datasets-from-directories-for-deep-learning-with-keras/\n",
    "# Comment of Paulo Henrique Zen Messerschmidt\n",
    "\n",
    "# create generator\n",
    "datagen = ImageDataGenerator()\n",
    "\n",
    "train_set = datagen.flow_from_directory('./data/train/', \n",
    "                                       target_size=(img_width, img_height),\n",
    "                                       batch_size=batch_size)\n",
    "\n",
    "test_set = datagen.flow_from_directory('./data/test/', \n",
    "                                       target_size=(img_width, img_height),\n",
    "                                       batch_size=batch_size)\n",
    "\n",
    "val_set = datagen.flow_from_directory('./data/val/', \n",
    "                                       target_size=(img_width, img_height),\n",
    "                                       batch_size=batch_size)"
   ]
  },
  {
   "cell_type": "code",
   "execution_count": 22,
   "metadata": {
    "hidden": true
   },
   "outputs": [],
   "source": [
    "x = base_model.output\n",
    "x = GlobalAveragePooling2D()(x)\n",
    "predictions = Dense(num_clases, activation= 'softmax')(x)\n",
    "    \n",
    "model = Model(inputs = base_model.input, outputs = predictions)\n",
    "\n",
    "#compile \n",
    "model.compile(optimizer=opt, loss='categorical_crossentropy', metrics=['accuracy'])"
   ]
  },
  {
   "cell_type": "code",
   "execution_count": 23,
   "metadata": {
    "hidden": true
   },
   "outputs": [
    {
     "name": "stdout",
     "output_type": "stream",
     "text": [
      "Epoch 1/25\n",
      "1400/1400 [==============================] - 140s 100ms/step - loss: 4.6923 - acc: 0.0555 - val_loss: 4.4692 - val_acc: 0.0761\n",
      "Epoch 2/25\n",
      "1400/1400 [==============================] - 127s 91ms/step - loss: 4.3821 - acc: 0.0970 - val_loss: 4.8731 - val_acc: 0.0959\n",
      "Epoch 3/25\n",
      "1400/1400 [==============================] - 127s 91ms/step - loss: 4.0476 - acc: 0.1444 - val_loss: 4.7313 - val_acc: 0.1012\n",
      "Epoch 4/25\n",
      "1400/1400 [==============================] - 127s 91ms/step - loss: 3.8947 - acc: 0.1726 - val_loss: 3.2970 - val_acc: 0.2104\n",
      "Epoch 5/25\n",
      "1400/1400 [==============================] - 127s 91ms/step - loss: 3.5499 - acc: 0.2304 - val_loss: 5.7549 - val_acc: 0.1550\n",
      "Epoch 6/25\n",
      "1400/1400 [==============================] - 127s 91ms/step - loss: 3.3651 - acc: 0.2667 - val_loss: 4.5198 - val_acc: 0.1346\n",
      "Epoch 7/25\n",
      "1400/1400 [==============================] - 127s 91ms/step - loss: 3.1619 - acc: 0.3082 - val_loss: 3.9168 - val_acc: 0.1532\n",
      "Epoch 8/25\n",
      "1400/1400 [==============================] - 127s 91ms/step - loss: 3.0292 - acc: 0.3362 - val_loss: 3.8170 - val_acc: 0.2276\n",
      "Epoch 9/25\n",
      "1400/1400 [==============================] - 127s 91ms/step - loss: 2.9489 - acc: 0.3572 - val_loss: 2.9236 - val_acc: 0.3186\n",
      "Epoch 10/25\n",
      "1400/1400 [==============================] - 127s 91ms/step - loss: 2.7050 - acc: 0.4011 - val_loss: 3.0849 - val_acc: 0.2869\n",
      "Epoch 11/25\n",
      "1400/1400 [==============================] - 127s 91ms/step - loss: 2.5598 - acc: 0.4377 - val_loss: 3.0561 - val_acc: 0.3381\n",
      "Epoch 12/25\n",
      "1400/1400 [==============================] - 127s 91ms/step - loss: 2.5515 - acc: 0.4480 - val_loss: 3.6672 - val_acc: 0.2920\n",
      "Epoch 13/25\n",
      "1400/1400 [==============================] - 127s 91ms/step - loss: 2.3912 - acc: 0.4789 - val_loss: 3.4009 - val_acc: 0.2882\n",
      "Epoch 14/25\n",
      "1400/1400 [==============================] - 127s 91ms/step - loss: 2.1478 - acc: 0.5413 - val_loss: 2.9271 - val_acc: 0.3380\n",
      "Epoch 15/25\n",
      "1400/1400 [==============================] - 127s 91ms/step - loss: 1.7580 - acc: 0.5532 - val_loss: 3.1931 - val_acc: 0.3116\n",
      "Epoch 16/25\n",
      "1400/1400 [==============================] - 127s 91ms/step - loss: 1.1641 - acc: 0.6700 - val_loss: 3.5332 - val_acc: 0.2879\n",
      "Epoch 17/25\n",
      "1400/1400 [==============================] - 127s 91ms/step - loss: 0.7957 - acc: 0.7716 - val_loss: 4.0842 - val_acc: 0.2520\n",
      "Epoch 18/25\n",
      "1400/1400 [==============================] - 127s 91ms/step - loss: 0.4962 - acc: 0.8596 - val_loss: 3.4780 - val_acc: 0.3250\n",
      "Epoch 19/25\n",
      "1400/1400 [==============================] - 127s 91ms/step - loss: 0.3026 - acc: 0.9152 - val_loss: 3.7453 - val_acc: 0.3492\n",
      "Epoch 20/25\n",
      "1400/1400 [==============================] - 127s 91ms/step - loss: 0.1958 - acc: 0.9454 - val_loss: 4.1046 - val_acc: 0.3154\n",
      "Epoch 21/25\n",
      "1400/1400 [==============================] - 127s 91ms/step - loss: 0.1356 - acc: 0.9645 - val_loss: 4.0705 - val_acc: 0.3233\n",
      "Epoch 22/25\n",
      "1400/1400 [==============================] - 127s 91ms/step - loss: 0.0913 - acc: 0.9764 - val_loss: 4.0458 - val_acc: 0.3454\n",
      "Epoch 23/25\n",
      "1400/1400 [==============================] - 127s 91ms/step - loss: 0.0615 - acc: 0.9844 - val_loss: 4.6945 - val_acc: 0.3042\n",
      "Epoch 24/25\n",
      "1400/1400 [==============================] - 127s 91ms/step - loss: 0.0479 - acc: 0.9889 - val_loss: 4.1377 - val_acc: 0.3642\n",
      "Epoch 25/25\n",
      "1400/1400 [==============================] - 127s 91ms/step - loss: 0.0361 - acc: 0.9915 - val_loss: 4.6821 - val_acc: 0.3186\n"
     ]
    }
   ],
   "source": [
    "# Source: https://www.pyimagesearch.com/2018/12/24/how-to-use-keras-fit-and-fit_generator-a-hands-on-tutorial/\n",
    "# https://github.com/keras-team/keras/issues/8540/\n",
    "# https://keras.io/callbacks/\n",
    "# https://machinelearningmastery.com/check-point-deep-learning-models-keras/\n",
    "\n",
    "# checkpoint\n",
    "filepath='./models/5/weights-improvement-{epoch:02d}-{val_acc:.2f}.hdf5'\n",
    "checkpoint = ModelCheckpoint(filepath, monitor='val_acc', verbose=0, save_best_only=True, mode='max', save_weights_only=True)\n",
    "callbacks_list = [checkpoint]\n",
    "\n",
    "# training\n",
    "hist = model.fit_generator(generator=train_set,\n",
    "                              validation_data=val_set,\n",
    "                              epochs = epochs,\n",
    "                              verbose = 1,\n",
    "                              callbacks=callbacks_list,\n",
    "                              steps_per_epoch=42000/batch_size,\n",
    "                              validation_steps=9000/batch_size)"
   ]
  },
  {
   "cell_type": "code",
   "execution_count": 24,
   "metadata": {
    "hidden": true
   },
   "outputs": [],
   "source": [
    "with open('./history/5', 'wb') as file:\n",
    "        pickle.dump(hist.history, file)"
   ]
  },
  {
   "cell_type": "markdown",
   "metadata": {
    "heading_collapsed": true
   },
   "source": [
    "#### 6) Adadelta: 25 epochs, 45 batch_size"
   ]
  },
  {
   "cell_type": "code",
   "execution_count": 25,
   "metadata": {
    "hidden": true
   },
   "outputs": [],
   "source": [
    "# Source: https://github.com/priya-dwivedi/Deep-Learning/blob/master/resnet_keras/Residual_Network_Keras.ipynb\n",
    "base_model = applications.resnet50.ResNet50(weights= None, include_top=False, input_shape= (img_height,img_width,3))"
   ]
  },
  {
   "cell_type": "code",
   "execution_count": 26,
   "metadata": {
    "hidden": true
   },
   "outputs": [],
   "source": [
    "# Definiendo parametros\n",
    "\n",
    "# numero de epocas para entrenar, uno de los hiperparametros que voy a variar\n",
    "epochs = 25  \n",
    "\n",
    "# batch size, uno de los hiperparametros que voy a variar\n",
    "\n",
    "batch_size = 45 \n",
    "\n",
    "# Optimizador para entrenar, uno de los hiperparametros que voy a variar\n",
    "opt = 'adadelta'\n",
    "\n"
   ]
  },
  {
   "cell_type": "code",
   "execution_count": 27,
   "metadata": {
    "hidden": true
   },
   "outputs": [
    {
     "name": "stdout",
     "output_type": "stream",
     "text": [
      "Found 42000 images belonging to 100 classes.\n",
      "Found 9000 images belonging to 100 classes.\n",
      "Found 9000 images belonging to 100 classes.\n"
     ]
    }
   ],
   "source": [
    "# Source: https://machinelearningmastery.com/how-to-load-large-datasets-from-directories-for-deep-learning-with-keras/\n",
    "# Comment of Paulo Henrique Zen Messerschmidt\n",
    "\n",
    "# create generator\n",
    "datagen = ImageDataGenerator()\n",
    "\n",
    "train_set = datagen.flow_from_directory('./data/train/', \n",
    "                                       target_size=(img_width, img_height),\n",
    "                                       batch_size=batch_size)\n",
    "\n",
    "test_set = datagen.flow_from_directory('./data/test/', \n",
    "                                       target_size=(img_width, img_height),\n",
    "                                       batch_size=batch_size)\n",
    "\n",
    "val_set = datagen.flow_from_directory('./data/val/', \n",
    "                                       target_size=(img_width, img_height),\n",
    "                                       batch_size=batch_size)"
   ]
  },
  {
   "cell_type": "code",
   "execution_count": 28,
   "metadata": {
    "hidden": true
   },
   "outputs": [],
   "source": [
    "x = base_model.output\n",
    "x = GlobalAveragePooling2D()(x)\n",
    "predictions = Dense(num_clases, activation= 'softmax')(x)\n",
    "    \n",
    "model = Model(inputs = base_model.input, outputs = predictions)\n",
    "\n",
    "#compile \n",
    "model.compile(optimizer=opt, loss='categorical_crossentropy', metrics=['accuracy'])"
   ]
  },
  {
   "cell_type": "code",
   "execution_count": 29,
   "metadata": {
    "hidden": true
   },
   "outputs": [
    {
     "name": "stdout",
     "output_type": "stream",
     "text": [
      "Epoch 1/25\n",
      "934/933 [==============================] - 115s 123ms/step - loss: 4.6286 - acc: 0.0516 - val_loss: 7.2483 - val_acc: 0.0422\n",
      "Epoch 2/25\n",
      "934/933 [==============================] - 99s 106ms/step - loss: 4.0818 - acc: 0.1174 - val_loss: 6.9577 - val_acc: 0.0278\n",
      "Epoch 3/25\n",
      "934/933 [==============================] - 99s 106ms/step - loss: 3.9790 - acc: 0.1389 - val_loss: 4.9783 - val_acc: 0.0696\n",
      "Epoch 4/25\n",
      "934/933 [==============================] - 99s 106ms/step - loss: 3.6493 - acc: 0.1922 - val_loss: 4.3642 - val_acc: 0.1143\n",
      "Epoch 5/25\n",
      "934/933 [==============================] - 99s 106ms/step - loss: 3.5368 - acc: 0.2129 - val_loss: 4.7627 - val_acc: 0.1547\n",
      "Epoch 6/25\n",
      "934/933 [==============================] - 99s 106ms/step - loss: 3.5694 - acc: 0.2145 - val_loss: 4.0097 - val_acc: 0.1653\n",
      "Epoch 7/25\n",
      "934/933 [==============================] - 99s 106ms/step - loss: 3.2542 - acc: 0.2635 - val_loss: 4.6997 - val_acc: 0.0924\n",
      "Epoch 8/25\n",
      "934/933 [==============================] - 99s 106ms/step - loss: 3.1472 - acc: 0.2911 - val_loss: 4.7441 - val_acc: 0.1193\n",
      "Epoch 9/25\n",
      "934/933 [==============================] - 99s 106ms/step - loss: 2.9602 - acc: 0.3242 - val_loss: 4.0736 - val_acc: 0.2402\n",
      "Epoch 10/25\n",
      "934/933 [==============================] - 99s 106ms/step - loss: 2.8681 - acc: 0.3413 - val_loss: 3.9759 - val_acc: 0.1792\n",
      "Epoch 11/25\n",
      "934/933 [==============================] - 99s 106ms/step - loss: 2.8410 - acc: 0.3574 - val_loss: 3.5492 - val_acc: 0.2101\n",
      "Epoch 12/25\n",
      "934/933 [==============================] - 99s 106ms/step - loss: 2.8069 - acc: 0.3629 - val_loss: 2.9718 - val_acc: 0.2932\n",
      "Epoch 13/25\n",
      "934/933 [==============================] - 99s 106ms/step - loss: 2.4467 - acc: 0.3941 - val_loss: 4.0543 - val_acc: 0.1772\n",
      "Epoch 14/25\n",
      "934/933 [==============================] - 99s 106ms/step - loss: 1.9299 - acc: 0.4828 - val_loss: 3.3401 - val_acc: 0.2552\n",
      "Epoch 15/25\n",
      "934/933 [==============================] - 100s 107ms/step - loss: 1.6079 - acc: 0.5605 - val_loss: 3.6592 - val_acc: 0.2391\n",
      "Epoch 16/25\n",
      "934/933 [==============================] - 100s 107ms/step - loss: 1.2782 - acc: 0.6411 - val_loss: 3.2163 - val_acc: 0.2981\n",
      "Epoch 17/25\n",
      "934/933 [==============================] - 99s 106ms/step - loss: 0.9378 - acc: 0.7286 - val_loss: 3.7108 - val_acc: 0.2869\n",
      "Epoch 18/25\n",
      "934/933 [==============================] - 99s 106ms/step - loss: 0.6181 - acc: 0.8214 - val_loss: 4.4514 - val_acc: 0.2291\n",
      "Epoch 19/25\n",
      "934/933 [==============================] - 99s 106ms/step - loss: 0.4039 - acc: 0.8812 - val_loss: 5.0386 - val_acc: 0.2218\n",
      "Epoch 20/25\n",
      "934/933 [==============================] - 99s 106ms/step - loss: 0.2549 - acc: 0.9251 - val_loss: 3.9958 - val_acc: 0.3193\n",
      "Epoch 21/25\n",
      "934/933 [==============================] - 99s 106ms/step - loss: 0.1701 - acc: 0.9509 - val_loss: 5.9505 - val_acc: 0.2041\n",
      "Epoch 22/25\n",
      "934/933 [==============================] - 99s 106ms/step - loss: 0.1292 - acc: 0.9641 - val_loss: 4.0789 - val_acc: 0.3414\n",
      "Epoch 23/25\n",
      "934/933 [==============================] - 99s 106ms/step - loss: 0.0910 - acc: 0.9747 - val_loss: 6.9233 - val_acc: 0.1909\n",
      "Epoch 24/25\n",
      "934/933 [==============================] - 99s 106ms/step - loss: 0.0671 - acc: 0.9826 - val_loss: 5.4919 - val_acc: 0.2684\n",
      "Epoch 25/25\n",
      "934/933 [==============================] - 99s 106ms/step - loss: 0.0493 - acc: 0.9872 - val_loss: 5.0442 - val_acc: 0.3027\n"
     ]
    }
   ],
   "source": [
    "# Source: https://www.pyimagesearch.com/2018/12/24/how-to-use-keras-fit-and-fit_generator-a-hands-on-tutorial/\n",
    "# https://github.com/keras-team/keras/issues/8540/\n",
    "# https://keras.io/callbacks/\n",
    "# https://machinelearningmastery.com/check-point-deep-learning-models-keras/\n",
    "\n",
    "# checkpoint\n",
    "filepath='./models/5/weights-improvement-{epoch:02d}-{val_acc:.2f}.hdf5'\n",
    "checkpoint = ModelCheckpoint(filepath, monitor='val_acc', verbose=0, save_best_only=True, mode='max', save_weights_only=True)\n",
    "callbacks_list = [checkpoint]\n",
    "\n",
    "# training\n",
    "hist = model.fit_generator(generator=train_set,\n",
    "                              validation_data=val_set,\n",
    "                              epochs = epochs,\n",
    "                              verbose = 1,\n",
    "                              callbacks=callbacks_list,\n",
    "                              steps_per_epoch=42000/batch_size,\n",
    "                              validation_steps=9000/batch_size)"
   ]
  },
  {
   "cell_type": "code",
   "execution_count": 30,
   "metadata": {
    "hidden": true
   },
   "outputs": [],
   "source": [
    "with open('./history/6', 'wb') as file:\n",
    "        pickle.dump(hist.history, file)"
   ]
  },
  {
   "cell_type": "markdown",
   "metadata": {},
   "source": [
    "#### Actividad 8"
   ]
  },
  {
   "cell_type": "markdown",
   "metadata": {},
   "source": [
    "Vamos a ir viendo cada uno de los entrenamientos anteriores.\n",
    "\n",
    "Source: https://machinelearningmastery.com/display-deep-learning-model-training-history-in-keras/"
   ]
  },
  {
   "cell_type": "markdown",
   "metadata": {
    "heading_collapsed": true
   },
   "source": [
    "##### 1) Graficos: Adam: 25 epochs, 15 batch_size"
   ]
  },
  {
   "cell_type": "code",
   "execution_count": 2,
   "metadata": {
    "hidden": true
   },
   "outputs": [],
   "source": [
    "with open('./history/1', 'rb') as f:\n",
    "    hist = pickle.load(f)"
   ]
  },
  {
   "cell_type": "code",
   "execution_count": 8,
   "metadata": {
    "hidden": true
   },
   "outputs": [
    {
     "data": {
      "text/plain": [
       "<matplotlib.legend.Legend at 0x7f329826fd30>"
      ]
     },
     "execution_count": 8,
     "metadata": {},
     "output_type": "execute_result"
    },
    {
     "data": {
      "image/png": "[encoded data removed]",
      "text/plain": [
       "<Figure size 432x288 with 1 Axes>"
      ]
     },
     "metadata": {
      "needs_background": "light"
     },
     "output_type": "display_data"
    }
   ],
   "source": [
    "# lines\n",
    "plt.plot(hist['loss'])\n",
    "plt.plot(hist['val_loss'])\n",
    "\n",
    "# title\n",
    "plt.title(\"Perdida de Set de Train y Validacion de 1) Adam: 25 epochs, 15 batch_size\")\n",
    "\n",
    "# labels de los ejes\n",
    "plt.ylabel('perdida')\n",
    "plt.xlabel('epochs')\n",
    "\n",
    "# leyenda\n",
    "plt.legend(['Train', 'Validation'])"
   ]
  },
  {
   "cell_type": "code",
   "execution_count": 14,
   "metadata": {
    "hidden": true
   },
   "outputs": [
    {
     "data": {
      "text/plain": [
       "<matplotlib.legend.Legend at 0x7f3298214b00>"
      ]
     },
     "execution_count": 14,
     "metadata": {},
     "output_type": "execute_result"
    },
    {
     "data": {
      "image/png": "[encoded data removed]",
      "text/plain": [
       "<Figure size 432x288 with 1 Axes>"
      ]
     },
     "metadata": {
      "needs_background": "light"
     },
     "output_type": "display_data"
    }
   ],
   "source": [
    "# lines\n",
    "plt.plot(hist['acc'])\n",
    "plt.plot(hist['val_acc'])\n",
    "\n",
    "# title\n",
    "plt.title(\"Exactitud de Set de Train y Validacion de 1) Adam: 25 epochs, 15 batch_size\")\n",
    "\n",
    "# labels de los ejes\n",
    "plt.ylabel('exactitud')\n",
    "plt.xlabel('epochs')\n",
    "\n",
    "# leyenda\n",
    "plt.legend(['Train', 'Validation'])"
   ]
  },
  {
   "cell_type": "markdown",
   "metadata": {
    "heading_collapsed": true
   },
   "source": [
    "##### 2) Graficos: Adam: 25 epochs, 30 batch_size"
   ]
  },
  {
   "cell_type": "code",
   "execution_count": 31,
   "metadata": {
    "hidden": true
   },
   "outputs": [],
   "source": [
    "with open('./history/2', 'rb') as f:\n",
    "    hist = pickle.load(f)"
   ]
  },
  {
   "cell_type": "code",
   "execution_count": 32,
   "metadata": {
    "hidden": true
   },
   "outputs": [
    {
     "data": {
      "text/plain": [
       "<matplotlib.legend.Legend at 0x7f3297c786a0>"
      ]
     },
     "execution_count": 32,
     "metadata": {},
     "output_type": "execute_result"
    },
    {
     "data": {
      "image/png": "[encoded data removed]",
      "text/plain": [
       "<Figure size 432x288 with 1 Axes>"
      ]
     },
     "metadata": {
      "needs_background": "light"
     },
     "output_type": "display_data"
    }
   ],
   "source": [
    "# lines\n",
    "plt.plot(hist['loss'])\n",
    "plt.plot(hist['val_loss'])\n",
    "\n",
    "# title\n",
    "plt.title(\"Perdida de Set de Train y Validacion de 2\")\n",
    "\n",
    "# labels de los ejes\n",
    "plt.ylabel('perdida')\n",
    "plt.xlabel('epochs')\n",
    "\n",
    "# leyenda\n",
    "plt.legend(['Train', 'Validation'])"
   ]
  },
  {
   "cell_type": "code",
   "execution_count": 33,
   "metadata": {
    "hidden": true
   },
   "outputs": [
    {
     "data": {
      "text/plain": [
       "<matplotlib.legend.Legend at 0x7f33448bef60>"
      ]
     },
     "execution_count": 33,
     "metadata": {},
     "output_type": "execute_result"
    },
    {
     "data": {
      "image/png": "[encoded data removed]",
      "text/plain": [
       "<Figure size 432x288 with 1 Axes>"
      ]
     },
     "metadata": {
      "needs_background": "light"
     },
     "output_type": "display_data"
    }
   ],
   "source": [
    "# lines\n",
    "plt.plot(hist['acc'])\n",
    "plt.plot(hist['val_acc'])\n",
    "\n",
    "# title\n",
    "plt.title(\"Exactitud de Set de Train y Validacion de 2\")\n",
    "\n",
    "# labels de los ejes\n",
    "plt.ylabel('exactitud')\n",
    "plt.xlabel('epochs')\n",
    "\n",
    "# leyenda\n",
    "plt.legend(['Train', 'Validation'])"
   ]
  },
  {
   "cell_type": "markdown",
   "metadata": {
    "heading_collapsed": true
   },
   "source": [
    "##### 3) Graficos: Adam: 25 epochs, 45 batch_size"
   ]
  },
  {
   "cell_type": "code",
   "execution_count": 34,
   "metadata": {
    "hidden": true
   },
   "outputs": [],
   "source": [
    "with open('./history/3', 'rb') as f:\n",
    "    hist = pickle.load(f)"
   ]
  },
  {
   "cell_type": "code",
   "execution_count": 35,
   "metadata": {
    "hidden": true
   },
   "outputs": [
    {
     "data": {
      "text/plain": [
       "<matplotlib.legend.Legend at 0x7f3344890cf8>"
      ]
     },
     "execution_count": 35,
     "metadata": {},
     "output_type": "execute_result"
    },
    {
     "data": {
      "image/png": "[encoded data removed]",
      "text/plain": [
       "<Figure size 432x288 with 1 Axes>"
      ]
     },
     "metadata": {
      "needs_background": "light"
     },
     "output_type": "display_data"
    }
   ],
   "source": [
    "# lines\n",
    "plt.plot(hist['loss'])\n",
    "plt.plot(hist['val_loss'])\n",
    "\n",
    "# title\n",
    "plt.title(\"Perdida de Set de Train y Validacion de 3\")\n",
    "\n",
    "# labels de los ejes\n",
    "plt.ylabel('perdida')\n",
    "plt.xlabel('epochs')\n",
    "\n",
    "# leyenda\n",
    "plt.legend(['Train', 'Validation'])"
   ]
  },
  {
   "cell_type": "code",
   "execution_count": 36,
   "metadata": {
    "hidden": true
   },
   "outputs": [
    {
     "data": {
      "text/plain": [
       "<matplotlib.legend.Legend at 0x7f33448017f0>"
      ]
     },
     "execution_count": 36,
     "metadata": {},
     "output_type": "execute_result"
    },
    {
     "data": {
      "image/png": "[encoded data removed]",
      "text/plain": [
       "<Figure size 432x288 with 1 Axes>"
      ]
     },
     "metadata": {
      "needs_background": "light"
     },
     "output_type": "display_data"
    }
   ],
   "source": [
    "# lines\n",
    "plt.plot(hist['acc'])\n",
    "plt.plot(hist['val_acc'])\n",
    "\n",
    "# title\n",
    "plt.title(\"Exactitud de Set de Train y Validacion de 3\")\n",
    "\n",
    "# labels de los ejes\n",
    "plt.ylabel('exactitud')\n",
    "plt.xlabel('epochs')\n",
    "\n",
    "# leyenda\n",
    "plt.legend(['Train', 'Validation'])"
   ]
  },
  {
   "cell_type": "markdown",
   "metadata": {
    "heading_collapsed": true
   },
   "source": [
    "##### 4) Graficos: Adadelta: 25 epochs, 15 batch_size"
   ]
  },
  {
   "cell_type": "code",
   "execution_count": 37,
   "metadata": {
    "hidden": true
   },
   "outputs": [],
   "source": [
    "with open('./history/4', 'rb') as f:\n",
    "    hist = pickle.load(f)"
   ]
  },
  {
   "cell_type": "code",
   "execution_count": 38,
   "metadata": {
    "hidden": true
   },
   "outputs": [
    {
     "data": {
      "text/plain": [
       "<matplotlib.legend.Legend at 0x7f3297f30518>"
      ]
     },
     "execution_count": 38,
     "metadata": {},
     "output_type": "execute_result"
    },
    {
     "data": {
      "image/png": "[encoded data removed]",
      "text/plain": [
       "<Figure size 432x288 with 1 Axes>"
      ]
     },
     "metadata": {
      "needs_background": "light"
     },
     "output_type": "display_data"
    }
   ],
   "source": [
    "# lines\n",
    "plt.plot(hist['loss'])\n",
    "plt.plot(hist['val_loss'])\n",
    "\n",
    "# title\n",
    "plt.title(\"Perdida de Set de Train y Validacion de 4\")\n",
    "\n",
    "# labels de los ejes\n",
    "plt.ylabel('perdida')\n",
    "plt.xlabel('epochs')\n",
    "\n",
    "# leyenda\n",
    "plt.legend(['Train', 'Validation'])"
   ]
  },
  {
   "cell_type": "code",
   "execution_count": 39,
   "metadata": {
    "hidden": true
   },
   "outputs": [
    {
     "data": {
      "text/plain": [
       "<matplotlib.legend.Legend at 0x7f3344746e10>"
      ]
     },
     "execution_count": 39,
     "metadata": {},
     "output_type": "execute_result"
    },
    {
     "data": {
      "image/png": "[encoded data removed]",
      "text/plain": [
       "<Figure size 432x288 with 1 Axes>"
      ]
     },
     "metadata": {
      "needs_background": "light"
     },
     "output_type": "display_data"
    }
   ],
   "source": [
    "# lines\n",
    "plt.plot(hist['acc'])\n",
    "plt.plot(hist['val_acc'])\n",
    "\n",
    "# title\n",
    "plt.title(\"Exactitud de Set de Train y Validacion de 4\")\n",
    "\n",
    "# labels de los ejes\n",
    "plt.ylabel('exactitud')\n",
    "plt.xlabel('epochs')\n",
    "\n",
    "# leyenda\n",
    "plt.legend(['Train', 'Validation'])"
   ]
  },
  {
   "cell_type": "markdown",
   "metadata": {
    "heading_collapsed": true
   },
   "source": [
    "##### 5) Graficos: Adadelta: 25 epochs, 30 batch_size"
   ]
  },
  {
   "cell_type": "code",
   "execution_count": 24,
   "metadata": {
    "hidden": true
   },
   "outputs": [],
   "source": [
    "with open('./history/5', 'rb') as f:\n",
    "    hist = pickle.load(f)"
   ]
  },
  {
   "cell_type": "code",
   "execution_count": 40,
   "metadata": {
    "hidden": true
   },
   "outputs": [
    {
     "data": {
      "text/plain": [
       "<matplotlib.legend.Legend at 0x7f33446ad828>"
      ]
     },
     "execution_count": 40,
     "metadata": {},
     "output_type": "execute_result"
    },
    {
     "data": {
      "image/png": "[encoded data removed]",
      "text/plain": [
       "<Figure size 432x288 with 1 Axes>"
      ]
     },
     "metadata": {
      "needs_background": "light"
     },
     "output_type": "display_data"
    }
   ],
   "source": [
    "# lines\n",
    "plt.plot(hist['loss'])\n",
    "plt.plot(hist['val_loss'])\n",
    "\n",
    "# title\n",
    "plt.title(\"Perdida de Set de Train y Validacion de 5\")\n",
    "\n",
    "# labels de los ejes\n",
    "plt.ylabel('perdida')\n",
    "plt.xlabel('epochs')\n",
    "\n",
    "# leyenda\n",
    "plt.legend(['Train', 'Validation'])"
   ]
  },
  {
   "cell_type": "code",
   "execution_count": 41,
   "metadata": {
    "hidden": true
   },
   "outputs": [
    {
     "data": {
      "text/plain": [
       "<matplotlib.legend.Legend at 0x7f3344695080>"
      ]
     },
     "execution_count": 41,
     "metadata": {},
     "output_type": "execute_result"
    },
    {
     "data": {
      "image/png": "[encoded data removed]",
      "text/plain": [
       "<Figure size 432x288 with 1 Axes>"
      ]
     },
     "metadata": {
      "needs_background": "light"
     },
     "output_type": "display_data"
    }
   ],
   "source": [
    "# lines\n",
    "plt.plot(hist['acc'])\n",
    "plt.plot(hist['val_acc'])\n",
    "\n",
    "# title\n",
    "plt.title(\"Exactitud de Set de Train y Validacion de 5\")\n",
    "\n",
    "# labels de los ejes\n",
    "plt.ylabel('exactitud')\n",
    "plt.xlabel('epochs')\n",
    "\n",
    "# leyenda\n",
    "plt.legend(['Train', 'Validation'])"
   ]
  },
  {
   "cell_type": "markdown",
   "metadata": {
    "heading_collapsed": true
   },
   "source": [
    "##### 6) Graficos: Adadelta: 25 epochs, 45 batch_size"
   ]
  },
  {
   "cell_type": "code",
   "execution_count": 42,
   "metadata": {
    "hidden": true
   },
   "outputs": [],
   "source": [
    "with open('./history/6', 'rb') as f:\n",
    "    hist = pickle.load(f)"
   ]
  },
  {
   "cell_type": "code",
   "execution_count": 43,
   "metadata": {
    "hidden": true
   },
   "outputs": [
    {
     "data": {
      "text/plain": [
       "<matplotlib.legend.Legend at 0x7f33445f6978>"
      ]
     },
     "execution_count": 43,
     "metadata": {},
     "output_type": "execute_result"
    },
    {
     "data": {
      "image/png": "[encoded data removed]",
      "text/plain": [
       "<Figure size 432x288 with 1 Axes>"
      ]
     },
     "metadata": {
      "needs_background": "light"
     },
     "output_type": "display_data"
    }
   ],
   "source": [
    "# lines\n",
    "plt.plot(hist['loss'])\n",
    "plt.plot(hist['val_loss'])\n",
    "\n",
    "# title\n",
    "plt.title(\"Perdida de Set de Train y Validacion de 6\")\n",
    "\n",
    "# labels de los ejes\n",
    "plt.ylabel('perdida')\n",
    "plt.xlabel('epochs')\n",
    "\n",
    "# leyenda\n",
    "plt.legend(['Train', 'Validation'])"
   ]
  },
  {
   "cell_type": "code",
   "execution_count": 45,
   "metadata": {
    "hidden": true
   },
   "outputs": [
    {
     "data": {
      "text/plain": [
       "<matplotlib.legend.Legend at 0x7f3344567048>"
      ]
     },
     "execution_count": 45,
     "metadata": {},
     "output_type": "execute_result"
    },
    {
     "data": {
      "image/png": "[encoded data removed]",
      "text/plain": [
       "<Figure size 432x288 with 1 Axes>"
      ]
     },
     "metadata": {
      "needs_background": "light"
     },
     "output_type": "display_data"
    }
   ],
   "source": [
    "# lines\n",
    "plt.plot(hist['acc'])\n",
    "plt.plot(hist['val_acc'])\n",
    "\n",
    "# title\n",
    "plt.title(\"Exactitud de Set de Train y Validacion de 6\")\n",
    "\n",
    "# labels de los ejes\n",
    "plt.ylabel('exactitud')\n",
    "plt.xlabel('epochs')\n",
    "\n",
    "# leyenda\n",
    "plt.legend(['Train', 'Validation'])"
   ]
  },
  {
   "cell_type": "markdown",
   "metadata": {
    "heading_collapsed": true
   },
   "source": [
    "##### Analisis"
   ]
  },
  {
   "cell_type": "markdown",
   "metadata": {
    "hidden": true
   },
   "source": [
    "Primero, vemos en todos los graficos comportamientos similares independiente del Experimento. En los gráficos Perdida v/s Epochs; el Train con el Validation en un comienzo bajan homogeneamente, pero desde un punto (distinto para cada experimento) se separan, siendo que el Train continua bajando y el Validate comienza a subir. Tambien en los gráficos de Exactitud v/s Epochs; el Train con el Validation en un comienzo suben homogenamente, pero desde un punto (distinto para cada experimento) se separan, siendo que el Train continua subiendo y el Validate converge. Estas \"separaciones\" se deben a un **sobre-entrenamiento.**\n",
    "\n",
    "También vemos que el batch_size no genera discrepancias en los modelos en terminos de exactitud y perdida.\n",
    "\n",
    "En términos de el Algoritmo de Optimización observamos que Adam tiene un mejor Accuracy en el Validation sin embargo converge más lento (aproximadamente la epoch 12-13) que Adadelta que converge alrededor de la epoch 7-8. Estos puntos también son los puntos que es la \"separación\" mencionada anteriormente."
   ]
  },
  {
   "cell_type": "markdown",
   "metadata": {},
   "source": [
    "#### Actividad 9"
   ]
  },
  {
   "cell_type": "markdown",
   "metadata": {},
   "source": [
    "Vamos a quedarnos con el modelo 1"
   ]
  },
  {
   "cell_type": "code",
   "execution_count": 52,
   "metadata": {},
   "outputs": [],
   "source": [
    "# Definiendo parametros\n",
    "\n",
    "# numero de epocas para entrenar, uno de los hiperparametros que voy a variar\n",
    "epochs = 25  \n",
    "\n",
    "# batch size, uno de los hiperparametros que voy a variar\n",
    "\n",
    "batch_size = 15 \n",
    "\n",
    "# Optimizador para entrenar, uno de los hiperparametros que voy a variar\n",
    "opt = 'adam'\n",
    "\n",
    "# Definiendo algunos parametros CONSTANTES:\n",
    "\n",
    "# Numero de clases, por default del ejercicio son 100, constante\n",
    "num_clases = 100\n",
    "\n",
    "# dimensiones de las imagenes (tambien por default del ejercicio, constante)\n",
    "img_width, img_height = 84, 84  "
   ]
  },
  {
   "cell_type": "code",
   "execution_count": 53,
   "metadata": {},
   "outputs": [
    {
     "name": "stderr",
     "output_type": "stream",
     "text": [
      "/home/cuda/.local/lib/python3.6/site-packages/keras_applications/resnet50.py:265: UserWarning: The output shape of `ResNet50(include_top=False)` has been changed since Keras 2.2.0.\n",
      "  warnings.warn('The output shape of `ResNet50(include_top=False)` '\n"
     ]
    }
   ],
   "source": [
    "# Source: https://github.com/priya-dwivedi/Deep-Learning/blob/master/resnet_keras/Residual_Network_Keras.ipynb\n",
    "base_model = applications.resnet50.ResNet50(weights= None, include_top=False, input_shape= (img_height,img_width,3))\n",
    "\n",
    "x = base_model.output\n",
    "x = GlobalAveragePooling2D()(x)\n",
    "predictions = Dense(num_clases, activation= 'softmax')(x)\n",
    "    \n",
    "model = Model(inputs = base_model.input, outputs = predictions)\n"
   ]
  },
  {
   "cell_type": "code",
   "execution_count": 54,
   "metadata": {},
   "outputs": [],
   "source": [
    "model.load_weights(\"./models/1/weights-improvement-20-0.34.hdf5\")\n",
    "\n",
    "\n",
    "#compile \n",
    "model.compile(optimizer='adam', loss='categorical_crossentropy', metrics=['accuracy'])"
   ]
  },
  {
   "cell_type": "code",
   "execution_count": 55,
   "metadata": {},
   "outputs": [
    {
     "name": "stdout",
     "output_type": "stream",
     "text": [
      "Found 42000 images belonging to 100 classes.\n",
      "Found 9000 images belonging to 100 classes.\n",
      "Found 9000 images belonging to 100 classes.\n"
     ]
    }
   ],
   "source": [
    "# Images Genrators\n",
    "# Source: https://machinelearningmastery.com/how-to-load-large-datasets-from-directories-for-deep-learning-with-keras/\n",
    "# Comment of Paulo Henrique Zen Messerschmidt\n",
    "\n",
    "# create generator\n",
    "datagen = ImageDataGenerator()\n",
    "\n",
    "train_set = datagen.flow_from_directory('./data/train/', \n",
    "                                       target_size=(img_width, img_height),\n",
    "                                       batch_size=batch_size)\n",
    "\n",
    "test_set = datagen.flow_from_directory('./data/test/', \n",
    "                                       target_size=(img_width, img_height),\n",
    "                                       batch_size=batch_size)\n",
    "\n",
    "val_set = datagen.flow_from_directory('./data/val/', \n",
    "                                       target_size=(img_width, img_height),\n",
    "                                       batch_size=batch_size)"
   ]
  },
  {
   "cell_type": "code",
   "execution_count": 13,
   "metadata": {},
   "outputs": [
    {
     "name": "stdout",
     "output_type": "stream",
     "text": [
      "acc en Test:  34.922223164389536 %\n"
     ]
    }
   ],
   "source": [
    "pred_test = model.evaluate_generator(test_set, steps=9000/batch_size)\n",
    "print('acc en Test: ', pred_test[1] * 100, '%')"
   ]
  },
  {
   "cell_type": "code",
   "execution_count": 14,
   "metadata": {},
   "outputs": [
    {
     "name": "stdout",
     "output_type": "stream",
     "text": [
      "acc en Validacion:  34.11111204201976 %\n"
     ]
    }
   ],
   "source": [
    "pred_val = model.evaluate_generator(val_set, steps=9000/batch_size)\n",
    "print('acc en Validacion: ', pred_val[1] * 100, '%')"
   ]
  },
  {
   "cell_type": "code",
   "execution_count": 15,
   "metadata": {},
   "outputs": [
    {
     "name": "stdout",
     "output_type": "stream",
     "text": [
      "acc en Train:  93.05238136649132 %\n"
     ]
    }
   ],
   "source": [
    "pred_train = model.evaluate_generator(train_set, steps=42000/batch_size)\n",
    "print('acc en Train: ', pred_train[1] * 100, '%')"
   ]
  },
  {
   "cell_type": "markdown",
   "metadata": {},
   "source": [
    "Vemos que las exactitudes de los sets de test y validación son similares, siendo alrededor de 34%. Por otro lado, el Test de Train nos da una exactitud de 93%. Esto es un reflejo primero que nuesta estrategia de validación funciona y también que hay un claro sobre-entrenamiento."
   ]
  },
  {
   "cell_type": "code",
   "execution_count": 50,
   "metadata": {},
   "outputs": [],
   "source": [
    "from sklearn.metrics import classification_report, confusion_matrix"
   ]
  },
  {
   "cell_type": "code",
   "execution_count": 56,
   "metadata": {},
   "outputs": [
    {
     "name": "stdout",
     "output_type": "stream",
     "text": [
      "Confusion Matrix\n",
      "[[1 0 0 ... 0 0 0]\n",
      " [0 2 0 ... 0 0 0]\n",
      " [1 1 1 ... 1 0 1]\n",
      " ...\n",
      " [0 1 1 ... 1 0 1]\n",
      " [0 0 0 ... 0 0 0]\n",
      " [1 0 0 ... 0 3 0]]\n"
     ]
    }
   ],
   "source": [
    "# Source: https://gist.github.com/RyanAkilos/3808c17f79e77c4117de35aa68447045\n",
    "\n",
    "#Confution Matrix and Classification Report\n",
    "Y_pred = model.predict_generator(test_set, 9000/batch_size)\n",
    "y_pred = np.argmax(Y_pred, axis=1)\n",
    "print('Confusion Matrix')\n",
    "print(confusion_matrix(test_set.classes, y_pred))\n"
   ]
  },
  {
   "cell_type": "code",
   "execution_count": 64,
   "metadata": {},
   "outputs": [
    {
     "name": "stdout",
     "output_type": "stream",
     "text": [
      "Classification Report\n",
      "              precision    recall  f1-score   support\n",
      "\n",
      "           0       0.01      0.01      0.01        90\n",
      "           1       0.03      0.02      0.03        90\n",
      "           2       0.01      0.01      0.01        90\n",
      "           3       0.02      0.01      0.01        90\n",
      "           4       0.01      0.01      0.01        90\n",
      "           5       0.02      0.01      0.01        90\n",
      "           6       0.02      0.01      0.01        90\n",
      "           7       0.01      0.01      0.01        90\n",
      "           8       0.02      0.04      0.03        90\n",
      "           9       0.02      0.01      0.01        90\n",
      "          10       0.02      0.02      0.02        90\n",
      "          11       0.01      0.01      0.01        90\n",
      "          12       0.00      0.00      0.00        90\n",
      "          13       0.00      0.00      0.00        90\n",
      "          14       0.00      0.00      0.00        90\n",
      "          15       0.01      0.01      0.01        90\n",
      "          16       0.01      0.01      0.01        90\n",
      "          17       0.00      0.00      0.00        90\n",
      "          18       0.00      0.00      0.00        90\n",
      "          19       0.04      0.04      0.04        90\n",
      "          20       0.00      0.00      0.00        90\n",
      "          21       0.02      0.01      0.01        90\n",
      "          22       0.02      0.03      0.03        90\n",
      "          23       0.00      0.00      0.00        90\n",
      "          24       0.00      0.00      0.00        90\n",
      "          25       0.02      0.02      0.02        90\n",
      "          26       0.00      0.00      0.00        90\n",
      "          27       0.03      0.03      0.03        90\n",
      "          28       0.00      0.00      0.00        90\n",
      "          29       0.00      0.00      0.00        90\n",
      "          30       0.02      0.02      0.02        90\n",
      "          31       0.00      0.00      0.00        90\n",
      "          32       0.00      0.00      0.00        90\n",
      "          33       0.01      0.01      0.01        90\n",
      "          34       0.00      0.00      0.00        90\n",
      "          35       0.02      0.01      0.01        90\n",
      "          36       0.02      0.02      0.02        90\n",
      "          37       0.02      0.02      0.02        90\n",
      "          38       0.01      0.01      0.01        90\n",
      "          39       0.02      0.01      0.01        90\n",
      "          40       0.00      0.00      0.00        90\n",
      "          41       0.00      0.00      0.00        90\n",
      "          42       0.01      0.01      0.01        90\n",
      "          43       0.00      0.00      0.00        90\n",
      "          44       0.00      0.00      0.00        90\n",
      "          45       0.00      0.00      0.00        90\n",
      "          46       0.02      0.01      0.01        90\n",
      "          47       0.00      0.00      0.00        90\n",
      "          48       0.03      0.01      0.02        90\n",
      "          49       0.02      0.01      0.01        90\n",
      "          50       0.00      0.00      0.00        90\n",
      "          51       0.00      0.00      0.00        90\n",
      "          52       0.02      0.01      0.01        90\n",
      "          53       0.01      0.03      0.02        90\n",
      "          54       0.00      0.00      0.00        90\n",
      "          55       0.00      0.00      0.00        90\n",
      "          56       0.00      0.00      0.00        90\n",
      "          57       0.00      0.00      0.00        90\n",
      "          58       0.00      0.00      0.00        90\n",
      "          59       0.00      0.00      0.00        90\n",
      "          60       0.01      0.01      0.01        90\n",
      "          61       0.01      0.01      0.01        90\n",
      "          62       0.02      0.02      0.02        90\n",
      "          63       0.01      0.01      0.01        90\n",
      "          64       0.00      0.00      0.00        90\n",
      "          65       0.03      0.06      0.04        90\n",
      "          66       0.00      0.00      0.00        90\n",
      "          67       0.02      0.02      0.02        90\n",
      "          68       0.03      0.02      0.02        90\n",
      "          69       0.03      0.02      0.02        90\n",
      "          70       0.01      0.01      0.01        90\n",
      "          71       0.00      0.00      0.00        90\n",
      "          72       0.01      0.01      0.01        90\n",
      "          73       0.02      0.01      0.01        90\n",
      "          74       0.02      0.02      0.02        90\n",
      "          75       0.03      0.02      0.02        90\n",
      "          76       0.01      0.01      0.01        90\n",
      "          77       0.00      0.00      0.00        90\n",
      "          78       0.01      0.01      0.01        90\n",
      "          79       0.02      0.02      0.02        90\n",
      "          80       0.04      0.02      0.03        90\n",
      "          81       0.01      0.01      0.01        90\n",
      "          82       0.00      0.00      0.00        90\n",
      "          83       0.00      0.00      0.00        90\n",
      "          84       0.00      0.01      0.01        90\n",
      "          85       0.04      0.02      0.03        90\n",
      "          86       0.01      0.01      0.01        90\n",
      "          87       0.02      0.01      0.01        90\n",
      "          88       0.00      0.00      0.00        90\n",
      "          89       0.01      0.01      0.01        90\n",
      "          90       0.02      0.02      0.02        90\n",
      "          91       0.01      0.01      0.01        90\n",
      "          92       0.01      0.01      0.01        90\n",
      "          93       0.01      0.02      0.02        90\n",
      "          94       0.02      0.02      0.02        90\n",
      "          95       0.01      0.01      0.01        90\n",
      "          96       0.03      0.03      0.03        90\n",
      "          97       0.02      0.01      0.01        90\n",
      "          98       0.00      0.00      0.00        90\n",
      "          99       0.00      0.00      0.00        90\n",
      "\n",
      "   micro avg       0.01      0.01      0.01      9000\n",
      "   macro avg       0.01      0.01      0.01      9000\n",
      "weighted avg       0.01      0.01      0.01      9000\n",
      "\n"
     ]
    }
   ],
   "source": [
    "print('Classification Report')\n",
    "target_names = [str(i) for i in range(100)]\n",
    "print(classification_report(test_set.classes, y_pred, target_names=target_names))"
   ]
  },
  {
   "cell_type": "markdown",
   "metadata": {},
   "source": [
    "Vemos que el mejor es la clase 19 que corresponde a **n02108551** correspondiente a **Tibetan mastiff** La peor corresponde a 99 por ejemplo correspondiente a **n13133613** correspondiente a **ear, spike, capitulum**\n",
    "\n",
    "* Tibetan mastiff: \n",
    "    <img src=\"./mini_ImageNet/images/n02108551/n0210855100000006.jpg\">\n",
    "    \n",
    "* ear:\n",
    "    <img src=\"./mini_ImageNet/images/n13133613/n1313361300000160.jpg\">\n",
    "    \n",
    "* spike:\n",
    "    <img src=\"./mini_ImageNet/images/n13133613/n1313361300000170.jpg\">\n",
    "    \n",
    "* capitulum:\n",
    "    <img src=\"./mini_ImageNet/images/n13133613/n1313361300000192.jpg\">\n",
    "\n"
   ]
  },
  {
   "cell_type": "markdown",
   "metadata": {},
   "source": [
    "Vemos que la más facil es dacil de detectar, y luego las otras es más complicado."
   ]
  },
  {
   "cell_type": "markdown",
   "metadata": {},
   "source": [
    "### 2.2 Places-25"
   ]
  },
  {
   "cell_type": "markdown",
   "metadata": {},
   "source": [
    "Al tener el problema con la Clase Sauna, se toma la decisión de eliminarla. Entonces en verdad sería una Places-24"
   ]
  },
  {
   "cell_type": "code",
   "execution_count": 11,
   "metadata": {},
   "outputs": [],
   "source": [
    "for j in os.listdir('./Places-24/test/'): \n",
    "    pass\n",
    "#     print(len(os.listdir('./Places-24/test/' + j)))"
   ]
  },
  {
   "cell_type": "markdown",
   "metadata": {
    "heading_collapsed": true
   },
   "source": [
    "#### Actividad 10"
   ]
  },
  {
   "cell_type": "markdown",
   "metadata": {
    "hidden": true
   },
   "source": [
    "El conjunto de datos utilizados es el recomendado por el Equipo Docente, Places-25. Como fue mencionado anteriormente, al tener el problema con la Clase Sauna, se toma la decisión de eliminarla. Entonces en verdad sería una Places-24.\n",
    "\n",
    "El número de imagenes es **119.681**. Tenemos **24 clases**. **4.986** imagenes en promedio por cada clase.\n",
    "\n",
    "También tenemos:\n",
    "\n",
    "Set |Numero de Imagenes | Numero de imagenes promedio por clase\n",
    "--- | --- | ---\n",
    "*Train* | 96000 | 40000\n",
    "*Val* | 12000 | 500\n",
    "*Test* | 11681 | 487\n",
    "\n",
    "\n",
    "**La Distribución de imagenes por cada clase:**\n",
    "\n",
    "Clase |Set_Train | Set_Val | Set_Test\n",
    "--- | --- | --- | --- \n",
    "1. ballroom | 4000 | 500 | 500\n",
    "2. beer_hall | 4000 | 500 | 500\n",
    "3. bullring | 4000 | 500 | 500\n",
    "4. campsite | 4000 | 500 | 500\n",
    "5. castle | 4000 | 500 | 500\n",
    "6. courthouse | 4000 | 500 | 500\n",
    "7. entrance_hall | 4000 | 500 | 500\n",
    "8. excavation | 4000 | 500 | 500\n",
    "9. forest_road | 4000 | 500 | 500\n",
    "10. hotel-outdoor | 4000 | 500 | 500\n",
    "11. industrial_area | 4000 | 500 | 500\n",
    "12. manufactured_home | 4000 | 500 | 500\n",
    "13. motel | 4000 | 500 | 500\n",
    "14. pond | 4000 | 500 | 500\n",
    "15. ruin | 4000 | 500 | 500\n",
    "16. sandbox | 4000 | 500 | 500\n",
    "17. shopfront | 4000 | 500 | 500\n",
    "18. slum | 4000 | 500 | 500\n",
    "19. tower | 4000 | 500 | 500\n",
    "20. vegetable_garden | 4000 | 500 | 500\n",
    "21. volcano | 4000 | 500 | 500\n",
    "22. water_park | 4000 | 500 | 500\n",
    "23. youth_hostel | 4000 | 500 | 500\n",
    "24. zen_garden | 4000 | 181 | 500\n",
    "\n",
    "**Algunas Clases de ejemplo:**\n",
    "* Ballroom: \n",
    "    <img src=\"./Places-25/test/ballroom/00000006.jpg\">\n",
    "    \n",
    "* Sandbox:\n",
    "    <img src=\"./Places-25/test/sandbox/00000167.jpg\">\n"
   ]
  },
  {
   "cell_type": "markdown",
   "metadata": {},
   "source": [
    "#### Actividad 11"
   ]
  },
  {
   "cell_type": "markdown",
   "metadata": {
    "heading_collapsed": true
   },
   "source": [
    "#### Defining Hyperparameters"
   ]
  },
  {
   "cell_type": "code",
   "execution_count": 4,
   "metadata": {
    "hidden": true
   },
   "outputs": [],
   "source": [
    "# Definiendo algunos parametros CONSTANTES:\n",
    "\n",
    "# Numero de clases, por default del ejercicio son 100, constante\n",
    "num_clases = 24\n",
    "\n",
    "# dimensiones de las imagenes (tambien por default del ejercicio, constante)\n",
    "img_width, img_height = 256, 256  "
   ]
  },
  {
   "cell_type": "markdown",
   "metadata": {
    "heading_collapsed": true
   },
   "source": [
    "#### 1) Adam"
   ]
  },
  {
   "cell_type": "code",
   "execution_count": 6,
   "metadata": {
    "hidden": true
   },
   "outputs": [
    {
     "name": "stderr",
     "output_type": "stream",
     "text": [
      "/home/cuda/.local/lib/python3.6/site-packages/keras_applications/resnet50.py:265: UserWarning: The output shape of `ResNet50(include_top=False)` has been changed since Keras 2.2.0.\n",
      "  warnings.warn('The output shape of `ResNet50(include_top=False)` '\n"
     ]
    }
   ],
   "source": [
    "# Source: https://github.com/priya-dwivedi/Deep-Learning/blob/master/resnet_keras/Residual_Network_Keras.ipynb\n",
    "base_model = applications.resnet50.ResNet50(weights= None, include_top=False, input_shape= (img_height,img_width,3))"
   ]
  },
  {
   "cell_type": "code",
   "execution_count": 7,
   "metadata": {
    "hidden": true
   },
   "outputs": [],
   "source": [
    "# Definiendo parametros\n",
    "\n",
    "# numero de epocas para entrenar, uno de los hiperparametros que voy a variar\n",
    "epochs = 18  \n",
    "\n",
    "# batch size, uno de los hiperparametros que voy a variar\n",
    "\n",
    "batch_size = 40 \n",
    "\n",
    "# Optimizador para entrenar, uno de los hiperparametros que voy a variar\n",
    "opt = 'adam'\n"
   ]
  },
  {
   "cell_type": "code",
   "execution_count": 8,
   "metadata": {
    "hidden": true
   },
   "outputs": [
    {
     "name": "stdout",
     "output_type": "stream",
     "text": [
      "Found 96000 images belonging to 24 classes.\n",
      "Found 12000 images belonging to 24 classes.\n",
      "Found 11681 images belonging to 24 classes.\n"
     ]
    }
   ],
   "source": [
    "# Source: https://machinelearningmastery.com/how-to-load-large-datasets-from-directories-for-deep-learning-with-keras/\n",
    "# Comment of Paulo Henrique Zen Messerschmidt\n",
    "\n",
    "# create generator\n",
    "datagen = ImageDataGenerator()\n",
    "\n",
    "train_set = datagen.flow_from_directory('./Places-24/train/', \n",
    "                                       target_size=(img_width, img_height),\n",
    "                                       batch_size=batch_size)\n",
    "\n",
    "test_set = datagen.flow_from_directory('./Places-24/test/', \n",
    "                                       target_size=(img_width, img_height),\n",
    "                                       batch_size=batch_size)\n",
    "\n",
    "val_set = datagen.flow_from_directory('./Places-24/val/', \n",
    "                                       target_size=(img_width, img_height),\n",
    "                                       batch_size=batch_size)"
   ]
  },
  {
   "cell_type": "code",
   "execution_count": 9,
   "metadata": {
    "hidden": true
   },
   "outputs": [],
   "source": [
    "\n",
    "x = base_model.output\n",
    "x = GlobalAveragePooling2D()(x)\n",
    "predictions = Dense(num_clases, activation= 'softmax')(x)\n",
    "    \n",
    "model = Model(inputs = base_model.input, outputs = predictions)\n",
    "\n",
    "#compile \n",
    "model.compile(optimizer=opt, loss='categorical_crossentropy', metrics=['accuracy'])\n"
   ]
  },
  {
   "cell_type": "code",
   "execution_count": 10,
   "metadata": {
    "hidden": true
   },
   "outputs": [
    {
     "name": "stdout",
     "output_type": "stream",
     "text": [
      "Epoch 1/18\n",
      "2400/2400 [==============================] - 859s 358ms/step - loss: 2.0667 - acc: 0.3832 - val_loss: 4.5132 - val_acc: 0.1563\n",
      "Epoch 2/18\n",
      "2400/2400 [==============================] - 847s 353ms/step - loss: 1.4039 - acc: 0.5665 - val_loss: 1.7786 - val_acc: 0.4774\n",
      "Epoch 3/18\n",
      "2400/2400 [==============================] - 845s 352ms/step - loss: 1.1576 - acc: 0.6408 - val_loss: 3.2606 - val_acc: 0.2634\n",
      "Epoch 4/18\n",
      "2400/2400 [==============================] - 845s 352ms/step - loss: 1.0139 - acc: 0.6860 - val_loss: 1.5256 - val_acc: 0.5262\n",
      "Epoch 5/18\n",
      "2400/2400 [==============================] - 844s 352ms/step - loss: 0.8737 - acc: 0.7271 - val_loss: 1.3871 - val_acc: 0.5892\n",
      "Epoch 6/18\n",
      "2400/2400 [==============================] - 845s 352ms/step - loss: 0.7714 - acc: 0.7571 - val_loss: 1.7347 - val_acc: 0.4725\n",
      "Epoch 7/18\n",
      "2400/2400 [==============================] - 844s 352ms/step - loss: 0.6822 - acc: 0.7820 - val_loss: 1.0748 - val_acc: 0.6726\n",
      "Epoch 8/18\n",
      "2400/2400 [==============================] - 844s 352ms/step - loss: 0.5980 - acc: 0.8076 - val_loss: 1.6032 - val_acc: 0.5416\n",
      "Epoch 9/18\n",
      "2400/2400 [==============================] - 844s 352ms/step - loss: 0.5127 - acc: 0.8336 - val_loss: 1.0239 - val_acc: 0.6964\n",
      "Epoch 10/18\n",
      "2400/2400 [==============================] - 844s 352ms/step - loss: 0.4211 - acc: 0.8610 - val_loss: 1.0533 - val_acc: 0.7125\n",
      "Epoch 11/18\n",
      "2400/2400 [==============================] - 844s 352ms/step - loss: 0.3406 - acc: 0.8855 - val_loss: 0.8945 - val_acc: 0.7510\n",
      "Epoch 12/18\n",
      "2400/2400 [==============================] - 844s 352ms/step - loss: 0.2626 - acc: 0.9112 - val_loss: 1.1051 - val_acc: 0.7118\n",
      "Epoch 13/18\n",
      "2400/2400 [==============================] - 844s 352ms/step - loss: 0.2028 - acc: 0.9305 - val_loss: 1.2915 - val_acc: 0.7030\n",
      "Epoch 14/18\n",
      "2400/2400 [==============================] - 844s 352ms/step - loss: 0.1637 - acc: 0.9443 - val_loss: 1.4548 - val_acc: 0.6862\n",
      "Epoch 15/18\n",
      "2400/2400 [==============================] - 844s 352ms/step - loss: 0.1343 - acc: 0.9548 - val_loss: 1.4223 - val_acc: 0.6783\n",
      "Epoch 16/18\n",
      "2400/2400 [==============================] - 845s 352ms/step - loss: 0.1173 - acc: 0.9601 - val_loss: 2.0632 - val_acc: 0.5839\n",
      "Epoch 17/18\n",
      "2400/2400 [==============================] - 844s 352ms/step - loss: 0.1038 - acc: 0.9650 - val_loss: 1.2857 - val_acc: 0.7266\n",
      "Epoch 18/18\n",
      "2400/2400 [==============================] - 845s 352ms/step - loss: 0.0907 - acc: 0.9696 - val_loss: 1.5139 - val_acc: 0.7058\n"
     ]
    }
   ],
   "source": [
    "# Source: https://www.pyimagesearch.com/2018/12/24/how-to-use-keras-fit-and-fit_generator-a-hands-on-tutorial/\n",
    "# https://github.com/keras-team/keras/issues/8540/\n",
    "# https://keras.io/callbacks/\n",
    "# https://machinelearningmastery.com/check-point-deep-learning-models-keras/\n",
    "\n",
    "# checkpoint\n",
    "filepath='./models/places/weights-improvement-{epoch:02d}-{val_acc:.2f}.hdf5'\n",
    "checkpoint = ModelCheckpoint(filepath, monitor='val_acc', verbose=0, save_best_only=True, mode='max', save_weights_only=True)\n",
    "callbacks_list = [checkpoint]\n",
    "\n",
    "# training\n",
    "hist = model.fit_generator(generator=train_set,\n",
    "                              validation_data=val_set,\n",
    "                              epochs = epochs,\n",
    "                              verbose = 1,\n",
    "                              callbacks=callbacks_list,\n",
    "                              steps_per_epoch=96000/batch_size,\n",
    "                              validation_steps=11681/batch_size)\n"
   ]
  },
  {
   "cell_type": "code",
   "execution_count": 11,
   "metadata": {
    "hidden": true
   },
   "outputs": [],
   "source": [
    "with open('./history/places_1', 'wb') as file:\n",
    "        pickle.dump(hist.history, file)"
   ]
  },
  {
   "cell_type": "markdown",
   "metadata": {
    "heading_collapsed": true
   },
   "source": [
    "#### 2) Adadelta"
   ]
  },
  {
   "cell_type": "code",
   "execution_count": 10,
   "metadata": {
    "hidden": true
   },
   "outputs": [],
   "source": [
    "# Source: https://github.com/priya-dwivedi/Deep-Learning/blob/master/resnet_keras/Residual_Network_Keras.ipynb\n",
    "base_model = applications.resnet50.ResNet50(weights= None, include_top=False, input_shape= (img_height,img_width,3))"
   ]
  },
  {
   "cell_type": "code",
   "execution_count": 13,
   "metadata": {
    "hidden": true
   },
   "outputs": [],
   "source": [
    "# Definiendo parametros\n",
    "\n",
    "# numero de epocas para entrenar, uno de los hiperparametros que voy a variar\n",
    "epochs = 20  \n",
    "\n",
    "# batch size, uno de los hiperparametros que voy a variar\n",
    "\n",
    "batch_size = 40 \n",
    "\n",
    "# Optimizador para entrenar, uno de los hiperparametros que voy a variar\n",
    "opt = 'adadelta'\n"
   ]
  },
  {
   "cell_type": "code",
   "execution_count": 14,
   "metadata": {
    "hidden": true
   },
   "outputs": [
    {
     "name": "stdout",
     "output_type": "stream",
     "text": [
      "Found 96000 images belonging to 24 classes.\n",
      "Found 12000 images belonging to 24 classes.\n",
      "Found 11681 images belonging to 24 classes.\n"
     ]
    }
   ],
   "source": [
    "# Source: https://machinelearningmastery.com/how-to-load-large-datasets-from-directories-for-deep-learning-with-keras/\n",
    "# Comment of Paulo Henrique Zen Messerschmidt\n",
    "\n",
    "# create generator\n",
    "datagen = ImageDataGenerator()\n",
    "\n",
    "train_set = datagen.flow_from_directory('./Places-24/train/', \n",
    "                                       target_size=(img_width, img_height),\n",
    "                                       batch_size=batch_size)\n",
    "\n",
    "test_set = datagen.flow_from_directory('./Places-24/test/', \n",
    "                                       target_size=(img_width, img_height),\n",
    "                                       batch_size=batch_size)\n",
    "\n",
    "val_set = datagen.flow_from_directory('./Places-24/val/', \n",
    "                                       target_size=(img_width, img_height),\n",
    "                                       batch_size=batch_size)"
   ]
  },
  {
   "cell_type": "code",
   "execution_count": 15,
   "metadata": {
    "hidden": true
   },
   "outputs": [],
   "source": [
    "\n",
    "x = base_model.output\n",
    "x = GlobalAveragePooling2D()(x)\n",
    "predictions = Dense(num_clases, activation= 'softmax')(x)\n",
    "    \n",
    "model = Model(inputs = base_model.input, outputs = predictions)\n",
    "\n",
    "#compile \n",
    "model.compile(optimizer=opt, loss='categorical_crossentropy', metrics=['accuracy'])\n"
   ]
  },
  {
   "cell_type": "code",
   "execution_count": 16,
   "metadata": {
    "hidden": true
   },
   "outputs": [
    {
     "name": "stdout",
     "output_type": "stream",
     "text": [
      "Epoch 1/20\n",
      "2400/2400 [==============================] - 879s 366ms/step - loss: 1.9559 - acc: 0.4181 - val_loss: 2.5439 - val_acc: 0.3816\n",
      "Epoch 2/20\n",
      "2400/2400 [==============================] - 869s 362ms/step - loss: 1.2433 - acc: 0.6148 - val_loss: 1.9063 - val_acc: 0.4947\n",
      "Epoch 3/20\n",
      "2400/2400 [==============================] - 869s 362ms/step - loss: 1.0125 - acc: 0.6836 - val_loss: 2.0800 - val_acc: 0.4652\n",
      "Epoch 4/20\n",
      "2400/2400 [==============================] - 868s 362ms/step - loss: 0.8693 - acc: 0.7273 - val_loss: 1.9967 - val_acc: 0.4548\n",
      "Epoch 5/20\n",
      "2400/2400 [==============================] - 869s 362ms/step - loss: 0.7702 - acc: 0.7575 - val_loss: 1.3107 - val_acc: 0.6066\n",
      "Epoch 6/20\n",
      "2400/2400 [==============================] - 869s 362ms/step - loss: 0.6851 - acc: 0.7838 - val_loss: 1.2663 - val_acc: 0.6276\n",
      "Epoch 7/20\n",
      "2400/2400 [==============================] - 869s 362ms/step - loss: 0.6079 - acc: 0.8034 - val_loss: 1.0538 - val_acc: 0.6944\n",
      "Epoch 8/20\n",
      "2400/2400 [==============================] - 869s 362ms/step - loss: 0.5334 - acc: 0.8275 - val_loss: 1.2048 - val_acc: 0.6335\n",
      "Epoch 9/20\n",
      "2400/2400 [==============================] - 869s 362ms/step - loss: 0.4626 - acc: 0.8484 - val_loss: 1.0540 - val_acc: 0.6933\n",
      "Epoch 10/20\n",
      "2400/2400 [==============================] - 869s 362ms/step - loss: 0.3942 - acc: 0.8700 - val_loss: 1.2496 - val_acc: 0.6889\n",
      "Epoch 11/20\n",
      "2400/2400 [==============================] - 869s 362ms/step - loss: 0.3241 - acc: 0.8911 - val_loss: 1.1703 - val_acc: 0.6999\n",
      "Epoch 12/20\n",
      "2400/2400 [==============================] - 869s 362ms/step - loss: 0.2667 - acc: 0.9091 - val_loss: 1.3117 - val_acc: 0.6616\n",
      "Epoch 13/20\n",
      "2400/2400 [==============================] - 869s 362ms/step - loss: 0.2184 - acc: 0.9254 - val_loss: 1.2531 - val_acc: 0.6884\n",
      "Epoch 14/20\n",
      "2400/2400 [==============================] - 868s 362ms/step - loss: 0.1833 - acc: 0.9375 - val_loss: 2.5444 - val_acc: 0.5662\n",
      "Epoch 15/20\n",
      "2400/2400 [==============================] - 869s 362ms/step - loss: 0.1493 - acc: 0.9480 - val_loss: 1.6890 - val_acc: 0.6489\n",
      "Epoch 16/20\n",
      "2400/2400 [==============================] - 868s 362ms/step - loss: 0.1247 - acc: 0.9576 - val_loss: 1.2917 - val_acc: 0.7316\n",
      "Epoch 17/20\n",
      "2400/2400 [==============================] - 869s 362ms/step - loss: 0.1075 - acc: 0.9629 - val_loss: 1.4146 - val_acc: 0.7151\n",
      "Epoch 18/20\n",
      "2400/2400 [==============================] - 868s 362ms/step - loss: 0.0896 - acc: 0.9693 - val_loss: 1.3357 - val_acc: 0.7370\n",
      "Epoch 19/20\n",
      "2400/2400 [==============================] - 868s 362ms/step - loss: 0.0760 - acc: 0.9742 - val_loss: 1.5558 - val_acc: 0.7115\n",
      "Epoch 20/20\n",
      "2400/2400 [==============================] - 868s 362ms/step - loss: 0.0691 - acc: 0.9767 - val_loss: 2.3431 - val_acc: 0.6185\n"
     ]
    }
   ],
   "source": [
    "# Source: https://www.pyimagesearch.com/2018/12/24/how-to-use-keras-fit-and-fit_generator-a-hands-on-tutorial/\n",
    "# https://github.com/keras-team/keras/issues/8540/\n",
    "# https://keras.io/callbacks/\n",
    "# https://machinelearningmastery.com/check-point-deep-learning-models-keras/\n",
    "\n",
    "# checkpoint\n",
    "filepath='./models/places_2/weights-improvement-{epoch:02d}-{val_acc:.2f}.hdf5'\n",
    "checkpoint = ModelCheckpoint(filepath, monitor='val_acc', verbose=0, save_best_only=True, mode='max', save_weights_only=True)\n",
    "callbacks_list = [checkpoint]\n",
    "\n",
    "# training\n",
    "hist = model.fit_generator(generator=train_set,\n",
    "                              validation_data=val_set,\n",
    "                              epochs = epochs,\n",
    "                              verbose = 1,\n",
    "                              callbacks=callbacks_list,\n",
    "                              steps_per_epoch=96000/batch_size,\n",
    "                              validation_steps=11681/batch_size)\n"
   ]
  },
  {
   "cell_type": "code",
   "execution_count": 17,
   "metadata": {
    "hidden": true
   },
   "outputs": [],
   "source": [
    "with open('./history/places_2', 'wb') as file:\n",
    "        pickle.dump(hist.history, file)"
   ]
  },
  {
   "cell_type": "markdown",
   "metadata": {
    "heading_collapsed": true
   },
   "source": [
    "#### Actividad 12"
   ]
  },
  {
   "cell_type": "markdown",
   "metadata": {
    "hidden": true
   },
   "source": [
    "Vamos a graficar ambos experimentos y luego analizar"
   ]
  },
  {
   "cell_type": "markdown",
   "metadata": {
    "hidden": true
   },
   "source": [
    "##### Adam"
   ]
  },
  {
   "cell_type": "code",
   "execution_count": 19,
   "metadata": {
    "hidden": true
   },
   "outputs": [],
   "source": [
    "with open('./history/places_1', 'rb') as f:\n",
    "    hist = pickle.load(f)"
   ]
  },
  {
   "cell_type": "code",
   "execution_count": 20,
   "metadata": {
    "hidden": true
   },
   "outputs": [
    {
     "data": {
      "text/plain": [
       "<matplotlib.legend.Legend at 0x7ff08f7f3c50>"
      ]
     },
     "execution_count": 20,
     "metadata": {},
     "output_type": "execute_result"
    },
    {
     "data": {
      "image/png": "[encoded data removed]",
      "text/plain": [
       "<Figure size 432x288 with 1 Axes>"
      ]
     },
     "metadata": {
      "needs_background": "light"
     },
     "output_type": "display_data"
    }
   ],
   "source": [
    "# lines\n",
    "plt.plot(hist['loss'])\n",
    "plt.plot(hist['val_loss'])\n",
    "\n",
    "# title\n",
    "plt.title(\"Perdida de Set de Train y Validacion de 1) Adam\")\n",
    "\n",
    "# labels de los ejes\n",
    "plt.ylabel('perdida')\n",
    "plt.xlabel('epochs')\n",
    "\n",
    "# leyenda\n",
    "plt.legend(['Train', 'Validation'])"
   ]
  },
  {
   "cell_type": "code",
   "execution_count": 21,
   "metadata": {
    "hidden": true
   },
   "outputs": [
    {
     "data": {
      "text/plain": [
       "<matplotlib.legend.Legend at 0x7ff08f612748>"
      ]
     },
     "execution_count": 21,
     "metadata": {},
     "output_type": "execute_result"
    },
    {
     "data": {
      "image/png": "[encoded data removed]",
      "text/plain": [
       "<Figure size 432x288 with 1 Axes>"
      ]
     },
     "metadata": {
      "needs_background": "light"
     },
     "output_type": "display_data"
    }
   ],
   "source": [
    "# lines\n",
    "plt.plot(hist['acc'])\n",
    "plt.plot(hist['val_acc'])\n",
    "\n",
    "# title\n",
    "plt.title(\"Exactitud de Set de Train y Validacion de 1) Adam\")\n",
    "\n",
    "# labels de los ejes\n",
    "plt.ylabel('exactitud')\n",
    "plt.xlabel('epochs')\n",
    "\n",
    "# leyenda\n",
    "plt.legend(['Train', 'Validation'])"
   ]
  },
  {
   "cell_type": "markdown",
   "metadata": {
    "heading_collapsed": true,
    "hidden": true
   },
   "source": [
    "##### Adadelta"
   ]
  },
  {
   "cell_type": "code",
   "execution_count": 22,
   "metadata": {
    "hidden": true
   },
   "outputs": [],
   "source": [
    "with open('./history/places_2', 'rb') as f:\n",
    "    hist = pickle.load(f)"
   ]
  },
  {
   "cell_type": "code",
   "execution_count": 26,
   "metadata": {
    "hidden": true
   },
   "outputs": [
    {
     "data": {
      "text/plain": [
       "<matplotlib.legend.Legend at 0x7ff08f15ec50>"
      ]
     },
     "execution_count": 26,
     "metadata": {},
     "output_type": "execute_result"
    },
    {
     "data": {
      "image/png": "[encoded data removed]",
      "text/plain": [
       "<Figure size 432x288 with 1 Axes>"
      ]
     },
     "metadata": {
      "needs_background": "light"
     },
     "output_type": "display_data"
    }
   ],
   "source": [
    "# lines\n",
    "plt.plot(hist['loss'])\n",
    "plt.plot(hist['val_loss'])\n",
    "\n",
    "# title\n",
    "plt.title(\"Perdida de Set de Train y Validacion de 1) Adadelta\")\n",
    "\n",
    "# labels de los ejes\n",
    "plt.ylabel('perdida')\n",
    "plt.xlabel('epochs')\n",
    "\n",
    "# leyenda\n",
    "plt.legend(['Train', 'Validation'])"
   ]
  },
  {
   "cell_type": "code",
   "execution_count": 25,
   "metadata": {
    "hidden": true
   },
   "outputs": [
    {
     "data": {
      "text/plain": [
       "<matplotlib.legend.Legend at 0x7ff08f22ee80>"
      ]
     },
     "execution_count": 25,
     "metadata": {},
     "output_type": "execute_result"
    },
    {
     "data": {
      "image/png": "[encoded data removed]",
      "text/plain": [
       "<Figure size 432x288 with 1 Axes>"
      ]
     },
     "metadata": {
      "needs_background": "light"
     },
     "output_type": "display_data"
    }
   ],
   "source": [
    "# lines\n",
    "plt.plot(hist['acc'])\n",
    "plt.plot(hist['val_acc'])\n",
    "\n",
    "# title\n",
    "plt.title(\"Exactitud de Set de Train y Validacion de 2) Adadelta\")\n",
    "\n",
    "# labels de los ejes\n",
    "plt.ylabel('exactitud')\n",
    "plt.xlabel('epochs')\n",
    "\n",
    "# leyenda\n",
    "plt.legend(['Train', 'Validation'])"
   ]
  },
  {
   "cell_type": "markdown",
   "metadata": {
    "hidden": true
   },
   "source": [
    "##### Analisis"
   ]
  },
  {
   "cell_type": "markdown",
   "metadata": {
    "hidden": true
   },
   "source": [
    "Primero se observa a grandes rasgos que ambos experimentos tienen comportamientos similares. En los gráficos Perdida v/s Epochs; el Train baja sumamente bien, en cambio el Validate baja también un tanto desrodeando,  pero desde un punto (distinto para cada experimento) comienza a subir. Este punto es antes para el Adadelta.\n",
    "\n",
    "Tambien en los gráficos de Exactitud v/s Epochs; el Train va subiendo sumamente ordenado (hemogeneo), el Validate sube al principio pero más desordenado, pero desde un punto (distinto para cada experimento) se separan, siendo que el Train continua subiendo y el Validate converge.Estas \"separaciones\" se deben a un **sobre-entrenamiento.**\n",
    "\n",
    "\n",
    "En términos de el Algoritmo de Optimización observamos que Adam tiene un mejor Accuracy en el Validation sin embargo converge más lento (aproximadamente la epoch 10) que Adadelta que converge alrededor de la epoch 5. Estos puntos también son los puntos que es la \"separación\" mencionada anteriormente."
   ]
  },
  {
   "cell_type": "markdown",
   "metadata": {},
   "source": [
    "#### Actividad 13"
   ]
  },
  {
   "cell_type": "markdown",
   "metadata": {},
   "source": [
    "Nos vamos a quedar con el modelo 1 de Adam"
   ]
  },
  {
   "cell_type": "code",
   "execution_count": 27,
   "metadata": {},
   "outputs": [],
   "source": [
    "# Definiendo parametros\n",
    "\n",
    "# numero de epocas para entrenar, uno de los hiperparametros que voy a variar\n",
    "epochs = 18  \n",
    "\n",
    "# batch size, uno de los hiperparametros que voy a variar\n",
    "\n",
    "batch_size = 40 \n",
    "\n",
    "# Optimizador para entrenar, uno de los hiperparametros que voy a variar\n",
    "opt = 'adam'\n",
    "\n",
    "\n",
    "# Definiendo algunos parametros CONSTANTES:\n",
    "\n",
    "# Numero de clases, por default del ejercicio son 100, constante\n",
    "num_clases = 24\n",
    "\n",
    "# dimensiones de las imagenes (tambien por default del ejercicio, constante)\n",
    "img_width, img_height = 256, 256  "
   ]
  },
  {
   "cell_type": "code",
   "execution_count": 28,
   "metadata": {},
   "outputs": [
    {
     "name": "stderr",
     "output_type": "stream",
     "text": [
      "/home/cuda/.local/lib/python3.6/site-packages/keras_applications/resnet50.py:265: UserWarning: The output shape of `ResNet50(include_top=False)` has been changed since Keras 2.2.0.\n",
      "  warnings.warn('The output shape of `ResNet50(include_top=False)` '\n"
     ]
    }
   ],
   "source": [
    "# Source: https://github.com/priya-dwivedi/Deep-Learning/blob/master/resnet_keras/Residual_Network_Keras.ipynb\n",
    "base_model = applications.resnet50.ResNet50(weights= None, include_top=False, input_shape= (img_height,img_width,3))\n",
    "\n",
    "x = base_model.output\n",
    "x = GlobalAveragePooling2D()(x)\n",
    "predictions = Dense(num_clases, activation= 'softmax')(x)\n",
    "    \n",
    "model = Model(inputs = base_model.input, outputs = predictions)\n"
   ]
  },
  {
   "cell_type": "code",
   "execution_count": 29,
   "metadata": {},
   "outputs": [],
   "source": [
    "model.load_weights(\"./models/places/weights-improvement-11-0.75.hdf5\")\n",
    "\n",
    "\n",
    "#compile \n",
    "model.compile(optimizer='adam', loss='categorical_crossentropy', metrics=['accuracy'])"
   ]
  },
  {
   "cell_type": "code",
   "execution_count": 30,
   "metadata": {},
   "outputs": [
    {
     "name": "stdout",
     "output_type": "stream",
     "text": [
      "Found 96000 images belonging to 24 classes.\n",
      "Found 12000 images belonging to 24 classes.\n",
      "Found 11681 images belonging to 24 classes.\n"
     ]
    }
   ],
   "source": [
    "# Source: https://machinelearningmastery.com/how-to-load-large-datasets-from-directories-for-deep-learning-with-keras/\n",
    "# Comment of Paulo Henrique Zen Messerschmidt\n",
    "\n",
    "# create generator\n",
    "datagen = ImageDataGenerator()\n",
    "\n",
    "train_set = datagen.flow_from_directory('./Places-24/train/', \n",
    "                                       target_size=(img_width, img_height),\n",
    "                                       batch_size=batch_size)\n",
    "\n",
    "test_set = datagen.flow_from_directory('./Places-24/test/', \n",
    "                                       target_size=(img_width, img_height),\n",
    "                                       batch_size=batch_size)\n",
    "\n",
    "val_set = datagen.flow_from_directory('./Places-24/val/', \n",
    "                                       target_size=(img_width, img_height),\n",
    "                                       batch_size=batch_size)"
   ]
  },
  {
   "cell_type": "code",
   "execution_count": 31,
   "metadata": {},
   "outputs": [
    {
     "name": "stdout",
     "output_type": "stream",
     "text": [
      "acc en Test:  75.65833332141241 %\n"
     ]
    }
   ],
   "source": [
    "pred_test = model.evaluate_generator(test_set, steps=12000/batch_size)\n",
    "print('acc en Test: ', pred_test[1] * 100, '%')"
   ]
  },
  {
   "cell_type": "code",
   "execution_count": 32,
   "metadata": {},
   "outputs": [
    {
     "name": "stdout",
     "output_type": "stream",
     "text": [
      "acc en Validacion:  75.09631023108169 %\n"
     ]
    }
   ],
   "source": [
    "pred_val = model.evaluate_generator(val_set, steps=11681/batch_size)\n",
    "print('acc en Validacion: ', pred_val[1] * 100, '%')"
   ]
  },
  {
   "cell_type": "code",
   "execution_count": 33,
   "metadata": {},
   "outputs": [
    {
     "name": "stdout",
     "output_type": "stream",
     "text": [
      "acc en Train:  92.12291661649942 %\n"
     ]
    }
   ],
   "source": [
    "pred_train = model.evaluate_generator(train_set, steps=96000/batch_size)\n",
    "print('acc en Train: ', pred_train[1] * 100, '%')"
   ]
  },
  {
   "cell_type": "markdown",
   "metadata": {},
   "source": [
    "Vemos que las exactitudes de los sets de test y validación son similares, siendo alrededor de 76%. Por otro lado, el Test de Train nos da una exactitud de 92%. Esto es un reflejo primero que nuesta estrategia de validación funciona y también que hay un claro sobre-entrenamiento.\n",
    "\n",
    "Tambien vemos que al tener más imagenes en caso del ejemplo anterior (mini-ImageNet), tenemos mejores accuracy, dado que el numero de datos es fundamental en Deep Learning."
   ]
  },
  {
   "cell_type": "code",
   "execution_count": 45,
   "metadata": {},
   "outputs": [],
   "source": [
    "from sklearn.metrics import classification_report, confusion_matrix"
   ]
  },
  {
   "cell_type": "code",
   "execution_count": 46,
   "metadata": {},
   "outputs": [
    {
     "name": "stdout",
     "output_type": "stream",
     "text": [
      "Confusion Matrix\n",
      "[[32 21 22  8 19 21 24 20 15 21 28 21 18 38 22 10 10 23 16 21 17 30 22 21]\n",
      " [37 20 23 12 21 15 19 20 19 27 30 14 13 22 19 11 28 15 18 29 24 21 19 24]\n",
      " [20 17 16 11 19 16 24 29 19 23 20  8 20 31 22 16 22 12 18 27 26 34 25 25]\n",
      " [32 11 22 20 14 15 20 20 16 16 17 18 25 28 25 22 24 18 21 22 22 30 18 24]\n",
      " [27 23 24 23 16  8 17 13 25 19 20 20 29 28 18 18 26 14 20 24 23 26 22 17]\n",
      " [37 28 17 14 11 20 16 17 23 25 16 22 15 33 21 21 26 22 17 25 16 22 18 18]\n",
      " [34 17 23 14 16 22 22 17 22 16 24 25 17 34 20 12 17 22 22 22 15 22 27 18]\n",
      " [23 18 23 16 20 25 30 17 20 26 31 20 20 28 17 13 19 17 21 14 12 22 23 25]\n",
      " [37 16 13 18 22 15 21 18 19 14 22 20 27 22 20 20 24 23 19 17 27 30 21 15]\n",
      " [36 22 16 18 20 23 20 16 27 12 27 20 16 22 26  8 27 21 13 20 24 17 22 27]\n",
      " [24 18 24 18 12 26 22 12 12 17 24 22 16 31 28 16 25 22 24 18 13 27 21 28]\n",
      " [30 16 21 13 14 25 17 15 15 23 18 20 17 34 29 14 24 20 18 18 25 34 20 20]\n",
      " [28 24 19 14 14 24 17 20 14 19 17 25 18 27 27 20 17 19 16 26 17 36 22 20]\n",
      " [26 19 20 22 13 15 17 14 17 25 27 26 22 19 34  9 14 22 24 20 32 23 22 18]\n",
      " [38 19 20 19 20 14 15 17 22 23 21 28 11 22 25 12 27 14 20 26 20 29 18 20]\n",
      " [29 14 27 13 18 28 18 15 22 12 38 23 10 27 24 14 25 15 25 31 14 22 16 20]\n",
      " [30 13 16 18 16 19 20 15 20 20 27 12 15 25 24 24 21 20 29 37 18 33  7 21]\n",
      " [30 19 23 14 13 22 14 13 19 19 29 23 22 23 25 16 24 25 22 25 21 19 25 15]\n",
      " [30 17 15 17 10 34 13 10 23 23 20 24 20 23 21 20 23 15 27 20 20 32 19 24]\n",
      " [33 15 20 17  9 15 15 16 17 31 31 21 23 34 25 14 13 18 27 28 17 26 18 17]\n",
      " [28 13 21 16  7 15 21 19 13 21 38 24 18 24 35 19 19 23 20 15 14 30 14 33]\n",
      " [30 14 19  9 21 18 23 17 17 25 25 33 21 33 14 17 20 28 18 29 13 21 19 16]\n",
      " [17 17 28 22 16 19 21  9 24 17 28 25 22 24 23 12 16 18 29 21 21 24 21 26]\n",
      " [26 12 20 15 16 16 23 17 24 15 19 21 24 31 25 15 33 22 21 25 20 23 13 24]]\n"
     ]
    }
   ],
   "source": [
    "# Source: https://gist.github.com/RyanAkilos/3808c17f79e77c4117de35aa68447045\n",
    "\n",
    "#Confution Matrix and Classification Report\n",
    "Y_pred = model.predict_generator(test_set, 12000/batch_size)\n",
    "y_pred = np.argmax(Y_pred, axis=1)\n",
    "print('Confusion Matrix')\n",
    "print(confusion_matrix(test_set.classes, y_pred))\n"
   ]
  },
  {
   "cell_type": "code",
   "execution_count": 49,
   "metadata": {},
   "outputs": [
    {
     "name": "stdout",
     "output_type": "stream",
     "text": [
      "Classification Report\n",
      "              precision    recall  f1-score   support\n",
      "\n",
      "           1       0.04      0.06      0.05       500\n",
      "           2       0.05      0.04      0.04       500\n",
      "           3       0.03      0.03      0.03       500\n",
      "           4       0.05      0.04      0.05       500\n",
      "           5       0.04      0.03      0.04       500\n",
      "           6       0.04      0.04      0.04       500\n",
      "           7       0.05      0.04      0.05       500\n",
      "           8       0.04      0.03      0.04       500\n",
      "           9       0.04      0.04      0.04       500\n",
      "          10       0.02      0.02      0.02       500\n",
      "          11       0.04      0.05      0.04       500\n",
      "          12       0.04      0.04      0.04       500\n",
      "          13       0.04      0.04      0.04       500\n",
      "          14       0.03      0.04      0.03       500\n",
      "          15       0.04      0.05      0.05       500\n",
      "          16       0.04      0.03      0.03       500\n",
      "          17       0.04      0.04      0.04       500\n",
      "          18       0.05      0.05      0.05       500\n",
      "          19       0.05      0.05      0.05       500\n",
      "          20       0.05      0.06      0.05       500\n",
      "          21       0.03      0.03      0.03       500\n",
      "          22       0.03      0.04      0.04       500\n",
      "          23       0.04      0.04      0.04       500\n",
      "          24       0.05      0.05      0.05       500\n",
      "\n",
      "   micro avg       0.04      0.04      0.04     12000\n",
      "   macro avg       0.04      0.04      0.04     12000\n",
      "weighted avg       0.04      0.04      0.04     12000\n",
      "\n"
     ]
    }
   ],
   "source": [
    "print('Classification Report')\n",
    "target_names = ['1','2','3','4','5','6','7','8','9','10','11','12','13','14','15','16','17','18','19','20','21','22','23','24']\n",
    "print(classification_report(test_set.classes, y_pred, target_names=target_names))"
   ]
  },
  {
   "cell_type": "markdown",
   "metadata": {},
   "source": [
    "Vemos que la con peor es la 14 correspondiente a **pond** y la mejor la 24 correspondiente a **zen_garden**\n",
    "\n",
    "* pond: \n",
    "    <img src=\"./Places-25/test/pond/00000006.jpg\">\n",
    "    \n",
    "* zen_garden:\n",
    "    <img src=\"./Places-25/test/zen_garden/00000167.jpg\">\n",
    "\n",
    "\n",
    "Vemos que Zen Garden es muy facil de clasificar a simple vista, sin embargo pond puede ser  muy variante"
   ]
  },
  {
   "cell_type": "code",
   "execution_count": null,
   "metadata": {},
   "outputs": [],
   "source": []
  }
 ],
 "metadata": {
  "kernelspec": {
   "display_name": "Python 3",
   "language": "python",
   "name": "python3"
  },
  "language_info": {
   "codemirror_mode": {
    "name": "ipython",
    "version": 3
   },
   "file_extension": ".py",
   "mimetype": "text/x-python",
   "name": "python",
   "nbconvert_exporter": "python",
   "pygments_lexer": "ipython3",
   "version": "3.7.1"
  }
 },
 "nbformat": 4,
 "nbformat_minor": 2
}
